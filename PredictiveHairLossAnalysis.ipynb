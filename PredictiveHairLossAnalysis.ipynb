{
 "cells": [
  {
   "cell_type": "code",
   "execution_count": 1,
   "id": "2e360c2d-884b-441f-8a90-dfd0e02cd9c2",
   "metadata": {},
   "outputs": [],
   "source": [
    "import pandas as pd\n",
    "import numpy as np \n",
    "import seaborn as sns \n",
    "import matplotlib.pyplot as plt\n",
    "import os"
   ]
  },
  {
   "cell_type": "code",
   "execution_count": 2,
   "id": "698a983b",
   "metadata": {
    "scrolled": true
   },
   "outputs": [
    {
     "name": "stdout",
     "output_type": "stream",
     "text": [
      "/Users/emanoelagbayani/Desktop/ML/PredictiveHairLoss\n"
     ]
    }
   ],
   "source": [
    "print(os.getcwd())\n",
    "#to know where we are "
   ]
  },
  {
   "cell_type": "code",
   "execution_count": 3,
   "id": "0d39dd67",
   "metadata": {
    "scrolled": true
   },
   "outputs": [
    {
     "data": {
      "text/html": [
       "<div>\n",
       "<style scoped>\n",
       "    .dataframe tbody tr th:only-of-type {\n",
       "        vertical-align: middle;\n",
       "    }\n",
       "\n",
       "    .dataframe tbody tr th {\n",
       "        vertical-align: top;\n",
       "    }\n",
       "\n",
       "    .dataframe thead th {\n",
       "        text-align: right;\n",
       "    }\n",
       "</style>\n",
       "<table border=\"1\" class=\"dataframe\">\n",
       "  <thead>\n",
       "    <tr style=\"text-align: right;\">\n",
       "      <th></th>\n",
       "      <th>Id</th>\n",
       "      <th>Genetics</th>\n",
       "      <th>Hormonal Changes</th>\n",
       "      <th>Medical Conditions</th>\n",
       "      <th>Medications &amp; Treatments</th>\n",
       "      <th>Nutritional Deficiencies</th>\n",
       "      <th>Stress</th>\n",
       "      <th>Age</th>\n",
       "      <th>Poor Hair Care Habits</th>\n",
       "      <th>Environmental Factors</th>\n",
       "      <th>Smoking</th>\n",
       "      <th>Weight Loss</th>\n",
       "      <th>Hair Loss</th>\n",
       "    </tr>\n",
       "  </thead>\n",
       "  <tbody>\n",
       "    <tr>\n",
       "      <th>0</th>\n",
       "      <td>133992</td>\n",
       "      <td>Yes</td>\n",
       "      <td>No</td>\n",
       "      <td>No Data</td>\n",
       "      <td>No Data</td>\n",
       "      <td>Magnesium deficiency</td>\n",
       "      <td>Moderate</td>\n",
       "      <td>19</td>\n",
       "      <td>Yes</td>\n",
       "      <td>Yes</td>\n",
       "      <td>No</td>\n",
       "      <td>No</td>\n",
       "      <td>0</td>\n",
       "    </tr>\n",
       "    <tr>\n",
       "      <th>1</th>\n",
       "      <td>148393</td>\n",
       "      <td>No</td>\n",
       "      <td>No</td>\n",
       "      <td>Eczema</td>\n",
       "      <td>Antibiotics</td>\n",
       "      <td>Magnesium deficiency</td>\n",
       "      <td>High</td>\n",
       "      <td>43</td>\n",
       "      <td>Yes</td>\n",
       "      <td>Yes</td>\n",
       "      <td>No</td>\n",
       "      <td>No</td>\n",
       "      <td>0</td>\n",
       "    </tr>\n",
       "    <tr>\n",
       "      <th>2</th>\n",
       "      <td>155074</td>\n",
       "      <td>No</td>\n",
       "      <td>No</td>\n",
       "      <td>Dermatosis</td>\n",
       "      <td>Antifungal Cream</td>\n",
       "      <td>Protein deficiency</td>\n",
       "      <td>Moderate</td>\n",
       "      <td>26</td>\n",
       "      <td>Yes</td>\n",
       "      <td>Yes</td>\n",
       "      <td>No</td>\n",
       "      <td>Yes</td>\n",
       "      <td>0</td>\n",
       "    </tr>\n",
       "    <tr>\n",
       "      <th>3</th>\n",
       "      <td>118261</td>\n",
       "      <td>Yes</td>\n",
       "      <td>Yes</td>\n",
       "      <td>Ringworm</td>\n",
       "      <td>Antibiotics</td>\n",
       "      <td>Biotin Deficiency</td>\n",
       "      <td>Moderate</td>\n",
       "      <td>46</td>\n",
       "      <td>Yes</td>\n",
       "      <td>Yes</td>\n",
       "      <td>No</td>\n",
       "      <td>No</td>\n",
       "      <td>0</td>\n",
       "    </tr>\n",
       "    <tr>\n",
       "      <th>4</th>\n",
       "      <td>111915</td>\n",
       "      <td>No</td>\n",
       "      <td>No</td>\n",
       "      <td>Psoriasis</td>\n",
       "      <td>Accutane</td>\n",
       "      <td>Iron deficiency</td>\n",
       "      <td>Moderate</td>\n",
       "      <td>30</td>\n",
       "      <td>No</td>\n",
       "      <td>Yes</td>\n",
       "      <td>Yes</td>\n",
       "      <td>No</td>\n",
       "      <td>1</td>\n",
       "    </tr>\n",
       "  </tbody>\n",
       "</table>\n",
       "</div>"
      ],
      "text/plain": [
       "       Id Genetics Hormonal Changes Medical Conditions  \\\n",
       "0  133992      Yes               No            No Data   \n",
       "1  148393       No               No             Eczema   \n",
       "2  155074       No               No         Dermatosis   \n",
       "3  118261      Yes              Yes           Ringworm   \n",
       "4  111915       No               No          Psoriasis   \n",
       "\n",
       "  Medications & Treatments Nutritional Deficiencies     Stress  Age  \\\n",
       "0                  No Data      Magnesium deficiency  Moderate   19   \n",
       "1              Antibiotics      Magnesium deficiency      High   43   \n",
       "2         Antifungal Cream        Protein deficiency  Moderate   26   \n",
       "3              Antibiotics        Biotin Deficiency   Moderate   46   \n",
       "4                 Accutane           Iron deficiency  Moderate   30   \n",
       "\n",
       "  Poor Hair Care Habits  Environmental Factors Smoking Weight Loss   Hair Loss  \n",
       "0                    Yes                   Yes      No           No          0  \n",
       "1                    Yes                   Yes      No           No          0  \n",
       "2                    Yes                   Yes      No          Yes          0  \n",
       "3                    Yes                   Yes      No           No          0  \n",
       "4                     No                   Yes     Yes           No          1  "
      ]
     },
     "execution_count": 3,
     "metadata": {},
     "output_type": "execute_result"
    }
   ],
   "source": [
    "df = pd.read_csv(\"Predict Hair Fall.csv\")\n",
    "df.head()"
   ]
  },
  {
   "cell_type": "code",
   "execution_count": 4,
   "id": "68f48e2b-d6d3-4f3f-adf9-83cd48503bb5",
   "metadata": {},
   "outputs": [
    {
     "data": {
      "text/plain": [
       "array(['No Data', 'Eczema', 'Dermatosis', 'Ringworm', 'Psoriasis',\n",
       "       'Alopecia Areata ', 'Scalp Infection', 'Seborrheic Dermatitis',\n",
       "       'Dermatitis', 'Thyroid Problems', 'Androgenetic Alopecia'],\n",
       "      dtype=object)"
      ]
     },
     "execution_count": 4,
     "metadata": {},
     "output_type": "execute_result"
    }
   ],
   "source": [
    "df['Medical Conditions'].unique()\n",
    "#shows us the unique values of medical conditions"
   ]
  },
  {
   "cell_type": "code",
   "execution_count": 5,
   "id": "472dc4ea",
   "metadata": {},
   "outputs": [
    {
     "name": "stdout",
     "output_type": "stream",
     "text": [
      "<class 'pandas.core.frame.DataFrame'>\n",
      "RangeIndex: 999 entries, 0 to 998\n",
      "Data columns (total 13 columns):\n",
      " #   Column                     Non-Null Count  Dtype \n",
      "---  ------                     --------------  ----- \n",
      " 0   Id                         999 non-null    int64 \n",
      " 1   Genetics                   999 non-null    object\n",
      " 2   Hormonal Changes           999 non-null    object\n",
      " 3   Medical Conditions         999 non-null    object\n",
      " 4   Medications & Treatments   999 non-null    object\n",
      " 5   Nutritional Deficiencies   999 non-null    object\n",
      " 6   Stress                     999 non-null    object\n",
      " 7   Age                        999 non-null    int64 \n",
      " 8   Poor Hair Care Habits      999 non-null    object\n",
      " 9   Environmental Factors      999 non-null    object\n",
      " 10  Smoking                    999 non-null    object\n",
      " 11  Weight Loss                999 non-null    object\n",
      " 12  Hair Loss                  999 non-null    int64 \n",
      "dtypes: int64(3), object(10)\n",
      "memory usage: 101.6+ KB\n"
     ]
    }
   ],
   "source": [
    "df.info()\n",
    "#shows us the column names, index #'s, and what type of value are in the columns"
   ]
  },
  {
   "cell_type": "code",
   "execution_count": 6,
   "id": "1dd583c2",
   "metadata": {},
   "outputs": [
    {
     "data": {
      "text/html": [
       "<div>\n",
       "<style scoped>\n",
       "    .dataframe tbody tr th:only-of-type {\n",
       "        vertical-align: middle;\n",
       "    }\n",
       "\n",
       "    .dataframe tbody tr th {\n",
       "        vertical-align: top;\n",
       "    }\n",
       "\n",
       "    .dataframe thead th {\n",
       "        text-align: right;\n",
       "    }\n",
       "</style>\n",
       "<table border=\"1\" class=\"dataframe\">\n",
       "  <thead>\n",
       "    <tr style=\"text-align: right;\">\n",
       "      <th></th>\n",
       "      <th>Id</th>\n",
       "      <th>Age</th>\n",
       "      <th>Hair Loss</th>\n",
       "    </tr>\n",
       "  </thead>\n",
       "  <tbody>\n",
       "    <tr>\n",
       "      <th>count</th>\n",
       "      <td>999.000000</td>\n",
       "      <td>999.000000</td>\n",
       "      <td>999.000000</td>\n",
       "    </tr>\n",
       "    <tr>\n",
       "      <th>mean</th>\n",
       "      <td>153354.673674</td>\n",
       "      <td>34.188188</td>\n",
       "      <td>0.497497</td>\n",
       "    </tr>\n",
       "    <tr>\n",
       "      <th>std</th>\n",
       "      <td>25516.041985</td>\n",
       "      <td>9.377980</td>\n",
       "      <td>0.500244</td>\n",
       "    </tr>\n",
       "    <tr>\n",
       "      <th>min</th>\n",
       "      <td>110003.000000</td>\n",
       "      <td>18.000000</td>\n",
       "      <td>0.000000</td>\n",
       "    </tr>\n",
       "    <tr>\n",
       "      <th>25%</th>\n",
       "      <td>131867.500000</td>\n",
       "      <td>26.000000</td>\n",
       "      <td>0.000000</td>\n",
       "    </tr>\n",
       "    <tr>\n",
       "      <th>50%</th>\n",
       "      <td>152951.000000</td>\n",
       "      <td>34.000000</td>\n",
       "      <td>0.000000</td>\n",
       "    </tr>\n",
       "    <tr>\n",
       "      <th>75%</th>\n",
       "      <td>174969.000000</td>\n",
       "      <td>42.000000</td>\n",
       "      <td>1.000000</td>\n",
       "    </tr>\n",
       "    <tr>\n",
       "      <th>max</th>\n",
       "      <td>199949.000000</td>\n",
       "      <td>50.000000</td>\n",
       "      <td>1.000000</td>\n",
       "    </tr>\n",
       "  </tbody>\n",
       "</table>\n",
       "</div>"
      ],
      "text/plain": [
       "                  Id         Age   Hair Loss\n",
       "count     999.000000  999.000000  999.000000\n",
       "mean   153354.673674   34.188188    0.497497\n",
       "std     25516.041985    9.377980    0.500244\n",
       "min    110003.000000   18.000000    0.000000\n",
       "25%    131867.500000   26.000000    0.000000\n",
       "50%    152951.000000   34.000000    0.000000\n",
       "75%    174969.000000   42.000000    1.000000\n",
       "max    199949.000000   50.000000    1.000000"
      ]
     },
     "execution_count": 6,
     "metadata": {},
     "output_type": "execute_result"
    }
   ],
   "source": [
    "df.describe()\n",
    "#gives us stats on our numeric values\n",
    "#we only care abt age and hairloss b/c ID is unique to each person and has no relationship"
   ]
  },
  {
   "cell_type": "code",
   "execution_count": 7,
   "id": "5052ded5",
   "metadata": {},
   "outputs": [
    {
     "data": {
      "text/plain": [
       "Id                           0\n",
       "Genetics                     0\n",
       "Hormonal Changes             0\n",
       "Medical Conditions           0\n",
       "Medications & Treatments     0\n",
       "Nutritional Deficiencies     0\n",
       "Stress                       0\n",
       "Age                          0\n",
       "Poor Hair Care Habits        0\n",
       "Environmental Factors        0\n",
       "Smoking                      0\n",
       "Weight Loss                  0\n",
       "Hair Loss                    0\n",
       "dtype: int64"
      ]
     },
     "execution_count": 7,
     "metadata": {},
     "output_type": "execute_result"
    }
   ],
   "source": [
    "df.isnull().sum()\n",
    "#checks to see if we have any null data values in any columns"
   ]
  },
  {
   "cell_type": "code",
   "execution_count": 8,
   "id": "7dd02ac0-4dd2-406a-9543-fe747cca15cd",
   "metadata": {},
   "outputs": [],
   "source": [
    "#Basic EDA"
   ]
  },
  {
   "cell_type": "code",
   "execution_count": 9,
   "id": "5e0296c4-6dd3-4dc7-94b4-b996da334649",
   "metadata": {},
   "outputs": [
    {
     "data": {
      "text/plain": [
       "<AxesSubplot:xlabel='Age', ylabel='Count'>"
      ]
     },
     "execution_count": 9,
     "metadata": {},
     "output_type": "execute_result"
    },
    {
     "data": {
      "image/png": "[encoded data removed]",
      "text/plain": [
       "<Figure size 640x480 with 1 Axes>"
      ]
     },
     "metadata": {},
     "output_type": "display_data"
    }
   ],
   "source": [
    "sns.histplot(data=df, x=df['Age'],discrete=True)\n",
    "#histplot showing the distribution of ages, a diverse amount of ages"
   ]
  },
  {
   "cell_type": "code",
   "execution_count": 10,
   "id": "b82b151b-0f65-4182-92d0-c3bdb8e596d8",
   "metadata": {},
   "outputs": [
    {
     "data": {
      "text/plain": [
       "<AxesSubplot:xlabel='Count', ylabel='Medical Conditions'>"
      ]
     },
     "execution_count": 10,
     "metadata": {},
     "output_type": "execute_result"
    },
    {
     "data": {
      "image/png": "[encoded data removed]",
      "text/plain": [
       "<Figure size 640x480 with 1 Axes>"
      ]
     },
     "metadata": {},
     "output_type": "display_data"
    }
   ],
   "source": [
    "sns.histplot(data=df, y='Medical Conditions')\n",
    "#shows us the count of each medication condition\n",
    "#around 140 people have no medical conditions"
   ]
  },
  {
   "cell_type": "code",
   "execution_count": 11,
   "id": "d59623cb-a00d-434a-98be-5705b6322881",
   "metadata": {},
   "outputs": [
    {
     "data": {
      "text/plain": [
       "<AxesSubplot:xlabel='Count', ylabel='Stress'>"
      ]
     },
     "execution_count": 11,
     "metadata": {},
     "output_type": "execute_result"
    },
    {
     "data": {
      "image/png": "[encoded data removed]",
      "text/plain": [
       "<Figure size 640x480 with 1 Axes>"
      ]
     },
     "metadata": {},
     "output_type": "display_data"
    }
   ],
   "source": [
    "sns.histplot(data=df, y='Stress')\n",
    "#shows us the levels of stress\n",
    "#moderate is the higehst"
   ]
  },
  {
   "cell_type": "code",
   "execution_count": 12,
   "id": "9d8ec1c9-4974-4c31-a80c-309aad3afe91",
   "metadata": {},
   "outputs": [
    {
     "data": {
      "text/plain": [
       "Index(['Id', 'Genetics', 'Hormonal Changes', 'Medical Conditions',\n",
       "       'Medications & Treatments', 'Nutritional Deficiencies ', 'Stress',\n",
       "       'Age', 'Poor Hair Care Habits ', 'Environmental Factors', 'Smoking',\n",
       "       'Weight Loss ', 'Hair Loss'],\n",
       "      dtype='object')"
      ]
     },
     "execution_count": 12,
     "metadata": {},
     "output_type": "execute_result"
    }
   ],
   "source": [
    "df.columns"
   ]
  },
  {
   "cell_type": "code",
   "execution_count": 13,
   "id": "c9ac2020-c5c1-470b-b6d0-d620a60194fa",
   "metadata": {},
   "outputs": [
    {
     "data": {
      "image/png": "[encoded data removed]",
      "text/plain": [
       "<Figure size 975x1200 with 1 Axes>"
      ]
     },
     "metadata": {},
     "output_type": "display_data"
    }
   ],
   "source": [
    "medical_conditions_count = df.groupby('Age')['Medical Conditions'].count().reset_index(name='Medical Conditions')\n",
    "\n",
    "plt.figure(figsize=(6.5,8),dpi=150)\n",
    "sns.barplot(data = medical_conditions_count,\n",
    "            x='Age',y='Medical Conditions')\n",
    "plt.xticks(rotation=90);"
   ]
  },
  {
   "cell_type": "code",
   "execution_count": 14,
   "id": "39c90a29-8d3f-4c07-9ff4-3f5921aa77de",
   "metadata": {},
   "outputs": [
    {
     "data": {
      "text/plain": [
       "No Data                  15\n",
       "Alopecia Areata           3\n",
       "Dermatitis                3\n",
       "Ringworm                  3\n",
       "Psoriasis                 2\n",
       "Thyroid Problems          2\n",
       "Seborrheic Dermatitis     2\n",
       "Scalp Infection           2\n",
       "Eczema                    1\n",
       "Name: Medical Conditions, dtype: int64"
      ]
     },
     "execution_count": 14,
     "metadata": {},
     "output_type": "execute_result"
    }
   ],
   "source": [
    "df[df['Age']==18]['Medical Conditions'].value_counts()"
   ]
  },
  {
   "cell_type": "code",
   "execution_count": 15,
   "id": "f04ab43f-a982-4db7-a832-4d059e8522bb",
   "metadata": {},
   "outputs": [
    {
     "data": {
      "text/plain": [
       "<matplotlib.legend.Legend at 0x7f8578672c10>"
      ]
     },
     "execution_count": 15,
     "metadata": {},
     "output_type": "execute_result"
    },
    {
     "data": {
      "image/png": "[encoded data removed]",
      "text/plain": [
       "<Figure size 640x480 with 1 Axes>"
      ]
     },
     "metadata": {},
     "output_type": "display_data"
    }
   ],
   "source": [
    "sns.barplot(data=df,x='Age',y='Stress',hue='Hair Loss',\n",
    "           palette='viridis')\n",
    "plt.legend(loc=(1.05,.75))"
   ]
  },
  {
   "cell_type": "code",
   "execution_count": 16,
   "id": "54666b3f-c608-4285-8937-435a6d94f677",
   "metadata": {},
   "outputs": [
    {
     "data": {
      "image/png": "[encoded data removed]",
      "text/plain": [
       "<Figure size 2400x2000 with 1 Axes>"
      ]
     },
     "metadata": {},
     "output_type": "display_data"
    }
   ],
   "source": [
    "plt.figure(figsize=(12,10),dpi=200)\n",
    "hormonal_changes_count = df.groupby('Age')['Hormonal Changes'].count().reset_index(name='Hormonal Changes')\n",
    "sns_plot = sns.barplot(data=hormonal_changes_count, x='Age', y='Hormonal Changes')\n",
    "plt.xticks(rotation=90);\n",
    "fig = sns_plot.get_figure()\n",
    "fig.savefig(\"test-1.png\")\n",
    "#there is a surprising amount of hormonal changes for "
   ]
  },
  {
   "cell_type": "code",
   "execution_count": 17,
   "id": "aed41bed-507a-432f-8729-c7519652f922",
   "metadata": {},
   "outputs": [
    {
     "data": {
      "text/plain": [
       "0      19\n",
       "1      43\n",
       "2      26\n",
       "3      46\n",
       "4      30\n",
       "       ..\n",
       "994    33\n",
       "995    47\n",
       "996    20\n",
       "997    32\n",
       "998    34\n",
       "Name: Age, Length: 999, dtype: int64"
      ]
     },
     "execution_count": 17,
     "metadata": {},
     "output_type": "execute_result"
    }
   ],
   "source": [
    "df['Age']"
   ]
  },
  {
   "cell_type": "code",
   "execution_count": 18,
   "id": "951257f6-de36-4105-b499-0a19f70bcc1c",
   "metadata": {},
   "outputs": [],
   "source": [
    "#creating a function that will sort ppl into 18-24, 25-34,35-50: i choose these values because these are normal age ranges \n",
    "def age_grp(age):\n",
    "    if age <=24:\n",
    "        return ('18-24')\n",
    "    elif 25 <= age <= 34:\n",
    "        return ('25-34')\n",
    "    elif 35 <= age <= 44:\n",
    "        return ('35-44')\n",
    "    else:\n",
    "        return ('45-50')"
   ]
  },
  {
   "cell_type": "code",
   "execution_count": 19,
   "id": "41f6daba-941c-47bf-8b4d-184b3e0280a0",
   "metadata": {},
   "outputs": [
    {
     "data": {
      "text/plain": [
       "array(['18-24', '35-44', '25-34', '45-50'], dtype=object)"
      ]
     },
     "execution_count": 19,
     "metadata": {},
     "output_type": "execute_result"
    }
   ],
   "source": [
    "#we have added an Age Group column which will give us insight into which age groups are most likely to have certain characteristics\n",
    "#rather than individual ages\n",
    "df['Age Group'] = df['Age'].apply(age_grp)\n",
    "df['Age Group'].unique()"
   ]
  },
  {
   "cell_type": "code",
   "execution_count": 20,
   "id": "3ad48f03-30fb-4d43-98ef-d9293286be92",
   "metadata": {},
   "outputs": [
    {
     "data": {
      "text/plain": [
       "<AxesSubplot:xlabel='Age Group', ylabel='count'>"
      ]
     },
     "execution_count": 20,
     "metadata": {},
     "output_type": "execute_result"
    },
    {
     "data": {
      "image/png": "[encoded data removed]",
      "text/plain": [
       "<Figure size 640x480 with 1 Axes>"
      ]
     },
     "metadata": {},
     "output_type": "display_data"
    }
   ],
   "source": [
    "#let's see which age group is the most prominent in the dataset\n",
    "sns.countplot(data=df, x='Age Group', order=['18-24','25-34','35-44','45-50'])\n",
    "#as we can see the 35-44 seems the be the winner, though let's see the proportion of how much pf the dataset they take for each age"
   ]
  },
  {
   "cell_type": "code",
   "execution_count": 21,
   "id": "74f4076c-56eb-4a06-9a96-ba378f8dbdc7",
   "metadata": {},
   "outputs": [
    {
     "data": {
      "text/plain": [
       "Index(['Id', 'Genetics', 'Hormonal Changes', 'Medical Conditions',\n",
       "       'Medications & Treatments', 'Nutritional Deficiencies ', 'Stress',\n",
       "       'Age', 'Poor Hair Care Habits ', 'Environmental Factors', 'Smoking',\n",
       "       'Weight Loss ', 'Hair Loss', 'Age Group'],\n",
       "      dtype='object')"
      ]
     },
     "execution_count": 21,
     "metadata": {},
     "output_type": "execute_result"
    }
   ],
   "source": [
    "df.columns"
   ]
  },
  {
   "cell_type": "code",
   "execution_count": 22,
   "id": "01032704-2c5c-420b-9edd-9fda89f4a62e",
   "metadata": {},
   "outputs": [
    {
     "name": "stderr",
     "output_type": "stream",
     "text": [
      "/var/folders/t7/yzhm8wv11hs_5d74nv09gtlm0000gn/T/ipykernel_53415/789927655.py:5: SettingWithCopyWarning: \n",
      "A value is trying to be set on a copy of a slice from a DataFrame.\n",
      "Try using .loc[row_indexer,col_indexer] = value instead\n",
      "\n",
      "See the caveats in the documentation: https://pandas.pydata.org/pandas-docs/stable/user_guide/indexing.html#returning-a-view-versus-a-copy\n",
      "  real_df['Stress_Num'] = real_df['Stress'].apply(lambda x: 1 if x == 'Low' else (2 if x == 'Moderate' else 3))\n",
      "/var/folders/t7/yzhm8wv11hs_5d74nv09gtlm0000gn/T/ipykernel_53415/789927655.py:6: SettingWithCopyWarning: \n",
      "A value is trying to be set on a copy of a slice from a DataFrame.\n",
      "Try using .loc[row_indexer,col_indexer] = value instead\n",
      "\n",
      "See the caveats in the documentation: https://pandas.pydata.org/pandas-docs/stable/user_guide/indexing.html#returning-a-view-versus-a-copy\n",
      "  test_df['Stress_Num'] = real_df['Stress'].apply(lambda x: 1 if x == 'Low' else (2 if x == 'Moderate' else 3))\n"
     ]
    },
    {
     "data": {
      "text/html": [
       "<div>\n",
       "<style scoped>\n",
       "    .dataframe tbody tr th:only-of-type {\n",
       "        vertical-align: middle;\n",
       "    }\n",
       "\n",
       "    .dataframe tbody tr th {\n",
       "        vertical-align: top;\n",
       "    }\n",
       "\n",
       "    .dataframe thead th {\n",
       "        text-align: right;\n",
       "    }\n",
       "</style>\n",
       "<table border=\"1\" class=\"dataframe\">\n",
       "  <thead>\n",
       "    <tr style=\"text-align: right;\">\n",
       "      <th></th>\n",
       "      <th>Age Group</th>\n",
       "      <th>Stress</th>\n",
       "      <th>Hair Loss</th>\n",
       "      <th>Stress_Num</th>\n",
       "    </tr>\n",
       "  </thead>\n",
       "  <tbody>\n",
       "    <tr>\n",
       "      <th>0</th>\n",
       "      <td>18-24</td>\n",
       "      <td>Moderate</td>\n",
       "      <td>0</td>\n",
       "      <td>2</td>\n",
       "    </tr>\n",
       "    <tr>\n",
       "      <th>1</th>\n",
       "      <td>35-44</td>\n",
       "      <td>High</td>\n",
       "      <td>0</td>\n",
       "      <td>3</td>\n",
       "    </tr>\n",
       "    <tr>\n",
       "      <th>2</th>\n",
       "      <td>25-34</td>\n",
       "      <td>Moderate</td>\n",
       "      <td>0</td>\n",
       "      <td>2</td>\n",
       "    </tr>\n",
       "    <tr>\n",
       "      <th>3</th>\n",
       "      <td>45-50</td>\n",
       "      <td>Moderate</td>\n",
       "      <td>0</td>\n",
       "      <td>2</td>\n",
       "    </tr>\n",
       "    <tr>\n",
       "      <th>4</th>\n",
       "      <td>25-34</td>\n",
       "      <td>Moderate</td>\n",
       "      <td>1</td>\n",
       "      <td>2</td>\n",
       "    </tr>\n",
       "    <tr>\n",
       "      <th>...</th>\n",
       "      <td>...</td>\n",
       "      <td>...</td>\n",
       "      <td>...</td>\n",
       "      <td>...</td>\n",
       "    </tr>\n",
       "    <tr>\n",
       "      <th>994</th>\n",
       "      <td>25-34</td>\n",
       "      <td>Low</td>\n",
       "      <td>1</td>\n",
       "      <td>1</td>\n",
       "    </tr>\n",
       "    <tr>\n",
       "      <th>995</th>\n",
       "      <td>45-50</td>\n",
       "      <td>Low</td>\n",
       "      <td>0</td>\n",
       "      <td>1</td>\n",
       "    </tr>\n",
       "    <tr>\n",
       "      <th>996</th>\n",
       "      <td>18-24</td>\n",
       "      <td>Moderate</td>\n",
       "      <td>1</td>\n",
       "      <td>2</td>\n",
       "    </tr>\n",
       "    <tr>\n",
       "      <th>997</th>\n",
       "      <td>25-34</td>\n",
       "      <td>Moderate</td>\n",
       "      <td>1</td>\n",
       "      <td>2</td>\n",
       "    </tr>\n",
       "    <tr>\n",
       "      <th>998</th>\n",
       "      <td>25-34</td>\n",
       "      <td>Low</td>\n",
       "      <td>1</td>\n",
       "      <td>1</td>\n",
       "    </tr>\n",
       "  </tbody>\n",
       "</table>\n",
       "<p>999 rows × 4 columns</p>\n",
       "</div>"
      ],
      "text/plain": [
       "    Age Group    Stress  Hair Loss  Stress_Num\n",
       "0       18-24  Moderate          0           2\n",
       "1       35-44      High          0           3\n",
       "2       25-34  Moderate          0           2\n",
       "3       45-50  Moderate          0           2\n",
       "4       25-34  Moderate          1           2\n",
       "..        ...       ...        ...         ...\n",
       "994     25-34       Low          1           1\n",
       "995     45-50       Low          0           1\n",
       "996     18-24  Moderate          1           2\n",
       "997     25-34  Moderate          1           2\n",
       "998     25-34       Low          1           1\n",
       "\n",
       "[999 rows x 4 columns]"
      ]
     },
     "execution_count": 22,
     "metadata": {},
     "output_type": "execute_result"
    }
   ],
   "source": [
    "test_df = df[['Age','Age Group', 'Genetics','Hormonal Changes','Medications & Treatments',\n",
    "              'Nutritional Deficiencies ', 'Medical Conditions','Stress','Smoking','Weight Loss ','Hair Loss']]\n",
    "test_df\n",
    "real_df = test_df[['Age Group', 'Stress','Hair Loss']]\n",
    "real_df['Stress_Num'] = real_df['Stress'].apply(lambda x: 1 if x == 'Low' else (2 if x == 'Moderate' else 3))\n",
    "test_df['Stress_Num'] = real_df['Stress'].apply(lambda x: 1 if x == 'Low' else (2 if x == 'Moderate' else 3))\n",
    "real_df.groupby(['Age Group', 'Stress_Num']).size().unstack(fill_value=0)\n",
    "real_df"
   ]
  },
  {
   "cell_type": "code",
   "execution_count": 23,
   "id": "e5baae0b-d5eb-48b5-b089-2c7ba25d0a3a",
   "metadata": {},
   "outputs": [
    {
     "data": {
      "text/plain": [
       "<AxesSubplot:xlabel='Age Group', ylabel='count'>"
      ]
     },
     "execution_count": 23,
     "metadata": {},
     "output_type": "execute_result"
    },
    {
     "data": {
      "image/png": "[encoded data removed]",
      "text/plain": [
       "<Figure size 640x480 with 1 Axes>"
      ]
     },
     "metadata": {},
     "output_type": "display_data"
    }
   ],
   "source": [
    "sns.countplot(data=real_df, x='Age Group', hue='Stress_Num')\n",
    "#despite this, we need to see the proportion in accordance to its age group"
   ]
  },
  {
   "cell_type": "code",
   "execution_count": 24,
   "id": "7f649201-b3fa-4768-82b1-f62868d469db",
   "metadata": {},
   "outputs": [
    {
     "data": {
      "text/html": [
       "<div>\n",
       "<style scoped>\n",
       "    .dataframe tbody tr th:only-of-type {\n",
       "        vertical-align: middle;\n",
       "    }\n",
       "\n",
       "    .dataframe tbody tr th {\n",
       "        vertical-align: top;\n",
       "    }\n",
       "\n",
       "    .dataframe thead th {\n",
       "        text-align: right;\n",
       "    }\n",
       "</style>\n",
       "<table border=\"1\" class=\"dataframe\">\n",
       "  <thead>\n",
       "    <tr style=\"text-align: right;\">\n",
       "      <th></th>\n",
       "      <th>Age Group</th>\n",
       "      <th>Stress</th>\n",
       "      <th>Hair Loss</th>\n",
       "      <th>Stress_Num</th>\n",
       "      <th>stress_age_prop</th>\n",
       "    </tr>\n",
       "  </thead>\n",
       "  <tbody>\n",
       "    <tr>\n",
       "      <th>0</th>\n",
       "      <td>18-24</td>\n",
       "      <td>Moderate</td>\n",
       "      <td>0</td>\n",
       "      <td>2</td>\n",
       "      <td>0.320197</td>\n",
       "    </tr>\n",
       "    <tr>\n",
       "      <th>1</th>\n",
       "      <td>35-44</td>\n",
       "      <td>High</td>\n",
       "      <td>0</td>\n",
       "      <td>3</td>\n",
       "      <td>0.314935</td>\n",
       "    </tr>\n",
       "    <tr>\n",
       "      <th>2</th>\n",
       "      <td>25-34</td>\n",
       "      <td>Moderate</td>\n",
       "      <td>0</td>\n",
       "      <td>2</td>\n",
       "      <td>0.370492</td>\n",
       "    </tr>\n",
       "    <tr>\n",
       "      <th>3</th>\n",
       "      <td>45-50</td>\n",
       "      <td>Moderate</td>\n",
       "      <td>0</td>\n",
       "      <td>2</td>\n",
       "      <td>0.377049</td>\n",
       "    </tr>\n",
       "    <tr>\n",
       "      <th>4</th>\n",
       "      <td>25-34</td>\n",
       "      <td>Moderate</td>\n",
       "      <td>1</td>\n",
       "      <td>2</td>\n",
       "      <td>0.370492</td>\n",
       "    </tr>\n",
       "    <tr>\n",
       "      <th>...</th>\n",
       "      <td>...</td>\n",
       "      <td>...</td>\n",
       "      <td>...</td>\n",
       "      <td>...</td>\n",
       "      <td>...</td>\n",
       "    </tr>\n",
       "    <tr>\n",
       "      <th>994</th>\n",
       "      <td>25-34</td>\n",
       "      <td>Low</td>\n",
       "      <td>1</td>\n",
       "      <td>1</td>\n",
       "      <td>0.334426</td>\n",
       "    </tr>\n",
       "    <tr>\n",
       "      <th>995</th>\n",
       "      <td>45-50</td>\n",
       "      <td>Low</td>\n",
       "      <td>0</td>\n",
       "      <td>1</td>\n",
       "      <td>0.273224</td>\n",
       "    </tr>\n",
       "    <tr>\n",
       "      <th>996</th>\n",
       "      <td>18-24</td>\n",
       "      <td>Moderate</td>\n",
       "      <td>1</td>\n",
       "      <td>2</td>\n",
       "      <td>0.320197</td>\n",
       "    </tr>\n",
       "    <tr>\n",
       "      <th>997</th>\n",
       "      <td>25-34</td>\n",
       "      <td>Moderate</td>\n",
       "      <td>1</td>\n",
       "      <td>2</td>\n",
       "      <td>0.370492</td>\n",
       "    </tr>\n",
       "    <tr>\n",
       "      <th>998</th>\n",
       "      <td>25-34</td>\n",
       "      <td>Low</td>\n",
       "      <td>1</td>\n",
       "      <td>1</td>\n",
       "      <td>0.334426</td>\n",
       "    </tr>\n",
       "  </tbody>\n",
       "</table>\n",
       "<p>999 rows × 5 columns</p>\n",
       "</div>"
      ],
      "text/plain": [
       "    Age Group    Stress  Hair Loss  Stress_Num  stress_age_prop\n",
       "0       18-24  Moderate          0           2         0.320197\n",
       "1       35-44      High          0           3         0.314935\n",
       "2       25-34  Moderate          0           2         0.370492\n",
       "3       45-50  Moderate          0           2         0.377049\n",
       "4       25-34  Moderate          1           2         0.370492\n",
       "..        ...       ...        ...         ...              ...\n",
       "994     25-34       Low          1           1         0.334426\n",
       "995     45-50       Low          0           1         0.273224\n",
       "996     18-24  Moderate          1           2         0.320197\n",
       "997     25-34  Moderate          1           2         0.370492\n",
       "998     25-34       Low          1           1         0.334426\n",
       "\n",
       "[999 rows x 5 columns]"
      ]
     },
     "execution_count": 24,
     "metadata": {},
     "output_type": "execute_result"
    }
   ],
   "source": [
    "grouped = real_df.groupby(['Age Group', 'Stress_Num']).size().reset_index(name='Count')\n",
    "\n",
    "total_counts = real_df['Age Group'].value_counts().reset_index()\n",
    "total_counts.columns = ['Age Group', 'Total']\n",
    "\n",
    "merged = grouped.merge(total_counts, on='Age Group')\n",
    "\n",
    "merged['stress_age_prop'] = merged['Count'] / merged['Total']\n",
    "\n",
    "merged = merged[['Age Group', 'Stress_Num', 'stress_age_prop']]\n",
    "real_df = real_df.merge(merged, on=['Age Group', 'Stress_Num'], how='left')\n",
    "real_df"
   ]
  },
  {
   "cell_type": "code",
   "execution_count": 25,
   "id": "90cc000b-8759-4f7b-bf75-4ec32b3a875d",
   "metadata": {},
   "outputs": [
    {
     "data": {
      "text/plain": [
       "<seaborn.axisgrid.FacetGrid at 0x7f856975f9d0>"
      ]
     },
     "execution_count": 25,
     "metadata": {},
     "output_type": "execute_result"
    },
    {
     "data": {
      "image/png": "[encoded data removed]",
      "text/plain": [
       "<Figure size 593.236x500 with 1 Axes>"
      ]
     },
     "metadata": {},
     "output_type": "display_data"
    }
   ],
   "source": [
    "sns.catplot(data=real_df, kind='bar',x='Age Group',y='stress_age_prop', hue='Stress_Num')\n",
    "#based on this visualization, we can see the proportion of stress in accordance to their age group"
   ]
  },
  {
   "cell_type": "code",
   "execution_count": 26,
   "id": "6cd57346-4d4f-47e6-8172-41627d2ca1be",
   "metadata": {},
   "outputs": [
    {
     "data": {
      "text/plain": [
       "0.05685213599289346"
      ]
     },
     "execution_count": 26,
     "metadata": {},
     "output_type": "execute_result"
    }
   ],
   "source": [
    "#the only definitive metric we can get out of this is that 45-50 have more moderate stress than 18-24 by a huge margin\n",
    "#due to this, let's find the difference \n",
    "grouped2 = real_df.groupby(['Age Group', 'Stress_Num'])['stress_age_prop'].mean().reset_index()\n",
    "\n",
    "# Extract the proportions for Moderate Stress (Stress_Num = 2) in 45-50 and 18-24\n",
    "moderate_45_50 = grouped2[(grouped2['Age Group'] == '45-50') & (grouped2['Stress_Num'] == 2)]['stress_age_prop'].values[0]\n",
    "moderate_18_24 = grouped2[(grouped2['Age Group'] == '18-24') & (grouped2['Stress_Num'] == 2)]['stress_age_prop'].values[0]\n",
    "\n",
    "# Calculate the difference\n",
    "difference = moderate_45_50 - moderate_18_24\n",
    "difference"
   ]
  },
  {
   "cell_type": "code",
   "execution_count": 27,
   "id": "04c14aa6-1a50-49c2-ac6e-729bd584025c",
   "metadata": {},
   "outputs": [],
   "source": [
    "#with this, we can see that the difference is .06 which is 6% difference"
   ]
  },
  {
   "cell_type": "code",
   "execution_count": null,
   "id": "9378d42c-6c33-4cfc-8eb9-45a45a698a4b",
   "metadata": {},
   "outputs": [],
   "source": []
  },
  {
   "cell_type": "code",
   "execution_count": null,
   "id": "6ec8b31e-d88f-46ee-91d2-a664b6f1c7d1",
   "metadata": {},
   "outputs": [],
   "source": []
  },
  {
   "cell_type": "code",
   "execution_count": null,
   "id": "ad90b23e-19e2-4656-917f-e553fe782576",
   "metadata": {},
   "outputs": [],
   "source": []
  },
  {
   "cell_type": "code",
   "execution_count": 28,
   "id": "af76eba0",
   "metadata": {},
   "outputs": [
    {
     "data": {
      "text/plain": [
       "array(['No Data', 'Eczema', 'Dermatosis', 'Ringworm', 'Psoriasis',\n",
       "       'Alopecia Areata ', 'Scalp Infection', 'Seborrheic Dermatitis',\n",
       "       'Dermatitis', 'Thyroid Problems', 'Androgenetic Alopecia'],\n",
       "      dtype=object)"
      ]
     },
     "execution_count": 28,
     "metadata": {},
     "output_type": "execute_result"
    }
   ],
   "source": [
    "df['Medical Conditions'].unique()"
   ]
  },
  {
   "cell_type": "code",
   "execution_count": 29,
   "id": "7b901f7d-89ec-4456-99b3-3cc03b4e6703",
   "metadata": {},
   "outputs": [
    {
     "data": {
      "text/plain": [
       "<matplotlib.legend.Legend at 0x7f8568eee3a0>"
      ]
     },
     "execution_count": 29,
     "metadata": {},
     "output_type": "execute_result"
    },
    {
     "data": {
      "image/png": "[encoded data removed]",
      "text/plain": [
       "<Figure size 640x480 with 1 Axes>"
      ]
     },
     "metadata": {},
     "output_type": "display_data"
    }
   ],
   "source": [
    "sns.countplot(data=test_df,x='Age Group', hue='Hair Loss')\n",
    "plt.xticks(rotation=90);\n",
    "plt.legend(loc=(1.05,0.85))"
   ]
  },
  {
   "cell_type": "code",
   "execution_count": null,
   "id": "2e25a851-0d81-4186-b75e-fd4e754ff456",
   "metadata": {},
   "outputs": [],
   "source": []
  },
  {
   "cell_type": "code",
   "execution_count": null,
   "id": "217bc66f-2f7c-43fc-9703-549c7df27a0a",
   "metadata": {},
   "outputs": [],
   "source": []
  },
  {
   "cell_type": "code",
   "execution_count": null,
   "id": "c0bf38e5-6c47-4449-904b-fe2e285bebcb",
   "metadata": {},
   "outputs": [],
   "source": []
  },
  {
   "cell_type": "code",
   "execution_count": 30,
   "id": "65a8ddb9",
   "metadata": {},
   "outputs": [
    {
     "data": {
      "text/plain": [
       "Id                           False\n",
       "Genetics                     False\n",
       "Hormonal Changes             False\n",
       "Medical Conditions           False\n",
       "Medications & Treatments     False\n",
       "Nutritional Deficiencies     False\n",
       "Stress                       False\n",
       "Age                          False\n",
       "Poor Hair Care Habits        False\n",
       "Environmental Factors        False\n",
       "Smoking                      False\n",
       "Weight Loss                  False\n",
       "Hair Loss                    False\n",
       "Age Group                    False\n",
       "dtype: bool"
      ]
     },
     "execution_count": 30,
     "metadata": {},
     "output_type": "execute_result"
    }
   ],
   "source": [
    "df.isna().sum() > 0"
   ]
  },
  {
   "cell_type": "code",
   "execution_count": 31,
   "id": "08e495f8-d740-4469-a949-8d87de67ec19",
   "metadata": {},
   "outputs": [
    {
     "data": {
      "text/plain": [
       "array(['No', 'Yes'], dtype=object)"
      ]
     },
     "execution_count": 31,
     "metadata": {},
     "output_type": "execute_result"
    }
   ],
   "source": [
    "#so we have no null values in the whole data frame, but we do have both categoricial and numeric data, we will need to get dummy variables\n",
    "df.columns\n",
    "df['Smoking'].unique()"
   ]
  },
  {
   "cell_type": "code",
   "execution_count": 32,
   "id": "8afff2da-24f4-4991-89e4-bcc8d9bbacf0",
   "metadata": {},
   "outputs": [
    {
     "data": {
      "text/plain": [
       "array([18, 19, 20, 21, 22, 23, 24, 25, 26, 27, 28, 29, 30, 31, 32, 33, 34,\n",
       "       35, 36, 37, 38, 39, 40, 41, 42, 43, 44, 45, 46, 47, 48, 49, 50])"
      ]
     },
     "execution_count": 32,
     "metadata": {},
     "output_type": "execute_result"
    }
   ],
   "source": [
    "df['Age'].sort_values().unique()"
   ]
  },
  {
   "cell_type": "code",
   "execution_count": 33,
   "id": "c46cdef0-75f1-4fa9-9beb-785a0163002b",
   "metadata": {},
   "outputs": [
    {
     "data": {
      "text/plain": [
       "['Id',\n",
       " 'Genetics',\n",
       " 'Hormonal Changes',\n",
       " 'Medical Conditions',\n",
       " 'Medications & Treatments',\n",
       " 'Nutritional Deficiencies ',\n",
       " 'Stress',\n",
       " 'Age',\n",
       " 'Poor Hair Care Habits ',\n",
       " 'Environmental Factors',\n",
       " 'Smoking',\n",
       " 'Weight Loss ',\n",
       " 'Hair Loss',\n",
       " 'Age Group']"
      ]
     },
     "execution_count": 33,
     "metadata": {},
     "output_type": "execute_result"
    }
   ],
   "source": [
    "list(df.columns)"
   ]
  },
  {
   "cell_type": "code",
   "execution_count": 34,
   "id": "2595cb0e-14f9-4647-8190-b15181d6f652",
   "metadata": {},
   "outputs": [],
   "source": [
    "#separating the df columns into categorical and numeric\n",
    "my_object_df = df.select_dtypes(include='object')\n",
    "my_numeric_df = df.select_dtypes(exclude='object')"
   ]
  },
  {
   "cell_type": "code",
   "execution_count": 35,
   "id": "610101cf",
   "metadata": {},
   "outputs": [
    {
     "data": {
      "text/html": [
       "<div>\n",
       "<style scoped>\n",
       "    .dataframe tbody tr th:only-of-type {\n",
       "        vertical-align: middle;\n",
       "    }\n",
       "\n",
       "    .dataframe tbody tr th {\n",
       "        vertical-align: top;\n",
       "    }\n",
       "\n",
       "    .dataframe thead th {\n",
       "        text-align: right;\n",
       "    }\n",
       "</style>\n",
       "<table border=\"1\" class=\"dataframe\">\n",
       "  <thead>\n",
       "    <tr style=\"text-align: right;\">\n",
       "      <th></th>\n",
       "      <th>Genetics</th>\n",
       "      <th>Hormonal Changes</th>\n",
       "      <th>Medical Conditions</th>\n",
       "      <th>Medications &amp; Treatments</th>\n",
       "      <th>Nutritional Deficiencies</th>\n",
       "      <th>Stress</th>\n",
       "      <th>Poor Hair Care Habits</th>\n",
       "      <th>Environmental Factors</th>\n",
       "      <th>Smoking</th>\n",
       "      <th>Weight Loss</th>\n",
       "      <th>Age Group</th>\n",
       "    </tr>\n",
       "  </thead>\n",
       "  <tbody>\n",
       "    <tr>\n",
       "      <th>0</th>\n",
       "      <td>Yes</td>\n",
       "      <td>No</td>\n",
       "      <td>No Data</td>\n",
       "      <td>No Data</td>\n",
       "      <td>Magnesium deficiency</td>\n",
       "      <td>Moderate</td>\n",
       "      <td>Yes</td>\n",
       "      <td>Yes</td>\n",
       "      <td>No</td>\n",
       "      <td>No</td>\n",
       "      <td>18-24</td>\n",
       "    </tr>\n",
       "    <tr>\n",
       "      <th>1</th>\n",
       "      <td>No</td>\n",
       "      <td>No</td>\n",
       "      <td>Eczema</td>\n",
       "      <td>Antibiotics</td>\n",
       "      <td>Magnesium deficiency</td>\n",
       "      <td>High</td>\n",
       "      <td>Yes</td>\n",
       "      <td>Yes</td>\n",
       "      <td>No</td>\n",
       "      <td>No</td>\n",
       "      <td>35-44</td>\n",
       "    </tr>\n",
       "    <tr>\n",
       "      <th>2</th>\n",
       "      <td>No</td>\n",
       "      <td>No</td>\n",
       "      <td>Dermatosis</td>\n",
       "      <td>Antifungal Cream</td>\n",
       "      <td>Protein deficiency</td>\n",
       "      <td>Moderate</td>\n",
       "      <td>Yes</td>\n",
       "      <td>Yes</td>\n",
       "      <td>No</td>\n",
       "      <td>Yes</td>\n",
       "      <td>25-34</td>\n",
       "    </tr>\n",
       "    <tr>\n",
       "      <th>3</th>\n",
       "      <td>Yes</td>\n",
       "      <td>Yes</td>\n",
       "      <td>Ringworm</td>\n",
       "      <td>Antibiotics</td>\n",
       "      <td>Biotin Deficiency</td>\n",
       "      <td>Moderate</td>\n",
       "      <td>Yes</td>\n",
       "      <td>Yes</td>\n",
       "      <td>No</td>\n",
       "      <td>No</td>\n",
       "      <td>45-50</td>\n",
       "    </tr>\n",
       "    <tr>\n",
       "      <th>4</th>\n",
       "      <td>No</td>\n",
       "      <td>No</td>\n",
       "      <td>Psoriasis</td>\n",
       "      <td>Accutane</td>\n",
       "      <td>Iron deficiency</td>\n",
       "      <td>Moderate</td>\n",
       "      <td>No</td>\n",
       "      <td>Yes</td>\n",
       "      <td>Yes</td>\n",
       "      <td>No</td>\n",
       "      <td>25-34</td>\n",
       "    </tr>\n",
       "    <tr>\n",
       "      <th>...</th>\n",
       "      <td>...</td>\n",
       "      <td>...</td>\n",
       "      <td>...</td>\n",
       "      <td>...</td>\n",
       "      <td>...</td>\n",
       "      <td>...</td>\n",
       "      <td>...</td>\n",
       "      <td>...</td>\n",
       "      <td>...</td>\n",
       "      <td>...</td>\n",
       "      <td>...</td>\n",
       "    </tr>\n",
       "    <tr>\n",
       "      <th>994</th>\n",
       "      <td>Yes</td>\n",
       "      <td>No</td>\n",
       "      <td>Seborrheic Dermatitis</td>\n",
       "      <td>Rogaine</td>\n",
       "      <td>Vitamin A Deficiency</td>\n",
       "      <td>Low</td>\n",
       "      <td>Yes</td>\n",
       "      <td>Yes</td>\n",
       "      <td>Yes</td>\n",
       "      <td>Yes</td>\n",
       "      <td>25-34</td>\n",
       "    </tr>\n",
       "    <tr>\n",
       "      <th>995</th>\n",
       "      <td>Yes</td>\n",
       "      <td>Yes</td>\n",
       "      <td>No Data</td>\n",
       "      <td>Accutane</td>\n",
       "      <td>Protein deficiency</td>\n",
       "      <td>Low</td>\n",
       "      <td>No</td>\n",
       "      <td>No</td>\n",
       "      <td>No</td>\n",
       "      <td>Yes</td>\n",
       "      <td>45-50</td>\n",
       "    </tr>\n",
       "    <tr>\n",
       "      <th>996</th>\n",
       "      <td>No</td>\n",
       "      <td>Yes</td>\n",
       "      <td>Androgenetic Alopecia</td>\n",
       "      <td>Antidepressants</td>\n",
       "      <td>Protein deficiency</td>\n",
       "      <td>Moderate</td>\n",
       "      <td>Yes</td>\n",
       "      <td>No</td>\n",
       "      <td>Yes</td>\n",
       "      <td>Yes</td>\n",
       "      <td>18-24</td>\n",
       "    </tr>\n",
       "    <tr>\n",
       "      <th>997</th>\n",
       "      <td>No</td>\n",
       "      <td>Yes</td>\n",
       "      <td>Dermatitis</td>\n",
       "      <td>Immunomodulators</td>\n",
       "      <td>Biotin Deficiency</td>\n",
       "      <td>Moderate</td>\n",
       "      <td>Yes</td>\n",
       "      <td>Yes</td>\n",
       "      <td>Yes</td>\n",
       "      <td>Yes</td>\n",
       "      <td>25-34</td>\n",
       "    </tr>\n",
       "    <tr>\n",
       "      <th>998</th>\n",
       "      <td>Yes</td>\n",
       "      <td>Yes</td>\n",
       "      <td>Psoriasis</td>\n",
       "      <td>Blood Pressure Medication</td>\n",
       "      <td>Vitamin D Deficiency</td>\n",
       "      <td>Low</td>\n",
       "      <td>No</td>\n",
       "      <td>Yes</td>\n",
       "      <td>No</td>\n",
       "      <td>No</td>\n",
       "      <td>25-34</td>\n",
       "    </tr>\n",
       "  </tbody>\n",
       "</table>\n",
       "<p>999 rows × 11 columns</p>\n",
       "</div>"
      ],
      "text/plain": [
       "    Genetics Hormonal Changes     Medical Conditions  \\\n",
       "0        Yes               No                No Data   \n",
       "1         No               No                 Eczema   \n",
       "2         No               No             Dermatosis   \n",
       "3        Yes              Yes               Ringworm   \n",
       "4         No               No              Psoriasis   \n",
       "..       ...              ...                    ...   \n",
       "994      Yes               No  Seborrheic Dermatitis   \n",
       "995      Yes              Yes                No Data   \n",
       "996       No              Yes  Androgenetic Alopecia   \n",
       "997       No              Yes             Dermatitis   \n",
       "998      Yes              Yes              Psoriasis   \n",
       "\n",
       "      Medications & Treatments Nutritional Deficiencies     Stress  \\\n",
       "0                      No Data      Magnesium deficiency  Moderate   \n",
       "1                  Antibiotics      Magnesium deficiency      High   \n",
       "2             Antifungal Cream        Protein deficiency  Moderate   \n",
       "3                  Antibiotics        Biotin Deficiency   Moderate   \n",
       "4                     Accutane           Iron deficiency  Moderate   \n",
       "..                         ...                       ...       ...   \n",
       "994                    Rogaine      Vitamin A Deficiency       Low   \n",
       "995                   Accutane        Protein deficiency       Low   \n",
       "996           Antidepressants         Protein deficiency  Moderate   \n",
       "997           Immunomodulators        Biotin Deficiency   Moderate   \n",
       "998  Blood Pressure Medication      Vitamin D Deficiency       Low   \n",
       "\n",
       "    Poor Hair Care Habits  Environmental Factors Smoking Weight Loss   \\\n",
       "0                      Yes                   Yes      No           No   \n",
       "1                      Yes                   Yes      No           No   \n",
       "2                      Yes                   Yes      No          Yes   \n",
       "3                      Yes                   Yes      No           No   \n",
       "4                       No                   Yes     Yes           No   \n",
       "..                     ...                   ...     ...          ...   \n",
       "994                    Yes                   Yes     Yes          Yes   \n",
       "995                     No                    No      No          Yes   \n",
       "996                    Yes                    No     Yes          Yes   \n",
       "997                    Yes                   Yes     Yes          Yes   \n",
       "998                     No                   Yes      No           No   \n",
       "\n",
       "    Age Group  \n",
       "0       18-24  \n",
       "1       35-44  \n",
       "2       25-34  \n",
       "3       45-50  \n",
       "4       25-34  \n",
       "..        ...  \n",
       "994     25-34  \n",
       "995     45-50  \n",
       "996     18-24  \n",
       "997     25-34  \n",
       "998     25-34  \n",
       "\n",
       "[999 rows x 11 columns]"
      ]
     },
     "execution_count": 35,
     "metadata": {},
     "output_type": "execute_result"
    }
   ],
   "source": [
    "my_object_df"
   ]
  },
  {
   "cell_type": "code",
   "execution_count": 36,
   "id": "28b41288-14b8-47d7-beb9-b7176db3295b",
   "metadata": {},
   "outputs": [
    {
     "data": {
      "text/html": [
       "<div>\n",
       "<style scoped>\n",
       "    .dataframe tbody tr th:only-of-type {\n",
       "        vertical-align: middle;\n",
       "    }\n",
       "\n",
       "    .dataframe tbody tr th {\n",
       "        vertical-align: top;\n",
       "    }\n",
       "\n",
       "    .dataframe thead th {\n",
       "        text-align: right;\n",
       "    }\n",
       "</style>\n",
       "<table border=\"1\" class=\"dataframe\">\n",
       "  <thead>\n",
       "    <tr style=\"text-align: right;\">\n",
       "      <th></th>\n",
       "      <th>Id</th>\n",
       "      <th>Age</th>\n",
       "      <th>Hair Loss</th>\n",
       "    </tr>\n",
       "  </thead>\n",
       "  <tbody>\n",
       "    <tr>\n",
       "      <th>0</th>\n",
       "      <td>133992</td>\n",
       "      <td>19</td>\n",
       "      <td>0</td>\n",
       "    </tr>\n",
       "    <tr>\n",
       "      <th>1</th>\n",
       "      <td>148393</td>\n",
       "      <td>43</td>\n",
       "      <td>0</td>\n",
       "    </tr>\n",
       "    <tr>\n",
       "      <th>2</th>\n",
       "      <td>155074</td>\n",
       "      <td>26</td>\n",
       "      <td>0</td>\n",
       "    </tr>\n",
       "    <tr>\n",
       "      <th>3</th>\n",
       "      <td>118261</td>\n",
       "      <td>46</td>\n",
       "      <td>0</td>\n",
       "    </tr>\n",
       "    <tr>\n",
       "      <th>4</th>\n",
       "      <td>111915</td>\n",
       "      <td>30</td>\n",
       "      <td>1</td>\n",
       "    </tr>\n",
       "    <tr>\n",
       "      <th>...</th>\n",
       "      <td>...</td>\n",
       "      <td>...</td>\n",
       "      <td>...</td>\n",
       "    </tr>\n",
       "    <tr>\n",
       "      <th>994</th>\n",
       "      <td>184367</td>\n",
       "      <td>33</td>\n",
       "      <td>1</td>\n",
       "    </tr>\n",
       "    <tr>\n",
       "      <th>995</th>\n",
       "      <td>164777</td>\n",
       "      <td>47</td>\n",
       "      <td>0</td>\n",
       "    </tr>\n",
       "    <tr>\n",
       "      <th>996</th>\n",
       "      <td>143273</td>\n",
       "      <td>20</td>\n",
       "      <td>1</td>\n",
       "    </tr>\n",
       "    <tr>\n",
       "      <th>997</th>\n",
       "      <td>169123</td>\n",
       "      <td>32</td>\n",
       "      <td>1</td>\n",
       "    </tr>\n",
       "    <tr>\n",
       "      <th>998</th>\n",
       "      <td>127183</td>\n",
       "      <td>34</td>\n",
       "      <td>1</td>\n",
       "    </tr>\n",
       "  </tbody>\n",
       "</table>\n",
       "<p>999 rows × 3 columns</p>\n",
       "</div>"
      ],
      "text/plain": [
       "         Id  Age  Hair Loss\n",
       "0    133992   19          0\n",
       "1    148393   43          0\n",
       "2    155074   26          0\n",
       "3    118261   46          0\n",
       "4    111915   30          1\n",
       "..      ...  ...        ...\n",
       "994  184367   33          1\n",
       "995  164777   47          0\n",
       "996  143273   20          1\n",
       "997  169123   32          1\n",
       "998  127183   34          1\n",
       "\n",
       "[999 rows x 3 columns]"
      ]
     },
     "execution_count": 36,
     "metadata": {},
     "output_type": "execute_result"
    }
   ],
   "source": [
    "my_numeric_df"
   ]
  },
  {
   "cell_type": "code",
   "execution_count": 37,
   "id": "f15b236a-3d18-441b-af1a-a32e11396f0b",
   "metadata": {},
   "outputs": [
    {
     "data": {
      "text/html": [
       "<div>\n",
       "<style scoped>\n",
       "    .dataframe tbody tr th:only-of-type {\n",
       "        vertical-align: middle;\n",
       "    }\n",
       "\n",
       "    .dataframe tbody tr th {\n",
       "        vertical-align: top;\n",
       "    }\n",
       "\n",
       "    .dataframe thead th {\n",
       "        text-align: right;\n",
       "    }\n",
       "</style>\n",
       "<table border=\"1\" class=\"dataframe\">\n",
       "  <thead>\n",
       "    <tr style=\"text-align: right;\">\n",
       "      <th></th>\n",
       "      <th>Genetics_Yes</th>\n",
       "      <th>Hormonal Changes_Yes</th>\n",
       "      <th>Medical Conditions_Androgenetic Alopecia</th>\n",
       "      <th>Medical Conditions_Dermatitis</th>\n",
       "      <th>Medical Conditions_Dermatosis</th>\n",
       "      <th>Medical Conditions_Eczema</th>\n",
       "      <th>Medical Conditions_No Data</th>\n",
       "      <th>Medical Conditions_Psoriasis</th>\n",
       "      <th>Medical Conditions_Ringworm</th>\n",
       "      <th>Medical Conditions_Scalp Infection</th>\n",
       "      <th>...</th>\n",
       "      <th>Nutritional Deficiencies _Zinc Deficiency</th>\n",
       "      <th>Stress_Low</th>\n",
       "      <th>Stress_Moderate</th>\n",
       "      <th>Poor Hair Care Habits _Yes</th>\n",
       "      <th>Environmental Factors_Yes</th>\n",
       "      <th>Smoking_Yes</th>\n",
       "      <th>Weight Loss _Yes</th>\n",
       "      <th>Age Group_25-34</th>\n",
       "      <th>Age Group_35-44</th>\n",
       "      <th>Age Group_45-50</th>\n",
       "    </tr>\n",
       "  </thead>\n",
       "  <tbody>\n",
       "    <tr>\n",
       "      <th>0</th>\n",
       "      <td>1</td>\n",
       "      <td>0</td>\n",
       "      <td>0</td>\n",
       "      <td>0</td>\n",
       "      <td>0</td>\n",
       "      <td>0</td>\n",
       "      <td>1</td>\n",
       "      <td>0</td>\n",
       "      <td>0</td>\n",
       "      <td>0</td>\n",
       "      <td>...</td>\n",
       "      <td>0</td>\n",
       "      <td>0</td>\n",
       "      <td>1</td>\n",
       "      <td>1</td>\n",
       "      <td>1</td>\n",
       "      <td>0</td>\n",
       "      <td>0</td>\n",
       "      <td>0</td>\n",
       "      <td>0</td>\n",
       "      <td>0</td>\n",
       "    </tr>\n",
       "    <tr>\n",
       "      <th>1</th>\n",
       "      <td>0</td>\n",
       "      <td>0</td>\n",
       "      <td>0</td>\n",
       "      <td>0</td>\n",
       "      <td>0</td>\n",
       "      <td>1</td>\n",
       "      <td>0</td>\n",
       "      <td>0</td>\n",
       "      <td>0</td>\n",
       "      <td>0</td>\n",
       "      <td>...</td>\n",
       "      <td>0</td>\n",
       "      <td>0</td>\n",
       "      <td>0</td>\n",
       "      <td>1</td>\n",
       "      <td>1</td>\n",
       "      <td>0</td>\n",
       "      <td>0</td>\n",
       "      <td>0</td>\n",
       "      <td>1</td>\n",
       "      <td>0</td>\n",
       "    </tr>\n",
       "    <tr>\n",
       "      <th>2</th>\n",
       "      <td>0</td>\n",
       "      <td>0</td>\n",
       "      <td>0</td>\n",
       "      <td>0</td>\n",
       "      <td>1</td>\n",
       "      <td>0</td>\n",
       "      <td>0</td>\n",
       "      <td>0</td>\n",
       "      <td>0</td>\n",
       "      <td>0</td>\n",
       "      <td>...</td>\n",
       "      <td>0</td>\n",
       "      <td>0</td>\n",
       "      <td>1</td>\n",
       "      <td>1</td>\n",
       "      <td>1</td>\n",
       "      <td>0</td>\n",
       "      <td>1</td>\n",
       "      <td>1</td>\n",
       "      <td>0</td>\n",
       "      <td>0</td>\n",
       "    </tr>\n",
       "    <tr>\n",
       "      <th>3</th>\n",
       "      <td>1</td>\n",
       "      <td>1</td>\n",
       "      <td>0</td>\n",
       "      <td>0</td>\n",
       "      <td>0</td>\n",
       "      <td>0</td>\n",
       "      <td>0</td>\n",
       "      <td>0</td>\n",
       "      <td>1</td>\n",
       "      <td>0</td>\n",
       "      <td>...</td>\n",
       "      <td>0</td>\n",
       "      <td>0</td>\n",
       "      <td>1</td>\n",
       "      <td>1</td>\n",
       "      <td>1</td>\n",
       "      <td>0</td>\n",
       "      <td>0</td>\n",
       "      <td>0</td>\n",
       "      <td>0</td>\n",
       "      <td>1</td>\n",
       "    </tr>\n",
       "    <tr>\n",
       "      <th>4</th>\n",
       "      <td>0</td>\n",
       "      <td>0</td>\n",
       "      <td>0</td>\n",
       "      <td>0</td>\n",
       "      <td>0</td>\n",
       "      <td>0</td>\n",
       "      <td>0</td>\n",
       "      <td>1</td>\n",
       "      <td>0</td>\n",
       "      <td>0</td>\n",
       "      <td>...</td>\n",
       "      <td>0</td>\n",
       "      <td>0</td>\n",
       "      <td>1</td>\n",
       "      <td>0</td>\n",
       "      <td>1</td>\n",
       "      <td>1</td>\n",
       "      <td>0</td>\n",
       "      <td>1</td>\n",
       "      <td>0</td>\n",
       "      <td>0</td>\n",
       "    </tr>\n",
       "  </tbody>\n",
       "</table>\n",
       "<p>5 rows × 41 columns</p>\n",
       "</div>"
      ],
      "text/plain": [
       "   Genetics_Yes  Hormonal Changes_Yes  \\\n",
       "0             1                     0   \n",
       "1             0                     0   \n",
       "2             0                     0   \n",
       "3             1                     1   \n",
       "4             0                     0   \n",
       "\n",
       "   Medical Conditions_Androgenetic Alopecia  Medical Conditions_Dermatitis  \\\n",
       "0                                         0                              0   \n",
       "1                                         0                              0   \n",
       "2                                         0                              0   \n",
       "3                                         0                              0   \n",
       "4                                         0                              0   \n",
       "\n",
       "   Medical Conditions_Dermatosis  Medical Conditions_Eczema  \\\n",
       "0                              0                          0   \n",
       "1                              0                          1   \n",
       "2                              1                          0   \n",
       "3                              0                          0   \n",
       "4                              0                          0   \n",
       "\n",
       "   Medical Conditions_No Data  Medical Conditions_Psoriasis  \\\n",
       "0                           1                             0   \n",
       "1                           0                             0   \n",
       "2                           0                             0   \n",
       "3                           0                             0   \n",
       "4                           0                             1   \n",
       "\n",
       "   Medical Conditions_Ringworm  Medical Conditions_Scalp Infection  ...  \\\n",
       "0                            0                                   0  ...   \n",
       "1                            0                                   0  ...   \n",
       "2                            0                                   0  ...   \n",
       "3                            1                                   0  ...   \n",
       "4                            0                                   0  ...   \n",
       "\n",
       "   Nutritional Deficiencies _Zinc Deficiency  Stress_Low  Stress_Moderate  \\\n",
       "0                                          0           0                1   \n",
       "1                                          0           0                0   \n",
       "2                                          0           0                1   \n",
       "3                                          0           0                1   \n",
       "4                                          0           0                1   \n",
       "\n",
       "   Poor Hair Care Habits _Yes  Environmental Factors_Yes  Smoking_Yes  \\\n",
       "0                           1                          1            0   \n",
       "1                           1                          1            0   \n",
       "2                           1                          1            0   \n",
       "3                           1                          1            0   \n",
       "4                           0                          1            1   \n",
       "\n",
       "   Weight Loss _Yes  Age Group_25-34  Age Group_35-44  Age Group_45-50  \n",
       "0                 0                0                0                0  \n",
       "1                 0                0                1                0  \n",
       "2                 1                1                0                0  \n",
       "3                 0                0                0                1  \n",
       "4                 0                1                0                0  \n",
       "\n",
       "[5 rows x 41 columns]"
      ]
     },
     "execution_count": 37,
     "metadata": {},
     "output_type": "execute_result"
    }
   ],
   "source": [
    "#getting dummy variables from the categorical column\n",
    "df_objects_dummies = pd.get_dummies(my_object_df, drop_first=True)\n",
    "df_objects_dummies.head()"
   ]
  },
  {
   "cell_type": "code",
   "execution_count": 38,
   "id": "75934a0a",
   "metadata": {},
   "outputs": [],
   "source": [
    "#b/c we are predicting a category with label'd data"
   ]
  },
  {
   "cell_type": "code",
   "execution_count": 39,
   "id": "17dfc084-a346-4470-8ad9-8ed6e59fb2e2",
   "metadata": {},
   "outputs": [
    {
     "data": {
      "text/html": [
       "<div>\n",
       "<style scoped>\n",
       "    .dataframe tbody tr th:only-of-type {\n",
       "        vertical-align: middle;\n",
       "    }\n",
       "\n",
       "    .dataframe tbody tr th {\n",
       "        vertical-align: top;\n",
       "    }\n",
       "\n",
       "    .dataframe thead th {\n",
       "        text-align: right;\n",
       "    }\n",
       "</style>\n",
       "<table border=\"1\" class=\"dataframe\">\n",
       "  <thead>\n",
       "    <tr style=\"text-align: right;\">\n",
       "      <th></th>\n",
       "      <th>Id</th>\n",
       "      <th>Age</th>\n",
       "      <th>Hair Loss</th>\n",
       "      <th>Genetics_Yes</th>\n",
       "      <th>Hormonal Changes_Yes</th>\n",
       "      <th>Medical Conditions_Androgenetic Alopecia</th>\n",
       "      <th>Medical Conditions_Dermatitis</th>\n",
       "      <th>Medical Conditions_Dermatosis</th>\n",
       "      <th>Medical Conditions_Eczema</th>\n",
       "      <th>Medical Conditions_No Data</th>\n",
       "      <th>...</th>\n",
       "      <th>Nutritional Deficiencies _Zinc Deficiency</th>\n",
       "      <th>Stress_Low</th>\n",
       "      <th>Stress_Moderate</th>\n",
       "      <th>Poor Hair Care Habits _Yes</th>\n",
       "      <th>Environmental Factors_Yes</th>\n",
       "      <th>Smoking_Yes</th>\n",
       "      <th>Weight Loss _Yes</th>\n",
       "      <th>Age Group_25-34</th>\n",
       "      <th>Age Group_35-44</th>\n",
       "      <th>Age Group_45-50</th>\n",
       "    </tr>\n",
       "  </thead>\n",
       "  <tbody>\n",
       "    <tr>\n",
       "      <th>0</th>\n",
       "      <td>133992</td>\n",
       "      <td>19</td>\n",
       "      <td>0</td>\n",
       "      <td>1</td>\n",
       "      <td>0</td>\n",
       "      <td>0</td>\n",
       "      <td>0</td>\n",
       "      <td>0</td>\n",
       "      <td>0</td>\n",
       "      <td>1</td>\n",
       "      <td>...</td>\n",
       "      <td>0</td>\n",
       "      <td>0</td>\n",
       "      <td>1</td>\n",
       "      <td>1</td>\n",
       "      <td>1</td>\n",
       "      <td>0</td>\n",
       "      <td>0</td>\n",
       "      <td>0</td>\n",
       "      <td>0</td>\n",
       "      <td>0</td>\n",
       "    </tr>\n",
       "    <tr>\n",
       "      <th>1</th>\n",
       "      <td>148393</td>\n",
       "      <td>43</td>\n",
       "      <td>0</td>\n",
       "      <td>0</td>\n",
       "      <td>0</td>\n",
       "      <td>0</td>\n",
       "      <td>0</td>\n",
       "      <td>0</td>\n",
       "      <td>1</td>\n",
       "      <td>0</td>\n",
       "      <td>...</td>\n",
       "      <td>0</td>\n",
       "      <td>0</td>\n",
       "      <td>0</td>\n",
       "      <td>1</td>\n",
       "      <td>1</td>\n",
       "      <td>0</td>\n",
       "      <td>0</td>\n",
       "      <td>0</td>\n",
       "      <td>1</td>\n",
       "      <td>0</td>\n",
       "    </tr>\n",
       "    <tr>\n",
       "      <th>2</th>\n",
       "      <td>155074</td>\n",
       "      <td>26</td>\n",
       "      <td>0</td>\n",
       "      <td>0</td>\n",
       "      <td>0</td>\n",
       "      <td>0</td>\n",
       "      <td>0</td>\n",
       "      <td>1</td>\n",
       "      <td>0</td>\n",
       "      <td>0</td>\n",
       "      <td>...</td>\n",
       "      <td>0</td>\n",
       "      <td>0</td>\n",
       "      <td>1</td>\n",
       "      <td>1</td>\n",
       "      <td>1</td>\n",
       "      <td>0</td>\n",
       "      <td>1</td>\n",
       "      <td>1</td>\n",
       "      <td>0</td>\n",
       "      <td>0</td>\n",
       "    </tr>\n",
       "    <tr>\n",
       "      <th>3</th>\n",
       "      <td>118261</td>\n",
       "      <td>46</td>\n",
       "      <td>0</td>\n",
       "      <td>1</td>\n",
       "      <td>1</td>\n",
       "      <td>0</td>\n",
       "      <td>0</td>\n",
       "      <td>0</td>\n",
       "      <td>0</td>\n",
       "      <td>0</td>\n",
       "      <td>...</td>\n",
       "      <td>0</td>\n",
       "      <td>0</td>\n",
       "      <td>1</td>\n",
       "      <td>1</td>\n",
       "      <td>1</td>\n",
       "      <td>0</td>\n",
       "      <td>0</td>\n",
       "      <td>0</td>\n",
       "      <td>0</td>\n",
       "      <td>1</td>\n",
       "    </tr>\n",
       "    <tr>\n",
       "      <th>4</th>\n",
       "      <td>111915</td>\n",
       "      <td>30</td>\n",
       "      <td>1</td>\n",
       "      <td>0</td>\n",
       "      <td>0</td>\n",
       "      <td>0</td>\n",
       "      <td>0</td>\n",
       "      <td>0</td>\n",
       "      <td>0</td>\n",
       "      <td>0</td>\n",
       "      <td>...</td>\n",
       "      <td>0</td>\n",
       "      <td>0</td>\n",
       "      <td>1</td>\n",
       "      <td>0</td>\n",
       "      <td>1</td>\n",
       "      <td>1</td>\n",
       "      <td>0</td>\n",
       "      <td>1</td>\n",
       "      <td>0</td>\n",
       "      <td>0</td>\n",
       "    </tr>\n",
       "    <tr>\n",
       "      <th>...</th>\n",
       "      <td>...</td>\n",
       "      <td>...</td>\n",
       "      <td>...</td>\n",
       "      <td>...</td>\n",
       "      <td>...</td>\n",
       "      <td>...</td>\n",
       "      <td>...</td>\n",
       "      <td>...</td>\n",
       "      <td>...</td>\n",
       "      <td>...</td>\n",
       "      <td>...</td>\n",
       "      <td>...</td>\n",
       "      <td>...</td>\n",
       "      <td>...</td>\n",
       "      <td>...</td>\n",
       "      <td>...</td>\n",
       "      <td>...</td>\n",
       "      <td>...</td>\n",
       "      <td>...</td>\n",
       "      <td>...</td>\n",
       "      <td>...</td>\n",
       "    </tr>\n",
       "    <tr>\n",
       "      <th>994</th>\n",
       "      <td>184367</td>\n",
       "      <td>33</td>\n",
       "      <td>1</td>\n",
       "      <td>1</td>\n",
       "      <td>0</td>\n",
       "      <td>0</td>\n",
       "      <td>0</td>\n",
       "      <td>0</td>\n",
       "      <td>0</td>\n",
       "      <td>0</td>\n",
       "      <td>...</td>\n",
       "      <td>0</td>\n",
       "      <td>1</td>\n",
       "      <td>0</td>\n",
       "      <td>1</td>\n",
       "      <td>1</td>\n",
       "      <td>1</td>\n",
       "      <td>1</td>\n",
       "      <td>1</td>\n",
       "      <td>0</td>\n",
       "      <td>0</td>\n",
       "    </tr>\n",
       "    <tr>\n",
       "      <th>995</th>\n",
       "      <td>164777</td>\n",
       "      <td>47</td>\n",
       "      <td>0</td>\n",
       "      <td>1</td>\n",
       "      <td>1</td>\n",
       "      <td>0</td>\n",
       "      <td>0</td>\n",
       "      <td>0</td>\n",
       "      <td>0</td>\n",
       "      <td>1</td>\n",
       "      <td>...</td>\n",
       "      <td>0</td>\n",
       "      <td>1</td>\n",
       "      <td>0</td>\n",
       "      <td>0</td>\n",
       "      <td>0</td>\n",
       "      <td>0</td>\n",
       "      <td>1</td>\n",
       "      <td>0</td>\n",
       "      <td>0</td>\n",
       "      <td>1</td>\n",
       "    </tr>\n",
       "    <tr>\n",
       "      <th>996</th>\n",
       "      <td>143273</td>\n",
       "      <td>20</td>\n",
       "      <td>1</td>\n",
       "      <td>0</td>\n",
       "      <td>1</td>\n",
       "      <td>1</td>\n",
       "      <td>0</td>\n",
       "      <td>0</td>\n",
       "      <td>0</td>\n",
       "      <td>0</td>\n",
       "      <td>...</td>\n",
       "      <td>0</td>\n",
       "      <td>0</td>\n",
       "      <td>1</td>\n",
       "      <td>1</td>\n",
       "      <td>0</td>\n",
       "      <td>1</td>\n",
       "      <td>1</td>\n",
       "      <td>0</td>\n",
       "      <td>0</td>\n",
       "      <td>0</td>\n",
       "    </tr>\n",
       "    <tr>\n",
       "      <th>997</th>\n",
       "      <td>169123</td>\n",
       "      <td>32</td>\n",
       "      <td>1</td>\n",
       "      <td>0</td>\n",
       "      <td>1</td>\n",
       "      <td>0</td>\n",
       "      <td>1</td>\n",
       "      <td>0</td>\n",
       "      <td>0</td>\n",
       "      <td>0</td>\n",
       "      <td>...</td>\n",
       "      <td>0</td>\n",
       "      <td>0</td>\n",
       "      <td>1</td>\n",
       "      <td>1</td>\n",
       "      <td>1</td>\n",
       "      <td>1</td>\n",
       "      <td>1</td>\n",
       "      <td>1</td>\n",
       "      <td>0</td>\n",
       "      <td>0</td>\n",
       "    </tr>\n",
       "    <tr>\n",
       "      <th>998</th>\n",
       "      <td>127183</td>\n",
       "      <td>34</td>\n",
       "      <td>1</td>\n",
       "      <td>1</td>\n",
       "      <td>1</td>\n",
       "      <td>0</td>\n",
       "      <td>0</td>\n",
       "      <td>0</td>\n",
       "      <td>0</td>\n",
       "      <td>0</td>\n",
       "      <td>...</td>\n",
       "      <td>0</td>\n",
       "      <td>1</td>\n",
       "      <td>0</td>\n",
       "      <td>0</td>\n",
       "      <td>1</td>\n",
       "      <td>0</td>\n",
       "      <td>0</td>\n",
       "      <td>1</td>\n",
       "      <td>0</td>\n",
       "      <td>0</td>\n",
       "    </tr>\n",
       "  </tbody>\n",
       "</table>\n",
       "<p>999 rows × 44 columns</p>\n",
       "</div>"
      ],
      "text/plain": [
       "         Id  Age  Hair Loss  Genetics_Yes  Hormonal Changes_Yes  \\\n",
       "0    133992   19          0             1                     0   \n",
       "1    148393   43          0             0                     0   \n",
       "2    155074   26          0             0                     0   \n",
       "3    118261   46          0             1                     1   \n",
       "4    111915   30          1             0                     0   \n",
       "..      ...  ...        ...           ...                   ...   \n",
       "994  184367   33          1             1                     0   \n",
       "995  164777   47          0             1                     1   \n",
       "996  143273   20          1             0                     1   \n",
       "997  169123   32          1             0                     1   \n",
       "998  127183   34          1             1                     1   \n",
       "\n",
       "     Medical Conditions_Androgenetic Alopecia  Medical Conditions_Dermatitis  \\\n",
       "0                                           0                              0   \n",
       "1                                           0                              0   \n",
       "2                                           0                              0   \n",
       "3                                           0                              0   \n",
       "4                                           0                              0   \n",
       "..                                        ...                            ...   \n",
       "994                                         0                              0   \n",
       "995                                         0                              0   \n",
       "996                                         1                              0   \n",
       "997                                         0                              1   \n",
       "998                                         0                              0   \n",
       "\n",
       "     Medical Conditions_Dermatosis  Medical Conditions_Eczema  \\\n",
       "0                                0                          0   \n",
       "1                                0                          1   \n",
       "2                                1                          0   \n",
       "3                                0                          0   \n",
       "4                                0                          0   \n",
       "..                             ...                        ...   \n",
       "994                              0                          0   \n",
       "995                              0                          0   \n",
       "996                              0                          0   \n",
       "997                              0                          0   \n",
       "998                              0                          0   \n",
       "\n",
       "     Medical Conditions_No Data  ...  \\\n",
       "0                             1  ...   \n",
       "1                             0  ...   \n",
       "2                             0  ...   \n",
       "3                             0  ...   \n",
       "4                             0  ...   \n",
       "..                          ...  ...   \n",
       "994                           0  ...   \n",
       "995                           1  ...   \n",
       "996                           0  ...   \n",
       "997                           0  ...   \n",
       "998                           0  ...   \n",
       "\n",
       "     Nutritional Deficiencies _Zinc Deficiency  Stress_Low  Stress_Moderate  \\\n",
       "0                                            0           0                1   \n",
       "1                                            0           0                0   \n",
       "2                                            0           0                1   \n",
       "3                                            0           0                1   \n",
       "4                                            0           0                1   \n",
       "..                                         ...         ...              ...   \n",
       "994                                          0           1                0   \n",
       "995                                          0           1                0   \n",
       "996                                          0           0                1   \n",
       "997                                          0           0                1   \n",
       "998                                          0           1                0   \n",
       "\n",
       "     Poor Hair Care Habits _Yes  Environmental Factors_Yes  Smoking_Yes  \\\n",
       "0                             1                          1            0   \n",
       "1                             1                          1            0   \n",
       "2                             1                          1            0   \n",
       "3                             1                          1            0   \n",
       "4                             0                          1            1   \n",
       "..                          ...                        ...          ...   \n",
       "994                           1                          1            1   \n",
       "995                           0                          0            0   \n",
       "996                           1                          0            1   \n",
       "997                           1                          1            1   \n",
       "998                           0                          1            0   \n",
       "\n",
       "     Weight Loss _Yes  Age Group_25-34  Age Group_35-44  Age Group_45-50  \n",
       "0                   0                0                0                0  \n",
       "1                   0                0                1                0  \n",
       "2                   1                1                0                0  \n",
       "3                   0                0                0                1  \n",
       "4                   0                1                0                0  \n",
       "..                ...              ...              ...              ...  \n",
       "994                 1                1                0                0  \n",
       "995                 1                0                0                1  \n",
       "996                 1                0                0                0  \n",
       "997                 1                1                0                0  \n",
       "998                 0                1                0                0  \n",
       "\n",
       "[999 rows x 44 columns]"
      ]
     },
     "execution_count": 39,
     "metadata": {},
     "output_type": "execute_result"
    }
   ],
   "source": [
    "final_df = pd.concat([my_numeric_df,df_objects_dummies], axis=1)\n",
    "final_df"
   ]
  },
  {
   "cell_type": "code",
   "execution_count": 40,
   "id": "8ddab1b5",
   "metadata": {},
   "outputs": [
    {
     "data": {
      "text/html": [
       "<div>\n",
       "<style scoped>\n",
       "    .dataframe tbody tr th:only-of-type {\n",
       "        vertical-align: middle;\n",
       "    }\n",
       "\n",
       "    .dataframe tbody tr th {\n",
       "        vertical-align: top;\n",
       "    }\n",
       "\n",
       "    .dataframe thead th {\n",
       "        text-align: right;\n",
       "    }\n",
       "</style>\n",
       "<table border=\"1\" class=\"dataframe\">\n",
       "  <thead>\n",
       "    <tr style=\"text-align: right;\">\n",
       "      <th></th>\n",
       "      <th>index</th>\n",
       "      <th>Age</th>\n",
       "      <th>Hair Loss</th>\n",
       "      <th>Genetics_Yes</th>\n",
       "      <th>Hormonal Changes_Yes</th>\n",
       "      <th>Medical Conditions_Androgenetic Alopecia</th>\n",
       "      <th>Medical Conditions_Dermatitis</th>\n",
       "      <th>Medical Conditions_Dermatosis</th>\n",
       "      <th>Medical Conditions_Eczema</th>\n",
       "      <th>Medical Conditions_No Data</th>\n",
       "      <th>...</th>\n",
       "      <th>Nutritional Deficiencies _Zinc Deficiency</th>\n",
       "      <th>Stress_Low</th>\n",
       "      <th>Stress_Moderate</th>\n",
       "      <th>Poor Hair Care Habits _Yes</th>\n",
       "      <th>Environmental Factors_Yes</th>\n",
       "      <th>Smoking_Yes</th>\n",
       "      <th>Weight Loss _Yes</th>\n",
       "      <th>Age Group_25-34</th>\n",
       "      <th>Age Group_35-44</th>\n",
       "      <th>Age Group_45-50</th>\n",
       "    </tr>\n",
       "  </thead>\n",
       "  <tbody>\n",
       "    <tr>\n",
       "      <th>0</th>\n",
       "      <td>0</td>\n",
       "      <td>19</td>\n",
       "      <td>0</td>\n",
       "      <td>1</td>\n",
       "      <td>0</td>\n",
       "      <td>0</td>\n",
       "      <td>0</td>\n",
       "      <td>0</td>\n",
       "      <td>0</td>\n",
       "      <td>1</td>\n",
       "      <td>...</td>\n",
       "      <td>0</td>\n",
       "      <td>0</td>\n",
       "      <td>1</td>\n",
       "      <td>1</td>\n",
       "      <td>1</td>\n",
       "      <td>0</td>\n",
       "      <td>0</td>\n",
       "      <td>0</td>\n",
       "      <td>0</td>\n",
       "      <td>0</td>\n",
       "    </tr>\n",
       "    <tr>\n",
       "      <th>1</th>\n",
       "      <td>1</td>\n",
       "      <td>43</td>\n",
       "      <td>0</td>\n",
       "      <td>0</td>\n",
       "      <td>0</td>\n",
       "      <td>0</td>\n",
       "      <td>0</td>\n",
       "      <td>0</td>\n",
       "      <td>1</td>\n",
       "      <td>0</td>\n",
       "      <td>...</td>\n",
       "      <td>0</td>\n",
       "      <td>0</td>\n",
       "      <td>0</td>\n",
       "      <td>1</td>\n",
       "      <td>1</td>\n",
       "      <td>0</td>\n",
       "      <td>0</td>\n",
       "      <td>0</td>\n",
       "      <td>1</td>\n",
       "      <td>0</td>\n",
       "    </tr>\n",
       "    <tr>\n",
       "      <th>2</th>\n",
       "      <td>2</td>\n",
       "      <td>26</td>\n",
       "      <td>0</td>\n",
       "      <td>0</td>\n",
       "      <td>0</td>\n",
       "      <td>0</td>\n",
       "      <td>0</td>\n",
       "      <td>1</td>\n",
       "      <td>0</td>\n",
       "      <td>0</td>\n",
       "      <td>...</td>\n",
       "      <td>0</td>\n",
       "      <td>0</td>\n",
       "      <td>1</td>\n",
       "      <td>1</td>\n",
       "      <td>1</td>\n",
       "      <td>0</td>\n",
       "      <td>1</td>\n",
       "      <td>1</td>\n",
       "      <td>0</td>\n",
       "      <td>0</td>\n",
       "    </tr>\n",
       "    <tr>\n",
       "      <th>3</th>\n",
       "      <td>3</td>\n",
       "      <td>46</td>\n",
       "      <td>0</td>\n",
       "      <td>1</td>\n",
       "      <td>1</td>\n",
       "      <td>0</td>\n",
       "      <td>0</td>\n",
       "      <td>0</td>\n",
       "      <td>0</td>\n",
       "      <td>0</td>\n",
       "      <td>...</td>\n",
       "      <td>0</td>\n",
       "      <td>0</td>\n",
       "      <td>1</td>\n",
       "      <td>1</td>\n",
       "      <td>1</td>\n",
       "      <td>0</td>\n",
       "      <td>0</td>\n",
       "      <td>0</td>\n",
       "      <td>0</td>\n",
       "      <td>1</td>\n",
       "    </tr>\n",
       "    <tr>\n",
       "      <th>4</th>\n",
       "      <td>4</td>\n",
       "      <td>30</td>\n",
       "      <td>1</td>\n",
       "      <td>0</td>\n",
       "      <td>0</td>\n",
       "      <td>0</td>\n",
       "      <td>0</td>\n",
       "      <td>0</td>\n",
       "      <td>0</td>\n",
       "      <td>0</td>\n",
       "      <td>...</td>\n",
       "      <td>0</td>\n",
       "      <td>0</td>\n",
       "      <td>1</td>\n",
       "      <td>0</td>\n",
       "      <td>1</td>\n",
       "      <td>1</td>\n",
       "      <td>0</td>\n",
       "      <td>1</td>\n",
       "      <td>0</td>\n",
       "      <td>0</td>\n",
       "    </tr>\n",
       "    <tr>\n",
       "      <th>...</th>\n",
       "      <td>...</td>\n",
       "      <td>...</td>\n",
       "      <td>...</td>\n",
       "      <td>...</td>\n",
       "      <td>...</td>\n",
       "      <td>...</td>\n",
       "      <td>...</td>\n",
       "      <td>...</td>\n",
       "      <td>...</td>\n",
       "      <td>...</td>\n",
       "      <td>...</td>\n",
       "      <td>...</td>\n",
       "      <td>...</td>\n",
       "      <td>...</td>\n",
       "      <td>...</td>\n",
       "      <td>...</td>\n",
       "      <td>...</td>\n",
       "      <td>...</td>\n",
       "      <td>...</td>\n",
       "      <td>...</td>\n",
       "      <td>...</td>\n",
       "    </tr>\n",
       "    <tr>\n",
       "      <th>994</th>\n",
       "      <td>994</td>\n",
       "      <td>33</td>\n",
       "      <td>1</td>\n",
       "      <td>1</td>\n",
       "      <td>0</td>\n",
       "      <td>0</td>\n",
       "      <td>0</td>\n",
       "      <td>0</td>\n",
       "      <td>0</td>\n",
       "      <td>0</td>\n",
       "      <td>...</td>\n",
       "      <td>0</td>\n",
       "      <td>1</td>\n",
       "      <td>0</td>\n",
       "      <td>1</td>\n",
       "      <td>1</td>\n",
       "      <td>1</td>\n",
       "      <td>1</td>\n",
       "      <td>1</td>\n",
       "      <td>0</td>\n",
       "      <td>0</td>\n",
       "    </tr>\n",
       "    <tr>\n",
       "      <th>995</th>\n",
       "      <td>995</td>\n",
       "      <td>47</td>\n",
       "      <td>0</td>\n",
       "      <td>1</td>\n",
       "      <td>1</td>\n",
       "      <td>0</td>\n",
       "      <td>0</td>\n",
       "      <td>0</td>\n",
       "      <td>0</td>\n",
       "      <td>1</td>\n",
       "      <td>...</td>\n",
       "      <td>0</td>\n",
       "      <td>1</td>\n",
       "      <td>0</td>\n",
       "      <td>0</td>\n",
       "      <td>0</td>\n",
       "      <td>0</td>\n",
       "      <td>1</td>\n",
       "      <td>0</td>\n",
       "      <td>0</td>\n",
       "      <td>1</td>\n",
       "    </tr>\n",
       "    <tr>\n",
       "      <th>996</th>\n",
       "      <td>996</td>\n",
       "      <td>20</td>\n",
       "      <td>1</td>\n",
       "      <td>0</td>\n",
       "      <td>1</td>\n",
       "      <td>1</td>\n",
       "      <td>0</td>\n",
       "      <td>0</td>\n",
       "      <td>0</td>\n",
       "      <td>0</td>\n",
       "      <td>...</td>\n",
       "      <td>0</td>\n",
       "      <td>0</td>\n",
       "      <td>1</td>\n",
       "      <td>1</td>\n",
       "      <td>0</td>\n",
       "      <td>1</td>\n",
       "      <td>1</td>\n",
       "      <td>0</td>\n",
       "      <td>0</td>\n",
       "      <td>0</td>\n",
       "    </tr>\n",
       "    <tr>\n",
       "      <th>997</th>\n",
       "      <td>997</td>\n",
       "      <td>32</td>\n",
       "      <td>1</td>\n",
       "      <td>0</td>\n",
       "      <td>1</td>\n",
       "      <td>0</td>\n",
       "      <td>1</td>\n",
       "      <td>0</td>\n",
       "      <td>0</td>\n",
       "      <td>0</td>\n",
       "      <td>...</td>\n",
       "      <td>0</td>\n",
       "      <td>0</td>\n",
       "      <td>1</td>\n",
       "      <td>1</td>\n",
       "      <td>1</td>\n",
       "      <td>1</td>\n",
       "      <td>1</td>\n",
       "      <td>1</td>\n",
       "      <td>0</td>\n",
       "      <td>0</td>\n",
       "    </tr>\n",
       "    <tr>\n",
       "      <th>998</th>\n",
       "      <td>998</td>\n",
       "      <td>34</td>\n",
       "      <td>1</td>\n",
       "      <td>1</td>\n",
       "      <td>1</td>\n",
       "      <td>0</td>\n",
       "      <td>0</td>\n",
       "      <td>0</td>\n",
       "      <td>0</td>\n",
       "      <td>0</td>\n",
       "      <td>...</td>\n",
       "      <td>0</td>\n",
       "      <td>1</td>\n",
       "      <td>0</td>\n",
       "      <td>0</td>\n",
       "      <td>1</td>\n",
       "      <td>0</td>\n",
       "      <td>0</td>\n",
       "      <td>1</td>\n",
       "      <td>0</td>\n",
       "      <td>0</td>\n",
       "    </tr>\n",
       "  </tbody>\n",
       "</table>\n",
       "<p>999 rows × 44 columns</p>\n",
       "</div>"
      ],
      "text/plain": [
       "     index  Age  Hair Loss  Genetics_Yes  Hormonal Changes_Yes  \\\n",
       "0        0   19          0             1                     0   \n",
       "1        1   43          0             0                     0   \n",
       "2        2   26          0             0                     0   \n",
       "3        3   46          0             1                     1   \n",
       "4        4   30          1             0                     0   \n",
       "..     ...  ...        ...           ...                   ...   \n",
       "994    994   33          1             1                     0   \n",
       "995    995   47          0             1                     1   \n",
       "996    996   20          1             0                     1   \n",
       "997    997   32          1             0                     1   \n",
       "998    998   34          1             1                     1   \n",
       "\n",
       "     Medical Conditions_Androgenetic Alopecia  Medical Conditions_Dermatitis  \\\n",
       "0                                           0                              0   \n",
       "1                                           0                              0   \n",
       "2                                           0                              0   \n",
       "3                                           0                              0   \n",
       "4                                           0                              0   \n",
       "..                                        ...                            ...   \n",
       "994                                         0                              0   \n",
       "995                                         0                              0   \n",
       "996                                         1                              0   \n",
       "997                                         0                              1   \n",
       "998                                         0                              0   \n",
       "\n",
       "     Medical Conditions_Dermatosis  Medical Conditions_Eczema  \\\n",
       "0                                0                          0   \n",
       "1                                0                          1   \n",
       "2                                1                          0   \n",
       "3                                0                          0   \n",
       "4                                0                          0   \n",
       "..                             ...                        ...   \n",
       "994                              0                          0   \n",
       "995                              0                          0   \n",
       "996                              0                          0   \n",
       "997                              0                          0   \n",
       "998                              0                          0   \n",
       "\n",
       "     Medical Conditions_No Data  ...  \\\n",
       "0                             1  ...   \n",
       "1                             0  ...   \n",
       "2                             0  ...   \n",
       "3                             0  ...   \n",
       "4                             0  ...   \n",
       "..                          ...  ...   \n",
       "994                           0  ...   \n",
       "995                           1  ...   \n",
       "996                           0  ...   \n",
       "997                           0  ...   \n",
       "998                           0  ...   \n",
       "\n",
       "     Nutritional Deficiencies _Zinc Deficiency  Stress_Low  Stress_Moderate  \\\n",
       "0                                            0           0                1   \n",
       "1                                            0           0                0   \n",
       "2                                            0           0                1   \n",
       "3                                            0           0                1   \n",
       "4                                            0           0                1   \n",
       "..                                         ...         ...              ...   \n",
       "994                                          0           1                0   \n",
       "995                                          0           1                0   \n",
       "996                                          0           0                1   \n",
       "997                                          0           0                1   \n",
       "998                                          0           1                0   \n",
       "\n",
       "     Poor Hair Care Habits _Yes  Environmental Factors_Yes  Smoking_Yes  \\\n",
       "0                             1                          1            0   \n",
       "1                             1                          1            0   \n",
       "2                             1                          1            0   \n",
       "3                             1                          1            0   \n",
       "4                             0                          1            1   \n",
       "..                          ...                        ...          ...   \n",
       "994                           1                          1            1   \n",
       "995                           0                          0            0   \n",
       "996                           1                          0            1   \n",
       "997                           1                          1            1   \n",
       "998                           0                          1            0   \n",
       "\n",
       "     Weight Loss _Yes  Age Group_25-34  Age Group_35-44  Age Group_45-50  \n",
       "0                   0                0                0                0  \n",
       "1                   0                0                1                0  \n",
       "2                   1                1                0                0  \n",
       "3                   0                0                0                1  \n",
       "4                   0                1                0                0  \n",
       "..                ...              ...              ...              ...  \n",
       "994                 1                1                0                0  \n",
       "995                 1                0                0                1  \n",
       "996                 1                0                0                0  \n",
       "997                 1                1                0                0  \n",
       "998                 0                1                0                0  \n",
       "\n",
       "[999 rows x 44 columns]"
      ]
     },
     "execution_count": 40,
     "metadata": {},
     "output_type": "execute_result"
    }
   ],
   "source": [
    "#but first lets train test split and validate our machine \n",
    "final_df = final_df.drop('Id', axis=1)\n",
    "final_df = final_df.reset_index()\n",
    "final_df"
   ]
  },
  {
   "cell_type": "code",
   "execution_count": 41,
   "id": "28a795c4-8fdd-4e21-9658-67f016c408c8",
   "metadata": {},
   "outputs": [
    {
     "data": {
      "text/plain": [
       "Index(['index', 'Age', 'Hair Loss', 'Genetics_Yes', 'Hormonal Changes_Yes',\n",
       "       'Medical Conditions_Androgenetic Alopecia',\n",
       "       'Medical Conditions_Dermatitis', 'Medical Conditions_Dermatosis',\n",
       "       'Medical Conditions_Eczema', 'Medical Conditions_No Data',\n",
       "       'Medical Conditions_Psoriasis', 'Medical Conditions_Ringworm',\n",
       "       'Medical Conditions_Scalp Infection',\n",
       "       'Medical Conditions_Seborrheic Dermatitis',\n",
       "       'Medical Conditions_Thyroid Problems',\n",
       "       'Medications & Treatments_Antibiotics',\n",
       "       'Medications & Treatments_Antidepressants ',\n",
       "       'Medications & Treatments_Antifungal Cream',\n",
       "       'Medications & Treatments_Blood Pressure Medication',\n",
       "       'Medications & Treatments_Chemotherapy',\n",
       "       'Medications & Treatments_Heart Medication ',\n",
       "       'Medications & Treatments_Immunomodulators',\n",
       "       'Medications & Treatments_No Data', 'Medications & Treatments_Rogaine',\n",
       "       'Medications & Treatments_Steroids',\n",
       "       'Nutritional Deficiencies _Iron deficiency',\n",
       "       'Nutritional Deficiencies _Magnesium deficiency',\n",
       "       'Nutritional Deficiencies _No Data',\n",
       "       'Nutritional Deficiencies _Omega-3 fatty acids',\n",
       "       'Nutritional Deficiencies _Protein deficiency',\n",
       "       'Nutritional Deficiencies _Selenium deficiency',\n",
       "       'Nutritional Deficiencies _Vitamin A Deficiency',\n",
       "       'Nutritional Deficiencies _Vitamin D Deficiency',\n",
       "       'Nutritional Deficiencies _Vitamin E deficiency',\n",
       "       'Nutritional Deficiencies _Zinc Deficiency', 'Stress_Low',\n",
       "       'Stress_Moderate', 'Poor Hair Care Habits _Yes',\n",
       "       'Environmental Factors_Yes', 'Smoking_Yes', 'Weight Loss _Yes',\n",
       "       'Age Group_25-34', 'Age Group_35-44', 'Age Group_45-50'],\n",
       "      dtype='object')"
      ]
     },
     "execution_count": 41,
     "metadata": {},
     "output_type": "execute_result"
    }
   ],
   "source": [
    "final_df.columns"
   ]
  },
  {
   "cell_type": "code",
   "execution_count": null,
   "id": "6bd6ff75-490a-4d87-8792-80d8c2f7d78b",
   "metadata": {},
   "outputs": [],
   "source": []
  },
  {
   "cell_type": "code",
   "execution_count": 42,
   "id": "82d5614d-944a-4fbd-9ee5-61711aef34f6",
   "metadata": {},
   "outputs": [],
   "source": [
    "#beginning traintest split"
   ]
  },
  {
   "cell_type": "code",
   "execution_count": 43,
   "id": "5dab0f74-13c4-427a-b3d7-16596cd991d5",
   "metadata": {},
   "outputs": [],
   "source": [
    "X = final_df.drop('Hair Loss',axis =1)\n",
    "y = final_df['Hair Loss']"
   ]
  },
  {
   "cell_type": "code",
   "execution_count": 44,
   "id": "58a861f1-91af-452b-b178-f100738f81b6",
   "metadata": {},
   "outputs": [
    {
     "data": {
      "text/html": [
       "<div>\n",
       "<style scoped>\n",
       "    .dataframe tbody tr th:only-of-type {\n",
       "        vertical-align: middle;\n",
       "    }\n",
       "\n",
       "    .dataframe tbody tr th {\n",
       "        vertical-align: top;\n",
       "    }\n",
       "\n",
       "    .dataframe thead th {\n",
       "        text-align: right;\n",
       "    }\n",
       "</style>\n",
       "<table border=\"1\" class=\"dataframe\">\n",
       "  <thead>\n",
       "    <tr style=\"text-align: right;\">\n",
       "      <th></th>\n",
       "      <th>index</th>\n",
       "      <th>Age</th>\n",
       "      <th>Genetics_Yes</th>\n",
       "      <th>Hormonal Changes_Yes</th>\n",
       "      <th>Medical Conditions_Androgenetic Alopecia</th>\n",
       "      <th>Medical Conditions_Dermatitis</th>\n",
       "      <th>Medical Conditions_Dermatosis</th>\n",
       "      <th>Medical Conditions_Eczema</th>\n",
       "      <th>Medical Conditions_No Data</th>\n",
       "      <th>Medical Conditions_Psoriasis</th>\n",
       "      <th>...</th>\n",
       "      <th>Nutritional Deficiencies _Zinc Deficiency</th>\n",
       "      <th>Stress_Low</th>\n",
       "      <th>Stress_Moderate</th>\n",
       "      <th>Poor Hair Care Habits _Yes</th>\n",
       "      <th>Environmental Factors_Yes</th>\n",
       "      <th>Smoking_Yes</th>\n",
       "      <th>Weight Loss _Yes</th>\n",
       "      <th>Age Group_25-34</th>\n",
       "      <th>Age Group_35-44</th>\n",
       "      <th>Age Group_45-50</th>\n",
       "    </tr>\n",
       "  </thead>\n",
       "  <tbody>\n",
       "    <tr>\n",
       "      <th>0</th>\n",
       "      <td>0</td>\n",
       "      <td>19</td>\n",
       "      <td>1</td>\n",
       "      <td>0</td>\n",
       "      <td>0</td>\n",
       "      <td>0</td>\n",
       "      <td>0</td>\n",
       "      <td>0</td>\n",
       "      <td>1</td>\n",
       "      <td>0</td>\n",
       "      <td>...</td>\n",
       "      <td>0</td>\n",
       "      <td>0</td>\n",
       "      <td>1</td>\n",
       "      <td>1</td>\n",
       "      <td>1</td>\n",
       "      <td>0</td>\n",
       "      <td>0</td>\n",
       "      <td>0</td>\n",
       "      <td>0</td>\n",
       "      <td>0</td>\n",
       "    </tr>\n",
       "    <tr>\n",
       "      <th>1</th>\n",
       "      <td>1</td>\n",
       "      <td>43</td>\n",
       "      <td>0</td>\n",
       "      <td>0</td>\n",
       "      <td>0</td>\n",
       "      <td>0</td>\n",
       "      <td>0</td>\n",
       "      <td>1</td>\n",
       "      <td>0</td>\n",
       "      <td>0</td>\n",
       "      <td>...</td>\n",
       "      <td>0</td>\n",
       "      <td>0</td>\n",
       "      <td>0</td>\n",
       "      <td>1</td>\n",
       "      <td>1</td>\n",
       "      <td>0</td>\n",
       "      <td>0</td>\n",
       "      <td>0</td>\n",
       "      <td>1</td>\n",
       "      <td>0</td>\n",
       "    </tr>\n",
       "    <tr>\n",
       "      <th>2</th>\n",
       "      <td>2</td>\n",
       "      <td>26</td>\n",
       "      <td>0</td>\n",
       "      <td>0</td>\n",
       "      <td>0</td>\n",
       "      <td>0</td>\n",
       "      <td>1</td>\n",
       "      <td>0</td>\n",
       "      <td>0</td>\n",
       "      <td>0</td>\n",
       "      <td>...</td>\n",
       "      <td>0</td>\n",
       "      <td>0</td>\n",
       "      <td>1</td>\n",
       "      <td>1</td>\n",
       "      <td>1</td>\n",
       "      <td>0</td>\n",
       "      <td>1</td>\n",
       "      <td>1</td>\n",
       "      <td>0</td>\n",
       "      <td>0</td>\n",
       "    </tr>\n",
       "    <tr>\n",
       "      <th>3</th>\n",
       "      <td>3</td>\n",
       "      <td>46</td>\n",
       "      <td>1</td>\n",
       "      <td>1</td>\n",
       "      <td>0</td>\n",
       "      <td>0</td>\n",
       "      <td>0</td>\n",
       "      <td>0</td>\n",
       "      <td>0</td>\n",
       "      <td>0</td>\n",
       "      <td>...</td>\n",
       "      <td>0</td>\n",
       "      <td>0</td>\n",
       "      <td>1</td>\n",
       "      <td>1</td>\n",
       "      <td>1</td>\n",
       "      <td>0</td>\n",
       "      <td>0</td>\n",
       "      <td>0</td>\n",
       "      <td>0</td>\n",
       "      <td>1</td>\n",
       "    </tr>\n",
       "    <tr>\n",
       "      <th>4</th>\n",
       "      <td>4</td>\n",
       "      <td>30</td>\n",
       "      <td>0</td>\n",
       "      <td>0</td>\n",
       "      <td>0</td>\n",
       "      <td>0</td>\n",
       "      <td>0</td>\n",
       "      <td>0</td>\n",
       "      <td>0</td>\n",
       "      <td>1</td>\n",
       "      <td>...</td>\n",
       "      <td>0</td>\n",
       "      <td>0</td>\n",
       "      <td>1</td>\n",
       "      <td>0</td>\n",
       "      <td>1</td>\n",
       "      <td>1</td>\n",
       "      <td>0</td>\n",
       "      <td>1</td>\n",
       "      <td>0</td>\n",
       "      <td>0</td>\n",
       "    </tr>\n",
       "  </tbody>\n",
       "</table>\n",
       "<p>5 rows × 43 columns</p>\n",
       "</div>"
      ],
      "text/plain": [
       "   index  Age  Genetics_Yes  Hormonal Changes_Yes  \\\n",
       "0      0   19             1                     0   \n",
       "1      1   43             0                     0   \n",
       "2      2   26             0                     0   \n",
       "3      3   46             1                     1   \n",
       "4      4   30             0                     0   \n",
       "\n",
       "   Medical Conditions_Androgenetic Alopecia  Medical Conditions_Dermatitis  \\\n",
       "0                                         0                              0   \n",
       "1                                         0                              0   \n",
       "2                                         0                              0   \n",
       "3                                         0                              0   \n",
       "4                                         0                              0   \n",
       "\n",
       "   Medical Conditions_Dermatosis  Medical Conditions_Eczema  \\\n",
       "0                              0                          0   \n",
       "1                              0                          1   \n",
       "2                              1                          0   \n",
       "3                              0                          0   \n",
       "4                              0                          0   \n",
       "\n",
       "   Medical Conditions_No Data  Medical Conditions_Psoriasis  ...  \\\n",
       "0                           1                             0  ...   \n",
       "1                           0                             0  ...   \n",
       "2                           0                             0  ...   \n",
       "3                           0                             0  ...   \n",
       "4                           0                             1  ...   \n",
       "\n",
       "   Nutritional Deficiencies _Zinc Deficiency  Stress_Low  Stress_Moderate  \\\n",
       "0                                          0           0                1   \n",
       "1                                          0           0                0   \n",
       "2                                          0           0                1   \n",
       "3                                          0           0                1   \n",
       "4                                          0           0                1   \n",
       "\n",
       "   Poor Hair Care Habits _Yes  Environmental Factors_Yes  Smoking_Yes  \\\n",
       "0                           1                          1            0   \n",
       "1                           1                          1            0   \n",
       "2                           1                          1            0   \n",
       "3                           1                          1            0   \n",
       "4                           0                          1            1   \n",
       "\n",
       "   Weight Loss _Yes  Age Group_25-34  Age Group_35-44  Age Group_45-50  \n",
       "0                 0                0                0                0  \n",
       "1                 0                0                1                0  \n",
       "2                 1                1                0                0  \n",
       "3                 0                0                0                1  \n",
       "4                 0                1                0                0  \n",
       "\n",
       "[5 rows x 43 columns]"
      ]
     },
     "execution_count": 44,
     "metadata": {},
     "output_type": "execute_result"
    }
   ],
   "source": [
    "X.head()"
   ]
  },
  {
   "cell_type": "code",
   "execution_count": 45,
   "id": "8dcec3af-3f4f-4e54-9d06-f5640572c26f",
   "metadata": {},
   "outputs": [],
   "source": [
    "from sklearn.model_selection import train_test_split"
   ]
  },
  {
   "cell_type": "code",
   "execution_count": 46,
   "id": "dd0bb08c-5c94-4ce5-81dc-0bf893abb695",
   "metadata": {},
   "outputs": [],
   "source": [
    "#train_test_split\n",
    "#grab the tuple unpacking and because we are testing and validating our data will be in a 70 15 15, with seed/state of 101\n",
    "X_train, X_test, y_train, y_test = train_test_split(X, y, test_size=0.3, random_state=101)"
   ]
  },
  {
   "cell_type": "code",
   "execution_count": 47,
   "id": "e75f9335-4a76-4d76-aedc-ed3b509fed14",
   "metadata": {},
   "outputs": [],
   "source": [
    "X_validation, X_holdout_test, y_validation, y_holdout_test = train_test_split(X_test, y_test, test_size=0.5, random_state=101)"
   ]
  },
  {
   "cell_type": "code",
   "execution_count": 48,
   "id": "ead74b56-9b7b-42a0-90a1-7401cdcc5629",
   "metadata": {},
   "outputs": [
    {
     "data": {
      "text/plain": [
       "999"
      ]
     },
     "execution_count": 48,
     "metadata": {},
     "output_type": "execute_result"
    }
   ],
   "source": [
    "#to make sure everything is right, we can check the size of everything\n",
    "len(df)"
   ]
  },
  {
   "cell_type": "code",
   "execution_count": 49,
   "id": "35d3c3cf-bfe1-4c36-96da-af0a403b641a",
   "metadata": {},
   "outputs": [
    {
     "data": {
      "text/plain": [
       "699"
      ]
     },
     "execution_count": 49,
     "metadata": {},
     "output_type": "execute_result"
    }
   ],
   "source": [
    "len(X_train)"
   ]
  },
  {
   "cell_type": "code",
   "execution_count": 50,
   "id": "ee5f030c-9d23-49a1-b499-e7835e56200a",
   "metadata": {},
   "outputs": [
    {
     "data": {
      "text/plain": [
       "150"
      ]
     },
     "execution_count": 50,
     "metadata": {},
     "output_type": "execute_result"
    }
   ],
   "source": [
    "len(X_validation)"
   ]
  },
  {
   "cell_type": "code",
   "execution_count": 51,
   "id": "315ccb59-05d1-4444-8e30-48ef97eefd8d",
   "metadata": {},
   "outputs": [
    {
     "data": {
      "text/plain": [
       "150"
      ]
     },
     "execution_count": 51,
     "metadata": {},
     "output_type": "execute_result"
    }
   ],
   "source": [
    "len(X_holdout_test)"
   ]
  },
  {
   "cell_type": "code",
   "execution_count": 52,
   "id": "0f2c0e98-f253-45f5-ab0c-071dbc01efb1",
   "metadata": {},
   "outputs": [],
   "source": [
    "#we can see everything adds up to 999 (length of original df) and if not we did something wrong"
   ]
  },
  {
   "cell_type": "code",
   "execution_count": 53,
   "id": "d02f0c9e-bd04-43b2-accf-ced9bf4fc5d7",
   "metadata": {},
   "outputs": [],
   "source": [
    "#just to make sure, we will scale our data as well\n",
    "from sklearn.preprocessing import StandardScaler"
   ]
  },
  {
   "cell_type": "code",
   "execution_count": 54,
   "id": "23baa2c3-23e5-4c84-87e5-730c5e34d9aa",
   "metadata": {},
   "outputs": [],
   "source": [
    "scaler = StandardScaler()\n",
    "scaled_X_train = scaler.fit_transform(X_train)\n",
    "scaled_X_test = scaler.transform(X_test)\n",
    "scaled_X_holdout_test = scaler.transform(X_holdout_test)\n",
    "scaled_X_validation = scaler.fit_transform(X_validation)"
   ]
  },
  {
   "cell_type": "code",
   "execution_count": 55,
   "id": "b6bd6941-58ac-4cbb-a5dd-aced1bf10012",
   "metadata": {},
   "outputs": [],
   "source": [
    "from sklearn.svm import SVC"
   ]
  },
  {
   "cell_type": "code",
   "execution_count": 56,
   "id": "0224c835-a7a3-4a25-a08d-b4df4991323a",
   "metadata": {},
   "outputs": [],
   "source": [
    "from sklearn.model_selection import GridSearchCV"
   ]
  },
  {
   "cell_type": "code",
   "execution_count": 57,
   "id": "15a91171-c8b6-421e-bea4-a3cd34fda853",
   "metadata": {},
   "outputs": [],
   "source": [
    "svc_model = SVC(random_state=101)"
   ]
  },
  {
   "cell_type": "code",
   "execution_count": 58,
   "id": "6667b723-1644-495c-9fa6-6af01fe02bb4",
   "metadata": {},
   "outputs": [],
   "source": [
    "kernel = ['linear', 'poly', 'rbf','sigmoid']"
   ]
  },
  {
   "cell_type": "code",
   "execution_count": 59,
   "id": "414f5bba-0152-4881-b2aa-ec560ec8bf62",
   "metadata": {},
   "outputs": [],
   "source": [
    "gamma = [0.001, 0.01, 0.1, 1, 10]"
   ]
  },
  {
   "cell_type": "code",
   "execution_count": 60,
   "id": "e691cac9-a376-4ff3-ad66-22ee1df342c6",
   "metadata": {},
   "outputs": [],
   "source": [
    "C = [0.01, 0.1, 1, 10, 100]"
   ]
  },
  {
   "cell_type": "code",
   "execution_count": 61,
   "id": "908fbf15-ce05-45d3-b3e3-e105158b1595",
   "metadata": {},
   "outputs": [],
   "source": [
    "param_grid = {'kernel': kernel,\n",
    "              'C': C,\n",
    "             'gamma': gamma}"
   ]
  },
  {
   "cell_type": "code",
   "execution_count": 62,
   "id": "82aa3774-d5d6-4cdd-901b-a40a8e6afcdd",
   "metadata": {},
   "outputs": [],
   "source": [
    "svc_grid_model = GridSearchCV(svc_model,param_grid=param_grid)"
   ]
  },
  {
   "cell_type": "code",
   "execution_count": 63,
   "id": "88087b3a-ef28-4d92-9989-674928325687",
   "metadata": {},
   "outputs": [
    {
     "data": {
      "text/plain": [
       "GridSearchCV(estimator=SVC(random_state=101),\n",
       "             param_grid={'C': [0.01, 0.1, 1, 10, 100],\n",
       "                         'gamma': [0.001, 0.01, 0.1, 1, 10],\n",
       "                         'kernel': ['linear', 'poly', 'rbf', 'sigmoid']})"
      ]
     },
     "execution_count": 63,
     "metadata": {},
     "output_type": "execute_result"
    }
   ],
   "source": [
    "svc_grid_model.fit(scaled_X_train, y_train)"
   ]
  },
  {
   "cell_type": "code",
   "execution_count": 64,
   "id": "02d20fe7",
   "metadata": {},
   "outputs": [
    {
     "data": {
      "text/plain": [
       "{'C': 1, 'gamma': 1, 'kernel': 'rbf'}"
      ]
     },
     "execution_count": 64,
     "metadata": {},
     "output_type": "execute_result"
    }
   ],
   "source": [
    "best_svc_model = svc_grid_model.best_params_\n",
    "best_svc_model"
   ]
  },
  {
   "cell_type": "code",
   "execution_count": 65,
   "id": "3921a229-c947-4b06-99a1-7093a4a00a66",
   "metadata": {},
   "outputs": [],
   "source": [
    "best_svc_model = SVC(random_state=101,C=0.1,gamma=10, kernel='sigmoid')"
   ]
  },
  {
   "cell_type": "code",
   "execution_count": 66,
   "id": "23123e59-625a-44c0-baf2-ff2142a31f42",
   "metadata": {},
   "outputs": [
    {
     "data": {
      "text/plain": [
       "SVC(C=0.1, gamma=10, kernel='sigmoid', random_state=101)"
      ]
     },
     "execution_count": 66,
     "metadata": {},
     "output_type": "execute_result"
    }
   ],
   "source": [
    "best_svc_model.fit(scaled_X_train,y_train)"
   ]
  },
  {
   "cell_type": "code",
   "execution_count": 67,
   "id": "389853ef-a944-4b6d-babe-6172a94441e6",
   "metadata": {},
   "outputs": [],
   "source": [
    "from sklearn.metrics import mean_absolute_error, mean_squared_error"
   ]
  },
  {
   "cell_type": "code",
   "execution_count": 68,
   "id": "f13fe486-5c72-4a5f-9cf7-2aff02e1a960",
   "metadata": {},
   "outputs": [],
   "source": [
    "#we will begin with validation\n",
    "svc_validation_predictions = best_svc_model.predict(scaled_X_validation)\n",
    "#validation_predictions"
   ]
  },
  {
   "cell_type": "code",
   "execution_count": 69,
   "id": "7e313750-91a3-4fbc-bfa9-3f2adc062988",
   "metadata": {},
   "outputs": [
    {
     "data": {
      "text/plain": [
       "0.4866666666666667"
      ]
     },
     "execution_count": 69,
     "metadata": {},
     "output_type": "execute_result"
    }
   ],
   "source": [
    "svc_validate_mae = mean_absolute_error(y_validation, svc_validation_predictions) #compare to mean value\n",
    "svc_validate_mae"
   ]
  },
  {
   "cell_type": "code",
   "execution_count": 70,
   "id": "1a94cd53-13ab-4fc0-8a3d-5728636f3ec3",
   "metadata": {},
   "outputs": [
    {
     "data": {
      "text/plain": [
       "0.697614984548545"
      ]
     },
     "execution_count": 70,
     "metadata": {},
     "output_type": "execute_result"
    }
   ],
   "source": [
    "svc_validate_rmse = mean_squared_error(y_validation, svc_validation_predictions) ** 0.5 #RMSE #compare to STD\n",
    "svc_validate_rmse"
   ]
  },
  {
   "cell_type": "code",
   "execution_count": 71,
   "id": "5883fa75-298e-413b-b646-3ba0866e3d93",
   "metadata": {},
   "outputs": [],
   "source": [
    "#as a baseline we have MAE: 0.4 and RMSE =0.63\n",
    "#now we will being using testing\n",
    "svc_holdout_predictions = best_svc_model.predict(scaled_X_holdout_test)"
   ]
  },
  {
   "cell_type": "code",
   "execution_count": 72,
   "id": "b674f128",
   "metadata": {},
   "outputs": [],
   "source": [
    "from sklearn.metrics import accuracy_score, confusion_matrix, classification_report, plot_confusion_matrix"
   ]
  },
  {
   "cell_type": "code",
   "execution_count": 73,
   "id": "2768118e",
   "metadata": {},
   "outputs": [
    {
     "data": {
      "text/plain": [
       "0.5266666666666666"
      ]
     },
     "execution_count": 73,
     "metadata": {},
     "output_type": "execute_result"
    }
   ],
   "source": [
    "accuracy_score(y_holdout_test, svc_holdout_predictions)\n",
    "#initial accuracy score for holdout"
   ]
  },
  {
   "cell_type": "code",
   "execution_count": 74,
   "id": "72f33f8f-ae97-47c8-8df8-f877e8e70782",
   "metadata": {},
   "outputs": [
    {
     "data": {
      "text/plain": [
       "0.47333333333333333"
      ]
     },
     "execution_count": 74,
     "metadata": {},
     "output_type": "execute_result"
    }
   ],
   "source": [
    "svc_holdout_mae = mean_absolute_error(y_holdout_test, svc_holdout_predictions) \n",
    "svc_holdout_mae"
   ]
  },
  {
   "cell_type": "code",
   "execution_count": 75,
   "id": "770d6bb3-5498-4047-9c18-bc228a665a96",
   "metadata": {},
   "outputs": [
    {
     "data": {
      "text/plain": [
       "0.6879922480183431"
      ]
     },
     "execution_count": 75,
     "metadata": {},
     "output_type": "execute_result"
    }
   ],
   "source": [
    "svc_holdout_rmse = mean_squared_error(y_holdout_test, svc_holdout_predictions) ** 0.5 \n",
    "svc_holdout_rmse"
   ]
  },
  {
   "cell_type": "code",
   "execution_count": 76,
   "id": "7f17eca4-0a0e-4b48-9fb7-574ea4f36ded",
   "metadata": {},
   "outputs": [],
   "source": [
    "svc_y_final_pred = best_svc_model.predict(scaled_X_test)\n",
    "#svc_y_final_pred"
   ]
  },
  {
   "cell_type": "code",
   "execution_count": 77,
   "id": "4c894014-6ebd-47c1-a6e2-32749e299755",
   "metadata": {},
   "outputs": [
    {
     "data": {
      "text/plain": [
       "0.5333333333333333"
      ]
     },
     "execution_count": 77,
     "metadata": {},
     "output_type": "execute_result"
    }
   ],
   "source": [
    "accuracy_score(y_test,svc_y_final_pred)"
   ]
  },
  {
   "cell_type": "code",
   "execution_count": 78,
   "id": "5f28399b",
   "metadata": {},
   "outputs": [
    {
     "name": "stdout",
     "output_type": "stream",
     "text": [
      "              precision    recall  f1-score   support\n",
      "\n",
      "           0       0.53      0.58      0.55       151\n",
      "           1       0.53      0.49      0.51       149\n",
      "\n",
      "    accuracy                           0.53       300\n",
      "   macro avg       0.53      0.53      0.53       300\n",
      "weighted avg       0.53      0.53      0.53       300\n",
      "\n"
     ]
    }
   ],
   "source": [
    "print(classification_report(y_test,svc_y_final_pred))"
   ]
  },
  {
   "cell_type": "code",
   "execution_count": 79,
   "id": "48fe818a-5a49-464b-8ef6-a49059ce1573",
   "metadata": {},
   "outputs": [
    {
     "data": {
      "text/plain": [
       "{'0': {'precision': 0.5337423312883436,\n",
       "  'recall': 0.5761589403973509,\n",
       "  'f1-score': 0.5541401273885349,\n",
       "  'support': 151},\n",
       " '1': {'precision': 0.5328467153284672,\n",
       "  'recall': 0.4899328859060403,\n",
       "  'f1-score': 0.5104895104895105,\n",
       "  'support': 149},\n",
       " 'accuracy': 0.5333333333333333,\n",
       " 'macro avg': {'precision': 0.5332945233084054,\n",
       "  'recall': 0.5330459131516956,\n",
       "  'f1-score': 0.5323148189390228,\n",
       "  'support': 300},\n",
       " 'weighted avg': {'precision': 0.5332975086949383,\n",
       "  'recall': 0.5333333333333333,\n",
       "  'f1-score': 0.5324603209953529,\n",
       "  'support': 300}}"
      ]
     },
     "execution_count": 79,
     "metadata": {},
     "output_type": "execute_result"
    }
   ],
   "source": [
    "svc_report = classification_report(y_test,svc_y_final_pred,output_dict=True)\n",
    "svc_report"
   ]
  },
  {
   "cell_type": "code",
   "execution_count": null,
   "id": "f19ad52d",
   "metadata": {},
   "outputs": [],
   "source": []
  },
  {
   "cell_type": "code",
   "execution_count": null,
   "id": "1eb23512-290a-4b2b-8480-9bb44a768b8f",
   "metadata": {},
   "outputs": [],
   "source": []
  },
  {
   "cell_type": "code",
   "execution_count": 80,
   "id": "84467518-dfbf-4c12-b805-2e05eefe818f",
   "metadata": {},
   "outputs": [],
   "source": [
    "#that's with svc, lets see how it compares to logistic regression "
   ]
  },
  {
   "cell_type": "code",
   "execution_count": 81,
   "id": "efc28bb1-aa99-4b56-a6d8-b9726e00a3e4",
   "metadata": {},
   "outputs": [],
   "source": [
    "from sklearn.linear_model import LogisticRegression"
   ]
  },
  {
   "cell_type": "code",
   "execution_count": 82,
   "id": "7fbb714c-81c7-4df2-a85c-1b6c67295b23",
   "metadata": {},
   "outputs": [],
   "source": [
    "log_model = LogisticRegression()"
   ]
  },
  {
   "cell_type": "code",
   "execution_count": 83,
   "id": "bb1ce767-01f2-477c-93ba-798eb37aef67",
   "metadata": {},
   "outputs": [],
   "source": [
    "penalty = ['l1','l2','elasticnet']"
   ]
  },
  {
   "cell_type": "code",
   "execution_count": 84,
   "id": "153b4853-78a0-482f-a707-edb1c94c6cd1",
   "metadata": {},
   "outputs": [],
   "source": [
    "C = [0.001, 0.005, 0.01, 0.05, 0.1, 0.5, 1, 10, 100]"
   ]
  },
  {
   "cell_type": "code",
   "execution_count": 85,
   "id": "ed7f97d7-3f42-4cef-b41f-a1c6f4bddf78",
   "metadata": {},
   "outputs": [],
   "source": [
    "max_iter = [100,500,1000, 1500, 2500, 3000]"
   ]
  },
  {
   "cell_type": "code",
   "execution_count": 86,
   "id": "ddd042c3-102d-48c4-ab49-a814751762d0",
   "metadata": {},
   "outputs": [],
   "source": [
    "param_grid = {'penalty': penalty,\n",
    "              'C' : C,\n",
    "              'max_iter': max_iter}"
   ]
  },
  {
   "cell_type": "code",
   "execution_count": 87,
   "id": "be667d76-2f29-42f6-a0da-0ef3c691128a",
   "metadata": {},
   "outputs": [],
   "source": [
    "lr_grid_model = GridSearchCV(log_model,param_grid=param_grid)"
   ]
  },
  {
   "cell_type": "code",
   "execution_count": 88,
   "id": "ca02af65-4651-4a36-b75e-ddd8ecd28199",
   "metadata": {},
   "outputs": [
    {
     "name": "stderr",
     "output_type": "stream",
     "text": [
      "/opt/anaconda3/lib/python3.9/site-packages/sklearn/model_selection/_validation.py:372: FitFailedWarning: \n",
      "540 fits failed out of a total of 810.\n",
      "The score on these train-test partitions for these parameters will be set to nan.\n",
      "If these failures are not expected, you can try to debug them by setting error_score='raise'.\n",
      "\n",
      "Below are more details about the failures:\n",
      "--------------------------------------------------------------------------------\n",
      "270 fits failed with the following error:\n",
      "Traceback (most recent call last):\n",
      "  File \"/opt/anaconda3/lib/python3.9/site-packages/sklearn/model_selection/_validation.py\", line 680, in _fit_and_score\n",
      "    estimator.fit(X_train, y_train, **fit_params)\n",
      "  File \"/opt/anaconda3/lib/python3.9/site-packages/sklearn/linear_model/_logistic.py\", line 1461, in fit\n",
      "    solver = _check_solver(self.solver, self.penalty, self.dual)\n",
      "  File \"/opt/anaconda3/lib/python3.9/site-packages/sklearn/linear_model/_logistic.py\", line 447, in _check_solver\n",
      "    raise ValueError(\n",
      "ValueError: Solver lbfgs supports only 'l2' or 'none' penalties, got l1 penalty.\n",
      "\n",
      "--------------------------------------------------------------------------------\n",
      "270 fits failed with the following error:\n",
      "Traceback (most recent call last):\n",
      "  File \"/opt/anaconda3/lib/python3.9/site-packages/sklearn/model_selection/_validation.py\", line 680, in _fit_and_score\n",
      "    estimator.fit(X_train, y_train, **fit_params)\n",
      "  File \"/opt/anaconda3/lib/python3.9/site-packages/sklearn/linear_model/_logistic.py\", line 1461, in fit\n",
      "    solver = _check_solver(self.solver, self.penalty, self.dual)\n",
      "  File \"/opt/anaconda3/lib/python3.9/site-packages/sklearn/linear_model/_logistic.py\", line 447, in _check_solver\n",
      "    raise ValueError(\n",
      "ValueError: Solver lbfgs supports only 'l2' or 'none' penalties, got elasticnet penalty.\n",
      "\n",
      "  warnings.warn(some_fits_failed_message, FitFailedWarning)\n",
      "/opt/anaconda3/lib/python3.9/site-packages/sklearn/model_selection/_search.py:969: UserWarning: One or more of the test scores are non-finite: [       nan 0.47218911        nan        nan 0.47218911        nan\n",
      "        nan 0.47218911        nan        nan 0.47218911        nan\n",
      "        nan 0.47218911        nan        nan 0.47218911        nan\n",
      "        nan 0.47215827        nan        nan 0.47215827        nan\n",
      "        nan 0.47215827        nan        nan 0.47215827        nan\n",
      "        nan 0.47215827        nan        nan 0.47215827        nan\n",
      "        nan 0.47216855        nan        nan 0.47216855        nan\n",
      "        nan 0.47216855        nan        nan 0.47216855        nan\n",
      "        nan 0.47216855        nan        nan 0.47216855        nan\n",
      "        nan 0.47647482        nan        nan 0.47647482        nan\n",
      "        nan 0.47647482        nan        nan 0.47647482        nan\n",
      "        nan 0.47647482        nan        nan 0.47647482        nan\n",
      "        nan 0.4736074         nan        nan 0.4736074         nan\n",
      "        nan 0.4736074         nan        nan 0.4736074         nan\n",
      "        nan 0.4736074         nan        nan 0.4736074         nan\n",
      "        nan 0.47790339        nan        nan 0.47790339        nan\n",
      "        nan 0.47790339        nan        nan 0.47790339        nan\n",
      "        nan 0.47790339        nan        nan 0.47790339        nan\n",
      "        nan 0.47933196        nan        nan 0.47933196        nan\n",
      "        nan 0.47933196        nan        nan 0.47933196        nan\n",
      "        nan 0.47933196        nan        nan 0.47933196        nan\n",
      "        nan 0.47647482        nan        nan 0.47647482        nan\n",
      "        nan 0.47647482        nan        nan 0.47647482        nan\n",
      "        nan 0.47647482        nan        nan 0.47647482        nan\n",
      "        nan 0.47790339        nan        nan 0.47790339        nan\n",
      "        nan 0.47790339        nan        nan 0.47790339        nan\n",
      "        nan 0.47790339        nan        nan 0.47790339        nan]\n",
      "  warnings.warn(\n"
     ]
    },
    {
     "data": {
      "text/plain": [
       "GridSearchCV(estimator=LogisticRegression(),\n",
       "             param_grid={'C': [0.001, 0.005, 0.01, 0.05, 0.1, 0.5, 1, 10, 100],\n",
       "                         'max_iter': [100, 500, 1000, 1500, 2500, 3000],\n",
       "                         'penalty': ['l1', 'l2', 'elasticnet']})"
      ]
     },
     "execution_count": 88,
     "metadata": {},
     "output_type": "execute_result"
    }
   ],
   "source": [
    "lr_grid_model.fit(scaled_X_train,y_train)"
   ]
  },
  {
   "cell_type": "code",
   "execution_count": 89,
   "id": "d93a7de9-c0cb-4533-ba16-690662b553ef",
   "metadata": {},
   "outputs": [
    {
     "data": {
      "text/plain": [
       "{'C': 1, 'max_iter': 100, 'penalty': 'l2'}"
      ]
     },
     "execution_count": 89,
     "metadata": {},
     "output_type": "execute_result"
    }
   ],
   "source": [
    "lr_grid_model.best_params_"
   ]
  },
  {
   "cell_type": "code",
   "execution_count": 90,
   "id": "1fb58447-acca-462f-a809-af62d371357b",
   "metadata": {},
   "outputs": [
    {
     "data": {
      "text/plain": [
       "LogisticRegression(C=0.001)"
      ]
     },
     "execution_count": 90,
     "metadata": {},
     "output_type": "execute_result"
    }
   ],
   "source": [
    "best_lr_model = LogisticRegression(C=0.001, max_iter=100, penalty='l2')\n",
    "best_lr_model"
   ]
  },
  {
   "cell_type": "code",
   "execution_count": 91,
   "id": "3e2351cf-54b7-44e2-979c-fc9fe1a9507f",
   "metadata": {},
   "outputs": [
    {
     "data": {
      "text/plain": [
       "LogisticRegression(C=0.001)"
      ]
     },
     "execution_count": 91,
     "metadata": {},
     "output_type": "execute_result"
    }
   ],
   "source": [
    "best_lr_model.fit(scaled_X_train,y_train)"
   ]
  },
  {
   "cell_type": "code",
   "execution_count": 92,
   "id": "27022747-36e6-446d-89f5-5f2e0ee2d0cb",
   "metadata": {},
   "outputs": [],
   "source": [
    "lr_validation_predictions = best_lr_model.predict(scaled_X_validation)"
   ]
  },
  {
   "cell_type": "code",
   "execution_count": 93,
   "id": "ff9c222d-28a2-46e1-aed9-fb62c2811cbf",
   "metadata": {},
   "outputs": [
    {
     "data": {
      "text/plain": [
       "0.5"
      ]
     },
     "execution_count": 93,
     "metadata": {},
     "output_type": "execute_result"
    }
   ],
   "source": [
    "lr_validate_mae = mean_absolute_error(y_validation, lr_validation_predictions) #compare to mean value\n",
    "lr_validate_mae"
   ]
  },
  {
   "cell_type": "code",
   "execution_count": 94,
   "id": "07e15dda-c643-4d76-a2d4-3b3409925fe7",
   "metadata": {},
   "outputs": [
    {
     "data": {
      "text/plain": [
       "0.7071067811865476"
      ]
     },
     "execution_count": 94,
     "metadata": {},
     "output_type": "execute_result"
    }
   ],
   "source": [
    "lr_validate_rmse = mean_squared_error(y_validation, lr_validation_predictions) ** 0.5 \n",
    "lr_validate_rmse"
   ]
  },
  {
   "cell_type": "code",
   "execution_count": 95,
   "id": "c0b8ea7a",
   "metadata": {},
   "outputs": [],
   "source": [
    "#since we have a baseline of mae=0.5 and rmse=0.7, let's compare it to the holdout test\n",
    "lr_holdout_predictions = best_lr_model.predict(scaled_X_holdout_test)"
   ]
  },
  {
   "cell_type": "code",
   "execution_count": 96,
   "id": "afc2da6a",
   "metadata": {},
   "outputs": [
    {
     "data": {
      "text/plain": [
       "0.4666666666666667"
      ]
     },
     "execution_count": 96,
     "metadata": {},
     "output_type": "execute_result"
    }
   ],
   "source": [
    "accuracy_score(y_holdout_test,lr_holdout_predictions)"
   ]
  },
  {
   "cell_type": "code",
   "execution_count": 97,
   "id": "43212d7f",
   "metadata": {},
   "outputs": [
    {
     "data": {
      "text/plain": [
       "0.5333333333333333"
      ]
     },
     "execution_count": 97,
     "metadata": {},
     "output_type": "execute_result"
    }
   ],
   "source": [
    "lr_holdout_mae = mean_absolute_error(y_holdout_test, lr_holdout_predictions)\n",
    "lr_holdout_mae"
   ]
  },
  {
   "cell_type": "code",
   "execution_count": 98,
   "id": "7c8c6796",
   "metadata": {},
   "outputs": [
    {
     "data": {
      "text/plain": [
       "0.7302967433402214"
      ]
     },
     "execution_count": 98,
     "metadata": {},
     "output_type": "execute_result"
    }
   ],
   "source": [
    "lr_holdout_rmse = mean_squared_error(y_holdout_test, lr_holdout_predictions) **0.5\n",
    "lr_holdout_rmse"
   ]
  },
  {
   "cell_type": "code",
   "execution_count": 99,
   "id": "9f97c1a5",
   "metadata": {},
   "outputs": [],
   "source": [
    "lr_y_final_pred = best_svc_model.predict(scaled_X_test)"
   ]
  },
  {
   "cell_type": "code",
   "execution_count": 100,
   "id": "5b879fe2",
   "metadata": {
    "scrolled": true
   },
   "outputs": [
    {
     "data": {
      "text/plain": [
       "0.5333333333333333"
      ]
     },
     "execution_count": 100,
     "metadata": {},
     "output_type": "execute_result"
    }
   ],
   "source": [
    "accuracy_score(y_test, lr_y_final_pred)"
   ]
  },
  {
   "cell_type": "code",
   "execution_count": 101,
   "id": "999a2675",
   "metadata": {},
   "outputs": [
    {
     "name": "stdout",
     "output_type": "stream",
     "text": [
      "              precision    recall  f1-score   support\n",
      "\n",
      "           0       0.53      0.58      0.55       151\n",
      "           1       0.53      0.49      0.51       149\n",
      "\n",
      "    accuracy                           0.53       300\n",
      "   macro avg       0.53      0.53      0.53       300\n",
      "weighted avg       0.53      0.53      0.53       300\n",
      "\n"
     ]
    }
   ],
   "source": [
    "print(classification_report(y_test,lr_y_final_pred))"
   ]
  },
  {
   "cell_type": "code",
   "execution_count": 102,
   "id": "b251b03f-ac49-43ae-97bb-cd9e409da778",
   "metadata": {},
   "outputs": [],
   "source": [
    "lr_report = classification_report(y_test,lr_y_final_pred,output_dict=True)"
   ]
  },
  {
   "cell_type": "code",
   "execution_count": null,
   "id": "4184b965-8ca9-4246-b0ab-d7e8790cc44b",
   "metadata": {},
   "outputs": [],
   "source": []
  },
  {
   "cell_type": "code",
   "execution_count": 103,
   "id": "44708e17-9059-4ed3-8e8b-370cca449333",
   "metadata": {},
   "outputs": [],
   "source": [
    "#now lets try a random forest\n",
    "from sklearn.ensemble import RandomForestClassifier"
   ]
  },
  {
   "cell_type": "code",
   "execution_count": 104,
   "id": "36febaf2-d1f7-4190-867b-ed2686386a16",
   "metadata": {},
   "outputs": [],
   "source": [
    "rfc_model = RandomForestClassifier()"
   ]
  },
  {
   "cell_type": "code",
   "execution_count": 105,
   "id": "11590e95-90c9-4a7c-aa85-07e0f601a5ca",
   "metadata": {},
   "outputs": [],
   "source": [
    "n_estimators = [100, 200, 500, 1000, 1500, 2000, 2500]"
   ]
  },
  {
   "cell_type": "code",
   "execution_count": 106,
   "id": "4aec46fd-d674-44b1-8e0e-a29e6dcc24ed",
   "metadata": {},
   "outputs": [],
   "source": [
    "max_features = ['sqrt', 'log2', None, 2, 5, 10]"
   ]
  },
  {
   "cell_type": "code",
   "execution_count": 107,
   "id": "13f02589-24ac-4028-b571-e3ed7f3118a4",
   "metadata": {},
   "outputs": [],
   "source": [
    "bootstrap = [True, False]"
   ]
  },
  {
   "cell_type": "code",
   "execution_count": 108,
   "id": "0e65e024-c69e-4225-aca1-58aaaac05cf6",
   "metadata": {},
   "outputs": [],
   "source": [
    "oob_score = [True, False]"
   ]
  },
  {
   "cell_type": "code",
   "execution_count": 109,
   "id": "39b0467a-24da-437e-b2a0-0b1b3fcd54bd",
   "metadata": {},
   "outputs": [],
   "source": [
    "param_grid = {'n_estimators': n_estimators,\n",
    "              'max_features': max_features,\n",
    "              'bootstrap': bootstrap,\n",
    "              'oob_score': oob_score}"
   ]
  },
  {
   "cell_type": "code",
   "execution_count": 110,
   "id": "c22c0170-4295-4c5c-8cbb-56779a062251",
   "metadata": {},
   "outputs": [],
   "source": [
    "rfc_grid_model = GridSearchCV(rfc_model, param_grid)"
   ]
  },
  {
   "cell_type": "code",
   "execution_count": 111,
   "id": "47aa2263-41eb-4993-ac8f-014899239fac",
   "metadata": {},
   "outputs": [
    {
     "name": "stderr",
     "output_type": "stream",
     "text": [
      "/opt/anaconda3/lib/python3.9/site-packages/sklearn/model_selection/_validation.py:372: FitFailedWarning: \n",
      "210 fits failed out of a total of 840.\n",
      "The score on these train-test partitions for these parameters will be set to nan.\n",
      "If these failures are not expected, you can try to debug them by setting error_score='raise'.\n",
      "\n",
      "Below are more details about the failures:\n",
      "--------------------------------------------------------------------------------\n",
      "210 fits failed with the following error:\n",
      "Traceback (most recent call last):\n",
      "  File \"/opt/anaconda3/lib/python3.9/site-packages/sklearn/model_selection/_validation.py\", line 680, in _fit_and_score\n",
      "    estimator.fit(X_train, y_train, **fit_params)\n",
      "  File \"/opt/anaconda3/lib/python3.9/site-packages/sklearn/ensemble/_forest.py\", line 411, in fit\n",
      "    raise ValueError(\"Out of bag estimation only available if bootstrap=True\")\n",
      "ValueError: Out of bag estimation only available if bootstrap=True\n",
      "\n",
      "  warnings.warn(some_fits_failed_message, FitFailedWarning)\n",
      "/opt/anaconda3/lib/python3.9/site-packages/sklearn/model_selection/_search.py:969: UserWarning: One or more of the test scores are non-finite: [0.49791367 0.49362795 0.49646454 0.49935252 0.49505653 0.48792395\n",
      " 0.48938335 0.48511819 0.46645427 0.48221994 0.48504625 0.49216855\n",
      " 0.49505653 0.49078109 0.49650565 0.49359712 0.50362795 0.4936074\n",
      " 0.49502569 0.5108222  0.4993628  0.49790339 0.50220966 0.4864851\n",
      " 0.49937307 0.48934224 0.49505653 0.48934224 0.47355601 0.49071942\n",
      " 0.49216855 0.48795478 0.49646454 0.49366906 0.49219938 0.49938335\n",
      " 0.50078109 0.49935252 0.50219938 0.50650565 0.49505653 0.48790339\n",
      " 0.51073998 0.48361768 0.50364851 0.49932169 0.50797533 0.48937307\n",
      " 0.50365879 0.50650565 0.50080164 0.49789311 0.49649538 0.49649538\n",
      " 0.49791367 0.50221994 0.50653649 0.51077081 0.48643371 0.49935252\n",
      " 0.4864851  0.50225077 0.48934224 0.48364851 0.50361768 0.51225077\n",
      " 0.50365879 0.48647482 0.49364851 0.48647482 0.49790339 0.487852\n",
      " 0.49937307 0.49935252 0.4879445  0.48934224 0.48937307 0.49219938\n",
      " 0.49080164 0.48937307 0.48934224 0.48223022 0.49509764 0.49079137\n",
      "        nan 0.51364851        nan 0.51509764        nan 0.51366906\n",
      "        nan 0.5093628         nan 0.51652621        nan 0.51654676\n",
      "        nan 0.51793422        nan 0.50081192        nan 0.51652621\n",
      "        nan 0.50225077        nan 0.51225077        nan 0.51651593\n",
      "        nan 0.50938335        nan 0.51221994        nan 0.49213772\n",
      "        nan 0.48212744        nan 0.48499486        nan 0.48357657\n",
      "        nan 0.49070915        nan 0.49070915        nan 0.48357657\n",
      "        nan 0.51361768        nan 0.51789311        nan 0.50364851\n",
      "        nan 0.51507708        nan 0.52080164        nan 0.50790339\n",
      "        nan 0.50789311        nan 0.51078109        nan 0.48929085\n",
      "        nan 0.50361768        nan 0.50938335        nan 0.51508736\n",
      "        nan 0.5079445         nan 0.51079137        nan 0.50223022\n",
      "        nan 0.50505653        nan 0.51223022        nan 0.49078109\n",
      "        nan 0.50939363        nan 0.50079137        nan 0.49509764]\n",
      "  warnings.warn(\n"
     ]
    },
    {
     "data": {
      "text/plain": [
       "GridSearchCV(estimator=RandomForestClassifier(),\n",
       "             param_grid={'bootstrap': [True, False],\n",
       "                         'max_features': ['sqrt', 'log2', None, 2, 5, 10],\n",
       "                         'n_estimators': [100, 200, 500, 1000, 1500, 2000,\n",
       "                                          2500],\n",
       "                         'oob_score': [True, False]})"
      ]
     },
     "execution_count": 111,
     "metadata": {},
     "output_type": "execute_result"
    }
   ],
   "source": [
    "rfc_grid_model.fit(scaled_X_train,y_train)"
   ]
  },
  {
   "cell_type": "code",
   "execution_count": 112,
   "id": "1aad5d08-18ca-4c22-a0bc-5f87ed848d77",
   "metadata": {},
   "outputs": [
    {
     "data": {
      "text/plain": [
       "{'bootstrap': False,\n",
       " 'max_features': 2,\n",
       " 'n_estimators': 1500,\n",
       " 'oob_score': False}"
      ]
     },
     "execution_count": 112,
     "metadata": {},
     "output_type": "execute_result"
    }
   ],
   "source": [
    "best_rfc_model = rfc_grid_model.best_params_\n",
    "best_rfc_model"
   ]
  },
  {
   "cell_type": "code",
   "execution_count": 113,
   "id": "76b22d87-2877-454b-832b-cc4f01ae4b7a",
   "metadata": {},
   "outputs": [],
   "source": [
    "best_rfc_model = RandomForestClassifier(bootstrap=False ,max_features=None,\n",
    "                                        n_estimators=1000, oob_score=False)"
   ]
  },
  {
   "cell_type": "code",
   "execution_count": 114,
   "id": "ee98855e-f550-459e-bd6b-bd5415231798",
   "metadata": {},
   "outputs": [
    {
     "data": {
      "text/plain": [
       "RandomForestClassifier(bootstrap=False, max_features=None, n_estimators=1000)"
      ]
     },
     "execution_count": 114,
     "metadata": {},
     "output_type": "execute_result"
    }
   ],
   "source": [
    "best_rfc_model.fit(scaled_X_train,y_train)"
   ]
  },
  {
   "cell_type": "code",
   "execution_count": 115,
   "id": "0889c3e6-6198-494c-9d91-24713c7f989a",
   "metadata": {},
   "outputs": [],
   "source": [
    "rfc_validation_predictions = best_rfc_model.predict(scaled_X_validation)"
   ]
  },
  {
   "cell_type": "code",
   "execution_count": 116,
   "id": "39963efa-aace-475c-a644-004b9b50fcd6",
   "metadata": {},
   "outputs": [
    {
     "data": {
      "text/plain": [
       "0.46"
      ]
     },
     "execution_count": 116,
     "metadata": {},
     "output_type": "execute_result"
    }
   ],
   "source": [
    "#gathering baseline stats to compare to holdout test stats\n",
    "rfc_validate_mae = mean_absolute_error(y_validation, rfc_validation_predictions)\n",
    "rfc_validate_mae"
   ]
  },
  {
   "cell_type": "code",
   "execution_count": 117,
   "id": "e5c10185",
   "metadata": {},
   "outputs": [
    {
     "data": {
      "text/plain": [
       "0.6782329983125268"
      ]
     },
     "execution_count": 117,
     "metadata": {},
     "output_type": "execute_result"
    }
   ],
   "source": [
    "rfc_validate_rmse = mean_squared_error(y_validation, rfc_validation_predictions) **0.5\n",
    "rfc_validate_rmse"
   ]
  },
  {
   "cell_type": "code",
   "execution_count": 118,
   "id": "f89c602c",
   "metadata": {},
   "outputs": [],
   "source": [
    "rfc_holdout_predictions = best_rfc_model.predict(scaled_X_holdout_test)"
   ]
  },
  {
   "cell_type": "code",
   "execution_count": 119,
   "id": "6ca54f16",
   "metadata": {
    "scrolled": true
   },
   "outputs": [
    {
     "data": {
      "text/plain": [
       "0.5266666666666666"
      ]
     },
     "execution_count": 119,
     "metadata": {},
     "output_type": "execute_result"
    }
   ],
   "source": [
    "accuracy_score(y_holdout_test, rfc_holdout_predictions)"
   ]
  },
  {
   "cell_type": "code",
   "execution_count": 120,
   "id": "7d9910ae",
   "metadata": {},
   "outputs": [
    {
     "data": {
      "text/plain": [
       "0.4533333333333333"
      ]
     },
     "execution_count": 120,
     "metadata": {},
     "output_type": "execute_result"
    }
   ],
   "source": [
    "rfc_holdout_mae = mean_absolute_error(y_holdout_test, rfc_validation_predictions)\n",
    "rfc_holdout_mae"
   ]
  },
  {
   "cell_type": "code",
   "execution_count": 177,
   "id": "c5c3e98e",
   "metadata": {},
   "outputs": [
    {
     "data": {
      "text/plain": [
       "0.6733003292241385"
      ]
     },
     "execution_count": 177,
     "metadata": {},
     "output_type": "execute_result"
    }
   ],
   "source": [
    "rfc_holdout_rmse = mean_squared_error(y_holdout_test, rfc_validation_predictions) **0.5\n",
    "rfc_holdout_rmse"
   ]
  },
  {
   "cell_type": "code",
   "execution_count": 178,
   "id": "7b08b23a",
   "metadata": {},
   "outputs": [],
   "source": [
    "rfc_y_final_pred = best_rfc_model.predict(scaled_X_test)"
   ]
  },
  {
   "cell_type": "code",
   "execution_count": 179,
   "id": "f99efd6c",
   "metadata": {},
   "outputs": [
    {
     "data": {
      "text/plain": [
       "0.5233333333333333"
      ]
     },
     "execution_count": 179,
     "metadata": {},
     "output_type": "execute_result"
    }
   ],
   "source": [
    "accuracy_score(y_test,rfc_y_final_pred)"
   ]
  },
  {
   "cell_type": "code",
   "execution_count": 180,
   "id": "c3873bd6",
   "metadata": {},
   "outputs": [
    {
     "name": "stdout",
     "output_type": "stream",
     "text": [
      "              precision    recall  f1-score   support\n",
      "\n",
      "           0       0.53      0.53      0.53       151\n",
      "           1       0.52      0.52      0.52       149\n",
      "\n",
      "    accuracy                           0.52       300\n",
      "   macro avg       0.52      0.52      0.52       300\n",
      "weighted avg       0.52      0.52      0.52       300\n",
      "\n"
     ]
    }
   ],
   "source": [
    "print(classification_report(y_test,rfc_y_final_pred))"
   ]
  },
  {
   "cell_type": "code",
   "execution_count": 181,
   "id": "86379e23-f57d-4886-8f1a-e9657f8cae73",
   "metadata": {},
   "outputs": [],
   "source": [
    "rfc_report = classification_report(y_test,rfc_y_final_pred,output_dict=True)"
   ]
  },
  {
   "cell_type": "code",
   "execution_count": null,
   "id": "968703f7",
   "metadata": {},
   "outputs": [],
   "source": []
  },
  {
   "cell_type": "code",
   "execution_count": 182,
   "id": "685ce258-c024-4b3b-af35-052825e29ad3",
   "metadata": {},
   "outputs": [],
   "source": [
    "from sklearn.naive_bayes import CategoricalNB, BernoulliNB"
   ]
  },
  {
   "cell_type": "code",
   "execution_count": 183,
   "id": "7f7ad69a-9efe-47af-8512-1159b9719666",
   "metadata": {},
   "outputs": [],
   "source": [
    "nb_model = BernoulliNB()"
   ]
  },
  {
   "cell_type": "code",
   "execution_count": 184,
   "id": "60411995-5420-41f0-abb9-8f8e8eaf8adf",
   "metadata": {},
   "outputs": [],
   "source": [
    "alpha = [0.001,0.01, 0.1,0.2,0.5,0.7,1,2,5,10]"
   ]
  },
  {
   "cell_type": "code",
   "execution_count": 185,
   "id": "3ce06b76-f00b-44db-94c7-5a2c8424636c",
   "metadata": {},
   "outputs": [],
   "source": [
    "fit_prior = [True, False]"
   ]
  },
  {
   "cell_type": "code",
   "execution_count": 186,
   "id": "ff295b43",
   "metadata": {},
   "outputs": [],
   "source": [
    "binarize = [None, 0.0, 0.5, 1.0]"
   ]
  },
  {
   "cell_type": "code",
   "execution_count": 187,
   "id": "74a2e173-4f5a-459e-abc2-ebab8512fa92",
   "metadata": {},
   "outputs": [],
   "source": [
    "param_grid = {'alpha': alpha,\n",
    "             'fit_prior': fit_prior,\n",
    "             'binarize': binarize}"
   ]
  },
  {
   "cell_type": "code",
   "execution_count": 188,
   "id": "61823556-15d7-4a31-9bec-1c1aef97ae49",
   "metadata": {},
   "outputs": [],
   "source": [
    "nb_grid_model = GridSearchCV(nb_model, param_grid)"
   ]
  },
  {
   "cell_type": "code",
   "execution_count": 189,
   "id": "6d130146-ae61-47df-aca4-eb6d37b1d367",
   "metadata": {},
   "outputs": [
    {
     "name": "stderr",
     "output_type": "stream",
     "text": [
      "/opt/anaconda3/lib/python3.9/site-packages/sklearn/naive_bayes.py:1168: RuntimeWarning: invalid value encountered in log\n",
      "  self.feature_log_prob_ = np.log(smoothed_fc) - np.log(\n",
      "/opt/anaconda3/lib/python3.9/site-packages/sklearn/naive_bayes.py:1168: RuntimeWarning: invalid value encountered in log\n",
      "  self.feature_log_prob_ = np.log(smoothed_fc) - np.log(\n",
      "/opt/anaconda3/lib/python3.9/site-packages/sklearn/naive_bayes.py:1168: RuntimeWarning: invalid value encountered in log\n",
      "  self.feature_log_prob_ = np.log(smoothed_fc) - np.log(\n",
      "/opt/anaconda3/lib/python3.9/site-packages/sklearn/naive_bayes.py:1168: RuntimeWarning: invalid value encountered in log\n",
      "  self.feature_log_prob_ = np.log(smoothed_fc) - np.log(\n",
      "/opt/anaconda3/lib/python3.9/site-packages/sklearn/naive_bayes.py:1168: RuntimeWarning: invalid value encountered in log\n",
      "  self.feature_log_prob_ = np.log(smoothed_fc) - np.log(\n",
      "/opt/anaconda3/lib/python3.9/site-packages/sklearn/naive_bayes.py:1168: RuntimeWarning: invalid value encountered in log\n",
      "  self.feature_log_prob_ = np.log(smoothed_fc) - np.log(\n",
      "/opt/anaconda3/lib/python3.9/site-packages/sklearn/naive_bayes.py:1168: RuntimeWarning: invalid value encountered in log\n",
      "  self.feature_log_prob_ = np.log(smoothed_fc) - np.log(\n",
      "/opt/anaconda3/lib/python3.9/site-packages/sklearn/naive_bayes.py:1168: RuntimeWarning: invalid value encountered in log\n",
      "  self.feature_log_prob_ = np.log(smoothed_fc) - np.log(\n",
      "/opt/anaconda3/lib/python3.9/site-packages/sklearn/naive_bayes.py:1168: RuntimeWarning: invalid value encountered in log\n",
      "  self.feature_log_prob_ = np.log(smoothed_fc) - np.log(\n",
      "/opt/anaconda3/lib/python3.9/site-packages/sklearn/naive_bayes.py:1168: RuntimeWarning: invalid value encountered in log\n",
      "  self.feature_log_prob_ = np.log(smoothed_fc) - np.log(\n",
      "/opt/anaconda3/lib/python3.9/site-packages/sklearn/naive_bayes.py:1168: RuntimeWarning: invalid value encountered in log\n",
      "  self.feature_log_prob_ = np.log(smoothed_fc) - np.log(\n",
      "/opt/anaconda3/lib/python3.9/site-packages/sklearn/naive_bayes.py:1168: RuntimeWarning: invalid value encountered in log\n",
      "  self.feature_log_prob_ = np.log(smoothed_fc) - np.log(\n",
      "/opt/anaconda3/lib/python3.9/site-packages/sklearn/naive_bayes.py:1168: RuntimeWarning: invalid value encountered in log\n",
      "  self.feature_log_prob_ = np.log(smoothed_fc) - np.log(\n",
      "/opt/anaconda3/lib/python3.9/site-packages/sklearn/naive_bayes.py:1168: RuntimeWarning: invalid value encountered in log\n",
      "  self.feature_log_prob_ = np.log(smoothed_fc) - np.log(\n",
      "/opt/anaconda3/lib/python3.9/site-packages/sklearn/naive_bayes.py:1168: RuntimeWarning: invalid value encountered in log\n",
      "  self.feature_log_prob_ = np.log(smoothed_fc) - np.log(\n",
      "/opt/anaconda3/lib/python3.9/site-packages/sklearn/naive_bayes.py:1168: RuntimeWarning: invalid value encountered in log\n",
      "  self.feature_log_prob_ = np.log(smoothed_fc) - np.log(\n",
      "/opt/anaconda3/lib/python3.9/site-packages/sklearn/naive_bayes.py:1168: RuntimeWarning: invalid value encountered in log\n",
      "  self.feature_log_prob_ = np.log(smoothed_fc) - np.log(\n",
      "/opt/anaconda3/lib/python3.9/site-packages/sklearn/naive_bayes.py:1168: RuntimeWarning: invalid value encountered in log\n",
      "  self.feature_log_prob_ = np.log(smoothed_fc) - np.log(\n",
      "/opt/anaconda3/lib/python3.9/site-packages/sklearn/naive_bayes.py:1168: RuntimeWarning: invalid value encountered in log\n",
      "  self.feature_log_prob_ = np.log(smoothed_fc) - np.log(\n",
      "/opt/anaconda3/lib/python3.9/site-packages/sklearn/naive_bayes.py:1168: RuntimeWarning: invalid value encountered in log\n",
      "  self.feature_log_prob_ = np.log(smoothed_fc) - np.log(\n",
      "/opt/anaconda3/lib/python3.9/site-packages/sklearn/naive_bayes.py:1168: RuntimeWarning: invalid value encountered in log\n",
      "  self.feature_log_prob_ = np.log(smoothed_fc) - np.log(\n",
      "/opt/anaconda3/lib/python3.9/site-packages/sklearn/naive_bayes.py:1168: RuntimeWarning: invalid value encountered in log\n",
      "  self.feature_log_prob_ = np.log(smoothed_fc) - np.log(\n",
      "/opt/anaconda3/lib/python3.9/site-packages/sklearn/naive_bayes.py:1168: RuntimeWarning: invalid value encountered in log\n",
      "  self.feature_log_prob_ = np.log(smoothed_fc) - np.log(\n",
      "/opt/anaconda3/lib/python3.9/site-packages/sklearn/naive_bayes.py:1168: RuntimeWarning: invalid value encountered in log\n",
      "  self.feature_log_prob_ = np.log(smoothed_fc) - np.log(\n",
      "/opt/anaconda3/lib/python3.9/site-packages/sklearn/naive_bayes.py:1168: RuntimeWarning: invalid value encountered in log\n",
      "  self.feature_log_prob_ = np.log(smoothed_fc) - np.log(\n",
      "/opt/anaconda3/lib/python3.9/site-packages/sklearn/naive_bayes.py:1168: RuntimeWarning: invalid value encountered in log\n",
      "  self.feature_log_prob_ = np.log(smoothed_fc) - np.log(\n",
      "/opt/anaconda3/lib/python3.9/site-packages/sklearn/naive_bayes.py:1168: RuntimeWarning: invalid value encountered in log\n",
      "  self.feature_log_prob_ = np.log(smoothed_fc) - np.log(\n",
      "/opt/anaconda3/lib/python3.9/site-packages/sklearn/naive_bayes.py:1168: RuntimeWarning: invalid value encountered in log\n",
      "  self.feature_log_prob_ = np.log(smoothed_fc) - np.log(\n",
      "/opt/anaconda3/lib/python3.9/site-packages/sklearn/naive_bayes.py:1168: RuntimeWarning: invalid value encountered in log\n",
      "  self.feature_log_prob_ = np.log(smoothed_fc) - np.log(\n",
      "/opt/anaconda3/lib/python3.9/site-packages/sklearn/naive_bayes.py:1168: RuntimeWarning: invalid value encountered in log\n",
      "  self.feature_log_prob_ = np.log(smoothed_fc) - np.log(\n",
      "/opt/anaconda3/lib/python3.9/site-packages/sklearn/naive_bayes.py:1168: RuntimeWarning: invalid value encountered in log\n",
      "  self.feature_log_prob_ = np.log(smoothed_fc) - np.log(\n",
      "/opt/anaconda3/lib/python3.9/site-packages/sklearn/naive_bayes.py:1168: RuntimeWarning: invalid value encountered in log\n",
      "  self.feature_log_prob_ = np.log(smoothed_fc) - np.log(\n",
      "/opt/anaconda3/lib/python3.9/site-packages/sklearn/naive_bayes.py:1168: RuntimeWarning: invalid value encountered in log\n",
      "  self.feature_log_prob_ = np.log(smoothed_fc) - np.log(\n",
      "/opt/anaconda3/lib/python3.9/site-packages/sklearn/naive_bayes.py:1168: RuntimeWarning: invalid value encountered in log\n",
      "  self.feature_log_prob_ = np.log(smoothed_fc) - np.log(\n",
      "/opt/anaconda3/lib/python3.9/site-packages/sklearn/naive_bayes.py:1168: RuntimeWarning: invalid value encountered in log\n",
      "  self.feature_log_prob_ = np.log(smoothed_fc) - np.log(\n",
      "/opt/anaconda3/lib/python3.9/site-packages/sklearn/naive_bayes.py:1168: RuntimeWarning: invalid value encountered in log\n",
      "  self.feature_log_prob_ = np.log(smoothed_fc) - np.log(\n",
      "/opt/anaconda3/lib/python3.9/site-packages/sklearn/naive_bayes.py:1168: RuntimeWarning: invalid value encountered in log\n",
      "  self.feature_log_prob_ = np.log(smoothed_fc) - np.log(\n",
      "/opt/anaconda3/lib/python3.9/site-packages/sklearn/naive_bayes.py:1168: RuntimeWarning: invalid value encountered in log\n",
      "  self.feature_log_prob_ = np.log(smoothed_fc) - np.log(\n",
      "/opt/anaconda3/lib/python3.9/site-packages/sklearn/naive_bayes.py:1168: RuntimeWarning: invalid value encountered in log\n",
      "  self.feature_log_prob_ = np.log(smoothed_fc) - np.log(\n",
      "/opt/anaconda3/lib/python3.9/site-packages/sklearn/naive_bayes.py:1168: RuntimeWarning: invalid value encountered in log\n",
      "  self.feature_log_prob_ = np.log(smoothed_fc) - np.log(\n",
      "/opt/anaconda3/lib/python3.9/site-packages/sklearn/naive_bayes.py:1168: RuntimeWarning: invalid value encountered in log\n",
      "  self.feature_log_prob_ = np.log(smoothed_fc) - np.log(\n",
      "/opt/anaconda3/lib/python3.9/site-packages/sklearn/naive_bayes.py:1168: RuntimeWarning: invalid value encountered in log\n",
      "  self.feature_log_prob_ = np.log(smoothed_fc) - np.log(\n",
      "/opt/anaconda3/lib/python3.9/site-packages/sklearn/naive_bayes.py:1168: RuntimeWarning: invalid value encountered in log\n",
      "  self.feature_log_prob_ = np.log(smoothed_fc) - np.log(\n",
      "/opt/anaconda3/lib/python3.9/site-packages/sklearn/naive_bayes.py:1168: RuntimeWarning: invalid value encountered in log\n",
      "  self.feature_log_prob_ = np.log(smoothed_fc) - np.log(\n",
      "/opt/anaconda3/lib/python3.9/site-packages/sklearn/naive_bayes.py:1168: RuntimeWarning: invalid value encountered in log\n",
      "  self.feature_log_prob_ = np.log(smoothed_fc) - np.log(\n",
      "/opt/anaconda3/lib/python3.9/site-packages/sklearn/naive_bayes.py:1168: RuntimeWarning: invalid value encountered in log\n",
      "  self.feature_log_prob_ = np.log(smoothed_fc) - np.log(\n",
      "/opt/anaconda3/lib/python3.9/site-packages/sklearn/naive_bayes.py:1168: RuntimeWarning: invalid value encountered in log\n",
      "  self.feature_log_prob_ = np.log(smoothed_fc) - np.log(\n",
      "/opt/anaconda3/lib/python3.9/site-packages/sklearn/naive_bayes.py:1168: RuntimeWarning: invalid value encountered in log\n",
      "  self.feature_log_prob_ = np.log(smoothed_fc) - np.log(\n",
      "/opt/anaconda3/lib/python3.9/site-packages/sklearn/naive_bayes.py:1168: RuntimeWarning: invalid value encountered in log\n",
      "  self.feature_log_prob_ = np.log(smoothed_fc) - np.log(\n",
      "/opt/anaconda3/lib/python3.9/site-packages/sklearn/naive_bayes.py:1168: RuntimeWarning: invalid value encountered in log\n",
      "  self.feature_log_prob_ = np.log(smoothed_fc) - np.log(\n",
      "/opt/anaconda3/lib/python3.9/site-packages/sklearn/naive_bayes.py:1168: RuntimeWarning: invalid value encountered in log\n",
      "  self.feature_log_prob_ = np.log(smoothed_fc) - np.log(\n",
      "/opt/anaconda3/lib/python3.9/site-packages/sklearn/naive_bayes.py:1168: RuntimeWarning: invalid value encountered in log\n",
      "  self.feature_log_prob_ = np.log(smoothed_fc) - np.log(\n",
      "/opt/anaconda3/lib/python3.9/site-packages/sklearn/naive_bayes.py:1168: RuntimeWarning: invalid value encountered in log\n",
      "  self.feature_log_prob_ = np.log(smoothed_fc) - np.log(\n",
      "/opt/anaconda3/lib/python3.9/site-packages/sklearn/naive_bayes.py:1168: RuntimeWarning: invalid value encountered in log\n",
      "  self.feature_log_prob_ = np.log(smoothed_fc) - np.log(\n",
      "/opt/anaconda3/lib/python3.9/site-packages/sklearn/naive_bayes.py:1168: RuntimeWarning: invalid value encountered in log\n",
      "  self.feature_log_prob_ = np.log(smoothed_fc) - np.log(\n",
      "/opt/anaconda3/lib/python3.9/site-packages/sklearn/naive_bayes.py:1168: RuntimeWarning: invalid value encountered in log\n",
      "  self.feature_log_prob_ = np.log(smoothed_fc) - np.log(\n",
      "/opt/anaconda3/lib/python3.9/site-packages/sklearn/naive_bayes.py:1168: RuntimeWarning: invalid value encountered in log\n",
      "  self.feature_log_prob_ = np.log(smoothed_fc) - np.log(\n",
      "/opt/anaconda3/lib/python3.9/site-packages/sklearn/naive_bayes.py:1168: RuntimeWarning: invalid value encountered in log\n",
      "  self.feature_log_prob_ = np.log(smoothed_fc) - np.log(\n",
      "/opt/anaconda3/lib/python3.9/site-packages/sklearn/naive_bayes.py:1168: RuntimeWarning: invalid value encountered in log\n",
      "  self.feature_log_prob_ = np.log(smoothed_fc) - np.log(\n",
      "/opt/anaconda3/lib/python3.9/site-packages/sklearn/naive_bayes.py:1168: RuntimeWarning: invalid value encountered in log\n",
      "  self.feature_log_prob_ = np.log(smoothed_fc) - np.log(\n",
      "/opt/anaconda3/lib/python3.9/site-packages/sklearn/naive_bayes.py:1168: RuntimeWarning: invalid value encountered in log\n",
      "  self.feature_log_prob_ = np.log(smoothed_fc) - np.log(\n",
      "/opt/anaconda3/lib/python3.9/site-packages/sklearn/naive_bayes.py:1168: RuntimeWarning: invalid value encountered in log\n",
      "  self.feature_log_prob_ = np.log(smoothed_fc) - np.log(\n",
      "/opt/anaconda3/lib/python3.9/site-packages/sklearn/naive_bayes.py:1168: RuntimeWarning: invalid value encountered in log\n",
      "  self.feature_log_prob_ = np.log(smoothed_fc) - np.log(\n",
      "/opt/anaconda3/lib/python3.9/site-packages/sklearn/naive_bayes.py:1168: RuntimeWarning: invalid value encountered in log\n",
      "  self.feature_log_prob_ = np.log(smoothed_fc) - np.log(\n",
      "/opt/anaconda3/lib/python3.9/site-packages/sklearn/naive_bayes.py:1168: RuntimeWarning: invalid value encountered in log\n",
      "  self.feature_log_prob_ = np.log(smoothed_fc) - np.log(\n",
      "/opt/anaconda3/lib/python3.9/site-packages/sklearn/naive_bayes.py:1168: RuntimeWarning: invalid value encountered in log\n",
      "  self.feature_log_prob_ = np.log(smoothed_fc) - np.log(\n",
      "/opt/anaconda3/lib/python3.9/site-packages/sklearn/naive_bayes.py:1168: RuntimeWarning: invalid value encountered in log\n",
      "  self.feature_log_prob_ = np.log(smoothed_fc) - np.log(\n",
      "/opt/anaconda3/lib/python3.9/site-packages/sklearn/naive_bayes.py:1168: RuntimeWarning: invalid value encountered in log\n",
      "  self.feature_log_prob_ = np.log(smoothed_fc) - np.log(\n",
      "/opt/anaconda3/lib/python3.9/site-packages/sklearn/naive_bayes.py:1168: RuntimeWarning: invalid value encountered in log\n",
      "  self.feature_log_prob_ = np.log(smoothed_fc) - np.log(\n",
      "/opt/anaconda3/lib/python3.9/site-packages/sklearn/naive_bayes.py:1168: RuntimeWarning: invalid value encountered in log\n",
      "  self.feature_log_prob_ = np.log(smoothed_fc) - np.log(\n",
      "/opt/anaconda3/lib/python3.9/site-packages/sklearn/naive_bayes.py:1168: RuntimeWarning: invalid value encountered in log\n",
      "  self.feature_log_prob_ = np.log(smoothed_fc) - np.log(\n",
      "/opt/anaconda3/lib/python3.9/site-packages/sklearn/naive_bayes.py:1168: RuntimeWarning: invalid value encountered in log\n",
      "  self.feature_log_prob_ = np.log(smoothed_fc) - np.log(\n",
      "/opt/anaconda3/lib/python3.9/site-packages/sklearn/naive_bayes.py:1168: RuntimeWarning: invalid value encountered in log\n",
      "  self.feature_log_prob_ = np.log(smoothed_fc) - np.log(\n",
      "/opt/anaconda3/lib/python3.9/site-packages/sklearn/naive_bayes.py:1168: RuntimeWarning: invalid value encountered in log\n",
      "  self.feature_log_prob_ = np.log(smoothed_fc) - np.log(\n",
      "/opt/anaconda3/lib/python3.9/site-packages/sklearn/naive_bayes.py:1168: RuntimeWarning: invalid value encountered in log\n",
      "  self.feature_log_prob_ = np.log(smoothed_fc) - np.log(\n",
      "/opt/anaconda3/lib/python3.9/site-packages/sklearn/naive_bayes.py:1168: RuntimeWarning: invalid value encountered in log\n",
      "  self.feature_log_prob_ = np.log(smoothed_fc) - np.log(\n",
      "/opt/anaconda3/lib/python3.9/site-packages/sklearn/naive_bayes.py:1168: RuntimeWarning: invalid value encountered in log\n",
      "  self.feature_log_prob_ = np.log(smoothed_fc) - np.log(\n",
      "/opt/anaconda3/lib/python3.9/site-packages/sklearn/naive_bayes.py:1168: RuntimeWarning: invalid value encountered in log\n",
      "  self.feature_log_prob_ = np.log(smoothed_fc) - np.log(\n",
      "/opt/anaconda3/lib/python3.9/site-packages/sklearn/naive_bayes.py:1168: RuntimeWarning: invalid value encountered in log\n",
      "  self.feature_log_prob_ = np.log(smoothed_fc) - np.log(\n",
      "/opt/anaconda3/lib/python3.9/site-packages/sklearn/naive_bayes.py:1168: RuntimeWarning: invalid value encountered in log\n",
      "  self.feature_log_prob_ = np.log(smoothed_fc) - np.log(\n",
      "/opt/anaconda3/lib/python3.9/site-packages/sklearn/naive_bayes.py:1168: RuntimeWarning: invalid value encountered in log\n",
      "  self.feature_log_prob_ = np.log(smoothed_fc) - np.log(\n",
      "/opt/anaconda3/lib/python3.9/site-packages/sklearn/naive_bayes.py:1168: RuntimeWarning: invalid value encountered in log\n",
      "  self.feature_log_prob_ = np.log(smoothed_fc) - np.log(\n",
      "/opt/anaconda3/lib/python3.9/site-packages/sklearn/naive_bayes.py:1168: RuntimeWarning: invalid value encountered in log\n",
      "  self.feature_log_prob_ = np.log(smoothed_fc) - np.log(\n",
      "/opt/anaconda3/lib/python3.9/site-packages/sklearn/naive_bayes.py:1168: RuntimeWarning: invalid value encountered in log\n",
      "  self.feature_log_prob_ = np.log(smoothed_fc) - np.log(\n",
      "/opt/anaconda3/lib/python3.9/site-packages/sklearn/naive_bayes.py:1168: RuntimeWarning: invalid value encountered in log\n",
      "  self.feature_log_prob_ = np.log(smoothed_fc) - np.log(\n",
      "/opt/anaconda3/lib/python3.9/site-packages/sklearn/naive_bayes.py:1168: RuntimeWarning: invalid value encountered in log\n",
      "  self.feature_log_prob_ = np.log(smoothed_fc) - np.log(\n",
      "/opt/anaconda3/lib/python3.9/site-packages/sklearn/naive_bayes.py:1168: RuntimeWarning: invalid value encountered in log\n",
      "  self.feature_log_prob_ = np.log(smoothed_fc) - np.log(\n",
      "/opt/anaconda3/lib/python3.9/site-packages/sklearn/naive_bayes.py:1168: RuntimeWarning: invalid value encountered in log\n",
      "  self.feature_log_prob_ = np.log(smoothed_fc) - np.log(\n",
      "/opt/anaconda3/lib/python3.9/site-packages/sklearn/naive_bayes.py:1168: RuntimeWarning: invalid value encountered in log\n",
      "  self.feature_log_prob_ = np.log(smoothed_fc) - np.log(\n",
      "/opt/anaconda3/lib/python3.9/site-packages/sklearn/naive_bayes.py:1168: RuntimeWarning: invalid value encountered in log\n",
      "  self.feature_log_prob_ = np.log(smoothed_fc) - np.log(\n",
      "/opt/anaconda3/lib/python3.9/site-packages/sklearn/naive_bayes.py:1168: RuntimeWarning: invalid value encountered in log\n",
      "  self.feature_log_prob_ = np.log(smoothed_fc) - np.log(\n",
      "/opt/anaconda3/lib/python3.9/site-packages/sklearn/naive_bayes.py:1168: RuntimeWarning: invalid value encountered in log\n",
      "  self.feature_log_prob_ = np.log(smoothed_fc) - np.log(\n",
      "/opt/anaconda3/lib/python3.9/site-packages/sklearn/naive_bayes.py:1168: RuntimeWarning: invalid value encountered in log\n",
      "  self.feature_log_prob_ = np.log(smoothed_fc) - np.log(\n",
      "/opt/anaconda3/lib/python3.9/site-packages/sklearn/naive_bayes.py:1168: RuntimeWarning: invalid value encountered in log\n",
      "  self.feature_log_prob_ = np.log(smoothed_fc) - np.log(\n",
      "/opt/anaconda3/lib/python3.9/site-packages/sklearn/naive_bayes.py:1168: RuntimeWarning: invalid value encountered in log\n",
      "  self.feature_log_prob_ = np.log(smoothed_fc) - np.log(\n",
      "/opt/anaconda3/lib/python3.9/site-packages/sklearn/naive_bayes.py:1168: RuntimeWarning: invalid value encountered in log\n",
      "  self.feature_log_prob_ = np.log(smoothed_fc) - np.log(\n",
      "/opt/anaconda3/lib/python3.9/site-packages/sklearn/naive_bayes.py:1168: RuntimeWarning: invalid value encountered in log\n",
      "  self.feature_log_prob_ = np.log(smoothed_fc) - np.log(\n",
      "/opt/anaconda3/lib/python3.9/site-packages/sklearn/naive_bayes.py:1168: RuntimeWarning: invalid value encountered in log\n",
      "  self.feature_log_prob_ = np.log(smoothed_fc) - np.log(\n",
      "/opt/anaconda3/lib/python3.9/site-packages/sklearn/naive_bayes.py:1168: RuntimeWarning: invalid value encountered in log\n",
      "  self.feature_log_prob_ = np.log(smoothed_fc) - np.log(\n",
      "/opt/anaconda3/lib/python3.9/site-packages/sklearn/naive_bayes.py:1168: RuntimeWarning: invalid value encountered in log\n",
      "  self.feature_log_prob_ = np.log(smoothed_fc) - np.log(\n",
      "/opt/anaconda3/lib/python3.9/site-packages/sklearn/naive_bayes.py:1168: RuntimeWarning: invalid value encountered in log\n",
      "  self.feature_log_prob_ = np.log(smoothed_fc) - np.log(\n"
     ]
    },
    {
     "data": {
      "text/plain": [
       "GridSearchCV(estimator=BernoulliNB(),\n",
       "             param_grid={'alpha': [0.001, 0.01, 0.1, 0.2, 0.5, 0.7, 1, 2, 5,\n",
       "                                   10],\n",
       "                         'binarize': [None, 0.0, 0.5, 1.0],\n",
       "                         'fit_prior': [True, False]})"
      ]
     },
     "execution_count": 189,
     "metadata": {},
     "output_type": "execute_result"
    }
   ],
   "source": [
    "nb_grid_model.fit(scaled_X_train,y_train)"
   ]
  },
  {
   "cell_type": "code",
   "execution_count": 190,
   "id": "7856f186-a29c-46e2-8a61-50f12e8ec72f",
   "metadata": {},
   "outputs": [
    {
     "data": {
      "text/plain": [
       "{'alpha': 0.001, 'binarize': None, 'fit_prior': True}"
      ]
     },
     "execution_count": 190,
     "metadata": {},
     "output_type": "execute_result"
    }
   ],
   "source": [
    "best_nb_model = nb_grid_model.best_params_\n",
    "best_nb_model"
   ]
  },
  {
   "cell_type": "code",
   "execution_count": 191,
   "id": "d7cb7ab2-beac-440a-8d07-a4569bbdbbc3",
   "metadata": {},
   "outputs": [],
   "source": [
    "best_nb_model = BernoulliNB(alpha = 0.001, binarize=None,fit_prior = True)"
   ]
  },
  {
   "cell_type": "code",
   "execution_count": 192,
   "id": "25fd3e3e-aa09-493c-abc2-c48e79852e03",
   "metadata": {},
   "outputs": [
    {
     "name": "stderr",
     "output_type": "stream",
     "text": [
      "/opt/anaconda3/lib/python3.9/site-packages/sklearn/naive_bayes.py:1168: RuntimeWarning: invalid value encountered in log\n",
      "  self.feature_log_prob_ = np.log(smoothed_fc) - np.log(\n",
      "/opt/anaconda3/lib/python3.9/site-packages/sklearn/naive_bayes.py:1168: RuntimeWarning: invalid value encountered in log\n",
      "  self.feature_log_prob_ = np.log(smoothed_fc) - np.log(\n",
      "/opt/anaconda3/lib/python3.9/site-packages/sklearn/naive_bayes.py:1168: RuntimeWarning: invalid value encountered in log\n",
      "  self.feature_log_prob_ = np.log(smoothed_fc) - np.log(\n",
      "/opt/anaconda3/lib/python3.9/site-packages/sklearn/naive_bayes.py:1168: RuntimeWarning: invalid value encountered in log\n",
      "  self.feature_log_prob_ = np.log(smoothed_fc) - np.log(\n",
      "/opt/anaconda3/lib/python3.9/site-packages/sklearn/naive_bayes.py:1168: RuntimeWarning: invalid value encountered in log\n",
      "  self.feature_log_prob_ = np.log(smoothed_fc) - np.log(\n",
      "/opt/anaconda3/lib/python3.9/site-packages/sklearn/naive_bayes.py:1168: RuntimeWarning: invalid value encountered in log\n",
      "  self.feature_log_prob_ = np.log(smoothed_fc) - np.log(\n",
      "/opt/anaconda3/lib/python3.9/site-packages/sklearn/naive_bayes.py:1168: RuntimeWarning: invalid value encountered in log\n",
      "  self.feature_log_prob_ = np.log(smoothed_fc) - np.log(\n",
      "/opt/anaconda3/lib/python3.9/site-packages/sklearn/naive_bayes.py:1168: RuntimeWarning: invalid value encountered in log\n",
      "  self.feature_log_prob_ = np.log(smoothed_fc) - np.log(\n",
      "/opt/anaconda3/lib/python3.9/site-packages/sklearn/naive_bayes.py:1168: RuntimeWarning: invalid value encountered in log\n",
      "  self.feature_log_prob_ = np.log(smoothed_fc) - np.log(\n",
      "/opt/anaconda3/lib/python3.9/site-packages/sklearn/naive_bayes.py:1168: RuntimeWarning: invalid value encountered in log\n",
      "  self.feature_log_prob_ = np.log(smoothed_fc) - np.log(\n",
      "/opt/anaconda3/lib/python3.9/site-packages/sklearn/naive_bayes.py:1168: RuntimeWarning: invalid value encountered in log\n",
      "  self.feature_log_prob_ = np.log(smoothed_fc) - np.log(\n",
      "/opt/anaconda3/lib/python3.9/site-packages/sklearn/naive_bayes.py:1168: RuntimeWarning: invalid value encountered in log\n",
      "  self.feature_log_prob_ = np.log(smoothed_fc) - np.log(\n",
      "/opt/anaconda3/lib/python3.9/site-packages/sklearn/naive_bayes.py:1168: RuntimeWarning: invalid value encountered in log\n",
      "  self.feature_log_prob_ = np.log(smoothed_fc) - np.log(\n",
      "/opt/anaconda3/lib/python3.9/site-packages/sklearn/naive_bayes.py:1168: RuntimeWarning: invalid value encountered in log\n",
      "  self.feature_log_prob_ = np.log(smoothed_fc) - np.log(\n",
      "/opt/anaconda3/lib/python3.9/site-packages/sklearn/naive_bayes.py:1168: RuntimeWarning: invalid value encountered in log\n",
      "  self.feature_log_prob_ = np.log(smoothed_fc) - np.log(\n",
      "/opt/anaconda3/lib/python3.9/site-packages/sklearn/naive_bayes.py:1168: RuntimeWarning: invalid value encountered in log\n",
      "  self.feature_log_prob_ = np.log(smoothed_fc) - np.log(\n",
      "/opt/anaconda3/lib/python3.9/site-packages/sklearn/naive_bayes.py:1168: RuntimeWarning: invalid value encountered in log\n",
      "  self.feature_log_prob_ = np.log(smoothed_fc) - np.log(\n",
      "/opt/anaconda3/lib/python3.9/site-packages/sklearn/naive_bayes.py:1168: RuntimeWarning: invalid value encountered in log\n",
      "  self.feature_log_prob_ = np.log(smoothed_fc) - np.log(\n",
      "/opt/anaconda3/lib/python3.9/site-packages/sklearn/naive_bayes.py:1168: RuntimeWarning: invalid value encountered in log\n",
      "  self.feature_log_prob_ = np.log(smoothed_fc) - np.log(\n",
      "/opt/anaconda3/lib/python3.9/site-packages/sklearn/naive_bayes.py:1168: RuntimeWarning: invalid value encountered in log\n",
      "  self.feature_log_prob_ = np.log(smoothed_fc) - np.log(\n",
      "/opt/anaconda3/lib/python3.9/site-packages/sklearn/naive_bayes.py:1168: RuntimeWarning: invalid value encountered in log\n",
      "  self.feature_log_prob_ = np.log(smoothed_fc) - np.log(\n",
      "/opt/anaconda3/lib/python3.9/site-packages/sklearn/naive_bayes.py:1168: RuntimeWarning: invalid value encountered in log\n",
      "  self.feature_log_prob_ = np.log(smoothed_fc) - np.log(\n",
      "/opt/anaconda3/lib/python3.9/site-packages/sklearn/naive_bayes.py:1168: RuntimeWarning: invalid value encountered in log\n",
      "  self.feature_log_prob_ = np.log(smoothed_fc) - np.log(\n",
      "/opt/anaconda3/lib/python3.9/site-packages/sklearn/naive_bayes.py:1168: RuntimeWarning: invalid value encountered in log\n",
      "  self.feature_log_prob_ = np.log(smoothed_fc) - np.log(\n",
      "/opt/anaconda3/lib/python3.9/site-packages/sklearn/naive_bayes.py:1168: RuntimeWarning: invalid value encountered in log\n",
      "  self.feature_log_prob_ = np.log(smoothed_fc) - np.log(\n",
      "/opt/anaconda3/lib/python3.9/site-packages/sklearn/naive_bayes.py:1168: RuntimeWarning: invalid value encountered in log\n",
      "  self.feature_log_prob_ = np.log(smoothed_fc) - np.log(\n",
      "/opt/anaconda3/lib/python3.9/site-packages/sklearn/naive_bayes.py:1168: RuntimeWarning: invalid value encountered in log\n",
      "  self.feature_log_prob_ = np.log(smoothed_fc) - np.log(\n",
      "/opt/anaconda3/lib/python3.9/site-packages/sklearn/naive_bayes.py:1168: RuntimeWarning: invalid value encountered in log\n",
      "  self.feature_log_prob_ = np.log(smoothed_fc) - np.log(\n",
      "/opt/anaconda3/lib/python3.9/site-packages/sklearn/naive_bayes.py:1168: RuntimeWarning: invalid value encountered in log\n",
      "  self.feature_log_prob_ = np.log(smoothed_fc) - np.log(\n",
      "/opt/anaconda3/lib/python3.9/site-packages/sklearn/naive_bayes.py:1168: RuntimeWarning: invalid value encountered in log\n",
      "  self.feature_log_prob_ = np.log(smoothed_fc) - np.log(\n",
      "/opt/anaconda3/lib/python3.9/site-packages/sklearn/naive_bayes.py:1168: RuntimeWarning: invalid value encountered in log\n",
      "  self.feature_log_prob_ = np.log(smoothed_fc) - np.log(\n",
      "/opt/anaconda3/lib/python3.9/site-packages/sklearn/naive_bayes.py:1168: RuntimeWarning: invalid value encountered in log\n",
      "  self.feature_log_prob_ = np.log(smoothed_fc) - np.log(\n",
      "/opt/anaconda3/lib/python3.9/site-packages/sklearn/naive_bayes.py:1168: RuntimeWarning: invalid value encountered in log\n",
      "  self.feature_log_prob_ = np.log(smoothed_fc) - np.log(\n",
      "/opt/anaconda3/lib/python3.9/site-packages/sklearn/naive_bayes.py:1168: RuntimeWarning: invalid value encountered in log\n",
      "  self.feature_log_prob_ = np.log(smoothed_fc) - np.log(\n",
      "/opt/anaconda3/lib/python3.9/site-packages/sklearn/naive_bayes.py:1168: RuntimeWarning: invalid value encountered in log\n",
      "  self.feature_log_prob_ = np.log(smoothed_fc) - np.log(\n",
      "/opt/anaconda3/lib/python3.9/site-packages/sklearn/naive_bayes.py:1168: RuntimeWarning: invalid value encountered in log\n",
      "  self.feature_log_prob_ = np.log(smoothed_fc) - np.log(\n",
      "/opt/anaconda3/lib/python3.9/site-packages/sklearn/naive_bayes.py:1168: RuntimeWarning: invalid value encountered in log\n",
      "  self.feature_log_prob_ = np.log(smoothed_fc) - np.log(\n",
      "/opt/anaconda3/lib/python3.9/site-packages/sklearn/naive_bayes.py:1168: RuntimeWarning: invalid value encountered in log\n",
      "  self.feature_log_prob_ = np.log(smoothed_fc) - np.log(\n",
      "/opt/anaconda3/lib/python3.9/site-packages/sklearn/naive_bayes.py:1168: RuntimeWarning: invalid value encountered in log\n",
      "  self.feature_log_prob_ = np.log(smoothed_fc) - np.log(\n",
      "/opt/anaconda3/lib/python3.9/site-packages/sklearn/naive_bayes.py:1168: RuntimeWarning: invalid value encountered in log\n",
      "  self.feature_log_prob_ = np.log(smoothed_fc) - np.log(\n",
      "/opt/anaconda3/lib/python3.9/site-packages/sklearn/naive_bayes.py:1168: RuntimeWarning: invalid value encountered in log\n",
      "  self.feature_log_prob_ = np.log(smoothed_fc) - np.log(\n",
      "/opt/anaconda3/lib/python3.9/site-packages/sklearn/naive_bayes.py:1168: RuntimeWarning: invalid value encountered in log\n",
      "  self.feature_log_prob_ = np.log(smoothed_fc) - np.log(\n",
      "/opt/anaconda3/lib/python3.9/site-packages/sklearn/naive_bayes.py:1168: RuntimeWarning: invalid value encountered in log\n",
      "  self.feature_log_prob_ = np.log(smoothed_fc) - np.log(\n",
      "/opt/anaconda3/lib/python3.9/site-packages/sklearn/naive_bayes.py:1168: RuntimeWarning: invalid value encountered in log\n",
      "  self.feature_log_prob_ = np.log(smoothed_fc) - np.log(\n",
      "/opt/anaconda3/lib/python3.9/site-packages/sklearn/naive_bayes.py:1168: RuntimeWarning: invalid value encountered in log\n",
      "  self.feature_log_prob_ = np.log(smoothed_fc) - np.log(\n",
      "/opt/anaconda3/lib/python3.9/site-packages/sklearn/naive_bayes.py:1168: RuntimeWarning: invalid value encountered in log\n",
      "  self.feature_log_prob_ = np.log(smoothed_fc) - np.log(\n",
      "/opt/anaconda3/lib/python3.9/site-packages/sklearn/naive_bayes.py:1168: RuntimeWarning: invalid value encountered in log\n",
      "  self.feature_log_prob_ = np.log(smoothed_fc) - np.log(\n",
      "/opt/anaconda3/lib/python3.9/site-packages/sklearn/naive_bayes.py:1168: RuntimeWarning: invalid value encountered in log\n",
      "  self.feature_log_prob_ = np.log(smoothed_fc) - np.log(\n",
      "/opt/anaconda3/lib/python3.9/site-packages/sklearn/naive_bayes.py:1168: RuntimeWarning: invalid value encountered in log\n",
      "  self.feature_log_prob_ = np.log(smoothed_fc) - np.log(\n",
      "/opt/anaconda3/lib/python3.9/site-packages/sklearn/naive_bayes.py:1168: RuntimeWarning: invalid value encountered in log\n",
      "  self.feature_log_prob_ = np.log(smoothed_fc) - np.log(\n",
      "/opt/anaconda3/lib/python3.9/site-packages/sklearn/naive_bayes.py:1168: RuntimeWarning: invalid value encountered in log\n",
      "  self.feature_log_prob_ = np.log(smoothed_fc) - np.log(\n",
      "/opt/anaconda3/lib/python3.9/site-packages/sklearn/naive_bayes.py:1168: RuntimeWarning: invalid value encountered in log\n",
      "  self.feature_log_prob_ = np.log(smoothed_fc) - np.log(\n",
      "/opt/anaconda3/lib/python3.9/site-packages/sklearn/naive_bayes.py:1168: RuntimeWarning: invalid value encountered in log\n",
      "  self.feature_log_prob_ = np.log(smoothed_fc) - np.log(\n",
      "/opt/anaconda3/lib/python3.9/site-packages/sklearn/naive_bayes.py:1168: RuntimeWarning: invalid value encountered in log\n",
      "  self.feature_log_prob_ = np.log(smoothed_fc) - np.log(\n",
      "/opt/anaconda3/lib/python3.9/site-packages/sklearn/naive_bayes.py:1168: RuntimeWarning: invalid value encountered in log\n",
      "  self.feature_log_prob_ = np.log(smoothed_fc) - np.log(\n",
      "/opt/anaconda3/lib/python3.9/site-packages/sklearn/naive_bayes.py:1168: RuntimeWarning: invalid value encountered in log\n",
      "  self.feature_log_prob_ = np.log(smoothed_fc) - np.log(\n",
      "/opt/anaconda3/lib/python3.9/site-packages/sklearn/naive_bayes.py:1168: RuntimeWarning: invalid value encountered in log\n",
      "  self.feature_log_prob_ = np.log(smoothed_fc) - np.log(\n",
      "/opt/anaconda3/lib/python3.9/site-packages/sklearn/naive_bayes.py:1168: RuntimeWarning: invalid value encountered in log\n",
      "  self.feature_log_prob_ = np.log(smoothed_fc) - np.log(\n",
      "/opt/anaconda3/lib/python3.9/site-packages/sklearn/naive_bayes.py:1168: RuntimeWarning: invalid value encountered in log\n",
      "  self.feature_log_prob_ = np.log(smoothed_fc) - np.log(\n",
      "/opt/anaconda3/lib/python3.9/site-packages/sklearn/naive_bayes.py:1168: RuntimeWarning: invalid value encountered in log\n",
      "  self.feature_log_prob_ = np.log(smoothed_fc) - np.log(\n",
      "/opt/anaconda3/lib/python3.9/site-packages/sklearn/naive_bayes.py:1168: RuntimeWarning: invalid value encountered in log\n",
      "  self.feature_log_prob_ = np.log(smoothed_fc) - np.log(\n",
      "/opt/anaconda3/lib/python3.9/site-packages/sklearn/naive_bayes.py:1168: RuntimeWarning: invalid value encountered in log\n",
      "  self.feature_log_prob_ = np.log(smoothed_fc) - np.log(\n",
      "/opt/anaconda3/lib/python3.9/site-packages/sklearn/naive_bayes.py:1168: RuntimeWarning: invalid value encountered in log\n",
      "  self.feature_log_prob_ = np.log(smoothed_fc) - np.log(\n",
      "/opt/anaconda3/lib/python3.9/site-packages/sklearn/naive_bayes.py:1168: RuntimeWarning: invalid value encountered in log\n",
      "  self.feature_log_prob_ = np.log(smoothed_fc) - np.log(\n",
      "/opt/anaconda3/lib/python3.9/site-packages/sklearn/naive_bayes.py:1168: RuntimeWarning: invalid value encountered in log\n",
      "  self.feature_log_prob_ = np.log(smoothed_fc) - np.log(\n",
      "/opt/anaconda3/lib/python3.9/site-packages/sklearn/naive_bayes.py:1168: RuntimeWarning: invalid value encountered in log\n",
      "  self.feature_log_prob_ = np.log(smoothed_fc) - np.log(\n",
      "/opt/anaconda3/lib/python3.9/site-packages/sklearn/naive_bayes.py:1168: RuntimeWarning: invalid value encountered in log\n",
      "  self.feature_log_prob_ = np.log(smoothed_fc) - np.log(\n",
      "/opt/anaconda3/lib/python3.9/site-packages/sklearn/naive_bayes.py:1168: RuntimeWarning: invalid value encountered in log\n",
      "  self.feature_log_prob_ = np.log(smoothed_fc) - np.log(\n",
      "/opt/anaconda3/lib/python3.9/site-packages/sklearn/naive_bayes.py:1168: RuntimeWarning: invalid value encountered in log\n",
      "  self.feature_log_prob_ = np.log(smoothed_fc) - np.log(\n",
      "/opt/anaconda3/lib/python3.9/site-packages/sklearn/naive_bayes.py:1168: RuntimeWarning: invalid value encountered in log\n",
      "  self.feature_log_prob_ = np.log(smoothed_fc) - np.log(\n",
      "/opt/anaconda3/lib/python3.9/site-packages/sklearn/naive_bayes.py:1168: RuntimeWarning: invalid value encountered in log\n",
      "  self.feature_log_prob_ = np.log(smoothed_fc) - np.log(\n",
      "/opt/anaconda3/lib/python3.9/site-packages/sklearn/naive_bayes.py:1168: RuntimeWarning: invalid value encountered in log\n",
      "  self.feature_log_prob_ = np.log(smoothed_fc) - np.log(\n",
      "/opt/anaconda3/lib/python3.9/site-packages/sklearn/naive_bayes.py:1168: RuntimeWarning: invalid value encountered in log\n",
      "  self.feature_log_prob_ = np.log(smoothed_fc) - np.log(\n",
      "/opt/anaconda3/lib/python3.9/site-packages/sklearn/naive_bayes.py:1168: RuntimeWarning: invalid value encountered in log\n",
      "  self.feature_log_prob_ = np.log(smoothed_fc) - np.log(\n",
      "/opt/anaconda3/lib/python3.9/site-packages/sklearn/naive_bayes.py:1168: RuntimeWarning: invalid value encountered in log\n",
      "  self.feature_log_prob_ = np.log(smoothed_fc) - np.log(\n",
      "/opt/anaconda3/lib/python3.9/site-packages/sklearn/naive_bayes.py:1168: RuntimeWarning: invalid value encountered in log\n",
      "  self.feature_log_prob_ = np.log(smoothed_fc) - np.log(\n",
      "/opt/anaconda3/lib/python3.9/site-packages/sklearn/naive_bayes.py:1168: RuntimeWarning: invalid value encountered in log\n",
      "  self.feature_log_prob_ = np.log(smoothed_fc) - np.log(\n",
      "/opt/anaconda3/lib/python3.9/site-packages/sklearn/naive_bayes.py:1168: RuntimeWarning: invalid value encountered in log\n",
      "  self.feature_log_prob_ = np.log(smoothed_fc) - np.log(\n",
      "/opt/anaconda3/lib/python3.9/site-packages/sklearn/naive_bayes.py:1168: RuntimeWarning: invalid value encountered in log\n",
      "  self.feature_log_prob_ = np.log(smoothed_fc) - np.log(\n",
      "/opt/anaconda3/lib/python3.9/site-packages/sklearn/naive_bayes.py:1168: RuntimeWarning: invalid value encountered in log\n",
      "  self.feature_log_prob_ = np.log(smoothed_fc) - np.log(\n",
      "/opt/anaconda3/lib/python3.9/site-packages/sklearn/naive_bayes.py:1168: RuntimeWarning: invalid value encountered in log\n",
      "  self.feature_log_prob_ = np.log(smoothed_fc) - np.log(\n",
      "/opt/anaconda3/lib/python3.9/site-packages/sklearn/naive_bayes.py:1168: RuntimeWarning: invalid value encountered in log\n",
      "  self.feature_log_prob_ = np.log(smoothed_fc) - np.log(\n",
      "/opt/anaconda3/lib/python3.9/site-packages/sklearn/naive_bayes.py:1168: RuntimeWarning: invalid value encountered in log\n",
      "  self.feature_log_prob_ = np.log(smoothed_fc) - np.log(\n",
      "/opt/anaconda3/lib/python3.9/site-packages/sklearn/naive_bayes.py:1168: RuntimeWarning: invalid value encountered in log\n",
      "  self.feature_log_prob_ = np.log(smoothed_fc) - np.log(\n",
      "/opt/anaconda3/lib/python3.9/site-packages/sklearn/naive_bayes.py:1168: RuntimeWarning: invalid value encountered in log\n",
      "  self.feature_log_prob_ = np.log(smoothed_fc) - np.log(\n",
      "/opt/anaconda3/lib/python3.9/site-packages/sklearn/naive_bayes.py:1168: RuntimeWarning: invalid value encountered in log\n",
      "  self.feature_log_prob_ = np.log(smoothed_fc) - np.log(\n",
      "/opt/anaconda3/lib/python3.9/site-packages/sklearn/naive_bayes.py:1168: RuntimeWarning: invalid value encountered in log\n",
      "  self.feature_log_prob_ = np.log(smoothed_fc) - np.log(\n",
      "/opt/anaconda3/lib/python3.9/site-packages/sklearn/naive_bayes.py:1168: RuntimeWarning: invalid value encountered in log\n",
      "  self.feature_log_prob_ = np.log(smoothed_fc) - np.log(\n",
      "/opt/anaconda3/lib/python3.9/site-packages/sklearn/naive_bayes.py:1168: RuntimeWarning: invalid value encountered in log\n",
      "  self.feature_log_prob_ = np.log(smoothed_fc) - np.log(\n",
      "/opt/anaconda3/lib/python3.9/site-packages/sklearn/naive_bayes.py:1168: RuntimeWarning: invalid value encountered in log\n",
      "  self.feature_log_prob_ = np.log(smoothed_fc) - np.log(\n",
      "/opt/anaconda3/lib/python3.9/site-packages/sklearn/naive_bayes.py:1168: RuntimeWarning: invalid value encountered in log\n",
      "  self.feature_log_prob_ = np.log(smoothed_fc) - np.log(\n",
      "/opt/anaconda3/lib/python3.9/site-packages/sklearn/naive_bayes.py:1168: RuntimeWarning: invalid value encountered in log\n",
      "  self.feature_log_prob_ = np.log(smoothed_fc) - np.log(\n",
      "/opt/anaconda3/lib/python3.9/site-packages/sklearn/naive_bayes.py:1168: RuntimeWarning: invalid value encountered in log\n",
      "  self.feature_log_prob_ = np.log(smoothed_fc) - np.log(\n",
      "/opt/anaconda3/lib/python3.9/site-packages/sklearn/naive_bayes.py:1168: RuntimeWarning: invalid value encountered in log\n",
      "  self.feature_log_prob_ = np.log(smoothed_fc) - np.log(\n",
      "/opt/anaconda3/lib/python3.9/site-packages/sklearn/naive_bayes.py:1168: RuntimeWarning: invalid value encountered in log\n",
      "  self.feature_log_prob_ = np.log(smoothed_fc) - np.log(\n",
      "/opt/anaconda3/lib/python3.9/site-packages/sklearn/naive_bayes.py:1168: RuntimeWarning: invalid value encountered in log\n",
      "  self.feature_log_prob_ = np.log(smoothed_fc) - np.log(\n",
      "/opt/anaconda3/lib/python3.9/site-packages/sklearn/naive_bayes.py:1168: RuntimeWarning: invalid value encountered in log\n",
      "  self.feature_log_prob_ = np.log(smoothed_fc) - np.log(\n",
      "/opt/anaconda3/lib/python3.9/site-packages/sklearn/naive_bayes.py:1168: RuntimeWarning: invalid value encountered in log\n",
      "  self.feature_log_prob_ = np.log(smoothed_fc) - np.log(\n",
      "/opt/anaconda3/lib/python3.9/site-packages/sklearn/naive_bayes.py:1168: RuntimeWarning: invalid value encountered in log\n",
      "  self.feature_log_prob_ = np.log(smoothed_fc) - np.log(\n",
      "/opt/anaconda3/lib/python3.9/site-packages/sklearn/naive_bayes.py:1168: RuntimeWarning: invalid value encountered in log\n",
      "  self.feature_log_prob_ = np.log(smoothed_fc) - np.log(\n",
      "/opt/anaconda3/lib/python3.9/site-packages/sklearn/naive_bayes.py:1168: RuntimeWarning: invalid value encountered in log\n",
      "  self.feature_log_prob_ = np.log(smoothed_fc) - np.log(\n"
     ]
    }
   ],
   "source": [
    "best_nb_model = nb_grid_model.fit(scaled_X_train,y_train)"
   ]
  },
  {
   "cell_type": "code",
   "execution_count": 193,
   "id": "b0407313-640a-4154-8862-8effd80971d2",
   "metadata": {},
   "outputs": [
    {
     "name": "stderr",
     "output_type": "stream",
     "text": [
      "/opt/anaconda3/lib/python3.9/site-packages/sklearn/base.py:443: UserWarning: X has feature names, but BernoulliNB was fitted without feature names\n",
      "  warnings.warn(\n"
     ]
    },
    {
     "data": {
      "text/plain": [
       "array([0, 0, 0, 0, 0, 0, 0, 0, 0, 0, 0, 0, 0, 0, 0, 0, 0, 0, 0, 0, 0, 0,\n",
       "       0, 0, 0, 0, 0, 0, 0, 0, 0, 0, 0, 0, 0, 0, 0, 0, 0, 0, 0, 0, 0, 0,\n",
       "       0, 0, 0, 0, 0, 0, 0, 0, 0, 0, 0, 0, 0, 0, 0, 0, 0, 0, 0, 0, 0, 0,\n",
       "       0, 0, 0, 0, 0, 0, 0, 0, 0, 0, 0, 0, 0, 0, 0, 0, 0, 0, 0, 0, 0, 0,\n",
       "       0, 0, 0, 0, 0, 0, 0, 0, 0, 0, 0, 0, 0, 0, 0, 0, 0, 0, 0, 0, 0, 0,\n",
       "       0, 0, 0, 0, 0, 0, 0, 0, 0, 0, 0, 0, 0, 0, 0, 0, 0, 0, 0, 0, 0, 0,\n",
       "       0, 0, 0, 0, 0, 0, 0, 0, 0, 0, 0, 0, 0, 0, 0, 0, 0, 0])"
      ]
     },
     "execution_count": 193,
     "metadata": {},
     "output_type": "execute_result"
    }
   ],
   "source": [
    "nb_validation_predictions = best_nb_model.predict(X_validation)\n",
    "nb_validation_predictions"
   ]
  },
  {
   "cell_type": "code",
   "execution_count": 194,
   "id": "dd4e299b-296f-4951-8158-52bb77855e71",
   "metadata": {},
   "outputs": [
    {
     "data": {
      "text/plain": [
       "0.48"
      ]
     },
     "execution_count": 194,
     "metadata": {},
     "output_type": "execute_result"
    }
   ],
   "source": [
    "nb_validate_mae = mean_absolute_error(y_validation, nb_validation_predictions)\n",
    "nb_validate_mae"
   ]
  },
  {
   "cell_type": "code",
   "execution_count": 195,
   "id": "2e942f81",
   "metadata": {
    "scrolled": true
   },
   "outputs": [
    {
     "data": {
      "text/plain": [
       "0.6928203230275509"
      ]
     },
     "execution_count": 195,
     "metadata": {},
     "output_type": "execute_result"
    }
   ],
   "source": [
    "nb_validate_rmse = mean_squared_error(y_validation, nb_validation_predictions) ** 0.5\n",
    "nb_validate_rmse"
   ]
  },
  {
   "cell_type": "code",
   "execution_count": 196,
   "id": "6acabf50",
   "metadata": {},
   "outputs": [],
   "source": [
    "nb_holdout_predictions = best_nb_model.predict(scaled_X_holdout_test)"
   ]
  },
  {
   "cell_type": "code",
   "execution_count": 197,
   "id": "01872fb6",
   "metadata": {},
   "outputs": [
    {
     "data": {
      "text/plain": [
       "0.4866666666666667"
      ]
     },
     "execution_count": 197,
     "metadata": {},
     "output_type": "execute_result"
    }
   ],
   "source": [
    "accuracy_score(y_holdout_test, nb_holdout_predictions)"
   ]
  },
  {
   "cell_type": "code",
   "execution_count": 198,
   "id": "6b50790b",
   "metadata": {},
   "outputs": [
    {
     "data": {
      "text/plain": [
       "0.5133333333333333"
      ]
     },
     "execution_count": 198,
     "metadata": {},
     "output_type": "execute_result"
    }
   ],
   "source": [
    "svc_holdout_mae = mean_absolute_error(y_holdout_test, nb_holdout_predictions)\n",
    "svc_holdout_mae"
   ]
  },
  {
   "cell_type": "code",
   "execution_count": 199,
   "id": "a374f654",
   "metadata": {},
   "outputs": [
    {
     "data": {
      "text/plain": [
       "0.7164728420068226"
      ]
     },
     "execution_count": 199,
     "metadata": {},
     "output_type": "execute_result"
    }
   ],
   "source": [
    "nb_holdout_rmse = mean_squared_error(y_holdout_test, nb_holdout_predictions) ** 0.5\n",
    "nb_holdout_rmse"
   ]
  },
  {
   "cell_type": "code",
   "execution_count": 200,
   "id": "4803ecca",
   "metadata": {},
   "outputs": [],
   "source": [
    "nb_y_final_pred = best_nb_model.predict(scaled_X_test)"
   ]
  },
  {
   "cell_type": "code",
   "execution_count": 201,
   "id": "8ad71d37",
   "metadata": {},
   "outputs": [
    {
     "data": {
      "text/plain": [
       "0.5033333333333333"
      ]
     },
     "execution_count": 201,
     "metadata": {},
     "output_type": "execute_result"
    }
   ],
   "source": [
    "accuracy_score(y_test, nb_y_final_pred)"
   ]
  },
  {
   "cell_type": "code",
   "execution_count": 202,
   "id": "e7553b9c",
   "metadata": {},
   "outputs": [
    {
     "name": "stdout",
     "output_type": "stream",
     "text": [
      "              precision    recall  f1-score   support\n",
      "\n",
      "           0       0.50      1.00      0.67       151\n",
      "           1       0.00      0.00      0.00       149\n",
      "\n",
      "    accuracy                           0.50       300\n",
      "   macro avg       0.25      0.50      0.33       300\n",
      "weighted avg       0.25      0.50      0.34       300\n",
      "\n"
     ]
    },
    {
     "name": "stderr",
     "output_type": "stream",
     "text": [
      "/opt/anaconda3/lib/python3.9/site-packages/sklearn/metrics/_classification.py:1318: UndefinedMetricWarning: Precision and F-score are ill-defined and being set to 0.0 in labels with no predicted samples. Use `zero_division` parameter to control this behavior.\n",
      "  _warn_prf(average, modifier, msg_start, len(result))\n",
      "/opt/anaconda3/lib/python3.9/site-packages/sklearn/metrics/_classification.py:1318: UndefinedMetricWarning: Precision and F-score are ill-defined and being set to 0.0 in labels with no predicted samples. Use `zero_division` parameter to control this behavior.\n",
      "  _warn_prf(average, modifier, msg_start, len(result))\n",
      "/opt/anaconda3/lib/python3.9/site-packages/sklearn/metrics/_classification.py:1318: UndefinedMetricWarning: Precision and F-score are ill-defined and being set to 0.0 in labels with no predicted samples. Use `zero_division` parameter to control this behavior.\n",
      "  _warn_prf(average, modifier, msg_start, len(result))\n"
     ]
    }
   ],
   "source": [
    "print(classification_report(y_test,nb_y_final_pred))"
   ]
  },
  {
   "cell_type": "code",
   "execution_count": 203,
   "id": "17cce465-d4ff-4e26-92f1-f4fb1349046d",
   "metadata": {},
   "outputs": [
    {
     "name": "stderr",
     "output_type": "stream",
     "text": [
      "/opt/anaconda3/lib/python3.9/site-packages/sklearn/metrics/_classification.py:1318: UndefinedMetricWarning: Precision and F-score are ill-defined and being set to 0.0 in labels with no predicted samples. Use `zero_division` parameter to control this behavior.\n",
      "  _warn_prf(average, modifier, msg_start, len(result))\n",
      "/opt/anaconda3/lib/python3.9/site-packages/sklearn/metrics/_classification.py:1318: UndefinedMetricWarning: Precision and F-score are ill-defined and being set to 0.0 in labels with no predicted samples. Use `zero_division` parameter to control this behavior.\n",
      "  _warn_prf(average, modifier, msg_start, len(result))\n",
      "/opt/anaconda3/lib/python3.9/site-packages/sklearn/metrics/_classification.py:1318: UndefinedMetricWarning: Precision and F-score are ill-defined and being set to 0.0 in labels with no predicted samples. Use `zero_division` parameter to control this behavior.\n",
      "  _warn_prf(average, modifier, msg_start, len(result))\n"
     ]
    }
   ],
   "source": [
    "nb_report = classification_report(y_test,nb_y_final_pred,output_dict=True)"
   ]
  },
  {
   "cell_type": "code",
   "execution_count": null,
   "id": "fedd7f20-5835-4d44-9a8b-c2e554a0b316",
   "metadata": {},
   "outputs": [],
   "source": []
  },
  {
   "cell_type": "code",
   "execution_count": 204,
   "id": "1393a4fd",
   "metadata": {},
   "outputs": [],
   "source": [
    "#let's try gradient and adaboosting"
   ]
  },
  {
   "cell_type": "code",
   "execution_count": 205,
   "id": "c16f92d2",
   "metadata": {},
   "outputs": [],
   "source": [
    "from sklearn.ensemble import GradientBoostingClassifier"
   ]
  },
  {
   "cell_type": "code",
   "execution_count": 206,
   "id": "6a6beeb4",
   "metadata": {},
   "outputs": [],
   "source": [
    "param_grid = {'n_estimators' : [50,100,500,1000,1500,2000],\n",
    "             'learning_rate' : [0.01, 0.05, 0.1],\n",
    "             'max_depth' : [3,4,5,10]}"
   ]
  },
  {
   "cell_type": "code",
   "execution_count": 207,
   "id": "15b5fca2",
   "metadata": {},
   "outputs": [],
   "source": [
    "gb_model = GradientBoostingClassifier()"
   ]
  },
  {
   "cell_type": "code",
   "execution_count": 208,
   "id": "058d79e3",
   "metadata": {},
   "outputs": [],
   "source": [
    "gb_grid_model = GridSearchCV(gb_model, param_grid)"
   ]
  },
  {
   "cell_type": "code",
   "execution_count": 209,
   "id": "ecc41561",
   "metadata": {},
   "outputs": [
    {
     "data": {
      "text/plain": [
       "GridSearchCV(estimator=GradientBoostingClassifier(),\n",
       "             param_grid={'learning_rate': [0.01, 0.05, 0.1],\n",
       "                         'max_depth': [3, 4, 5, 10],\n",
       "                         'n_estimators': [50, 100, 500, 1000, 1500, 2000]})"
      ]
     },
     "execution_count": 209,
     "metadata": {},
     "output_type": "execute_result"
    }
   ],
   "source": [
    "gb_grid_model.fit(scaled_X_train,y_train)"
   ]
  },
  {
   "cell_type": "code",
   "execution_count": 210,
   "id": "94e98f73",
   "metadata": {},
   "outputs": [
    {
     "data": {
      "text/plain": [
       "{'learning_rate': 0.01, 'max_depth': 4, 'n_estimators': 50}"
      ]
     },
     "execution_count": 210,
     "metadata": {},
     "output_type": "execute_result"
    }
   ],
   "source": [
    "best_gb_model = gb_grid_model.best_params_\n",
    "best_gb_model"
   ]
  },
  {
   "cell_type": "code",
   "execution_count": 211,
   "id": "69fefc9a",
   "metadata": {},
   "outputs": [],
   "source": [
    "best_gb_model = GradientBoostingClassifier(learning_rate=0.05,\n",
    "                                          max_depth=5,n_estimators=2000)"
   ]
  },
  {
   "cell_type": "code",
   "execution_count": 212,
   "id": "114bd66c",
   "metadata": {},
   "outputs": [
    {
     "data": {
      "text/plain": [
       "GradientBoostingClassifier(learning_rate=0.05, max_depth=5, n_estimators=2000)"
      ]
     },
     "execution_count": 212,
     "metadata": {},
     "output_type": "execute_result"
    }
   ],
   "source": [
    "best_gb_model"
   ]
  },
  {
   "cell_type": "code",
   "execution_count": 213,
   "id": "5ecd86b3",
   "metadata": {},
   "outputs": [
    {
     "data": {
      "text/plain": [
       "GradientBoostingClassifier(learning_rate=0.05, max_depth=5, n_estimators=2000)"
      ]
     },
     "execution_count": 213,
     "metadata": {},
     "output_type": "execute_result"
    }
   ],
   "source": [
    "best_gb_model.fit(scaled_X_train,y_train)"
   ]
  },
  {
   "cell_type": "code",
   "execution_count": 214,
   "id": "dd8283e8",
   "metadata": {},
   "outputs": [
    {
     "name": "stderr",
     "output_type": "stream",
     "text": [
      "/opt/anaconda3/lib/python3.9/site-packages/sklearn/base.py:443: UserWarning: X has feature names, but GradientBoostingClassifier was fitted without feature names\n",
      "  warnings.warn(\n"
     ]
    }
   ],
   "source": [
    "gb_validation_predictions = best_gb_model.predict(X_validation)\n"
   ]
  },
  {
   "cell_type": "code",
   "execution_count": 215,
   "id": "955afb48",
   "metadata": {},
   "outputs": [
    {
     "data": {
      "text/plain": [
       "0.48"
      ]
     },
     "execution_count": 215,
     "metadata": {},
     "output_type": "execute_result"
    }
   ],
   "source": [
    "gb_validate_mae = mean_absolute_error(y_validation, gb_validation_predictions)\n",
    "gb_validate_mae"
   ]
  },
  {
   "cell_type": "code",
   "execution_count": 216,
   "id": "1e0d6ab0",
   "metadata": {},
   "outputs": [
    {
     "data": {
      "text/plain": [
       "0.6928203230275509"
      ]
     },
     "execution_count": 216,
     "metadata": {},
     "output_type": "execute_result"
    }
   ],
   "source": [
    "gb_validate_rmse = mean_squared_error(y_validation, gb_validation_predictions) ** 0.5\n",
    "gb_validate_rmse"
   ]
  },
  {
   "cell_type": "code",
   "execution_count": 217,
   "id": "333770b6",
   "metadata": {},
   "outputs": [],
   "source": [
    "gb_holdout_predictions = best_gb_model.predict(scaled_X_holdout_test)"
   ]
  },
  {
   "cell_type": "code",
   "execution_count": 218,
   "id": "84623600",
   "metadata": {},
   "outputs": [
    {
     "data": {
      "text/plain": [
       "0.5266666666666666"
      ]
     },
     "execution_count": 218,
     "metadata": {},
     "output_type": "execute_result"
    }
   ],
   "source": [
    "accuracy_score(y_holdout_test, gb_holdout_predictions)"
   ]
  },
  {
   "cell_type": "code",
   "execution_count": 219,
   "id": "c09afbe6",
   "metadata": {},
   "outputs": [
    {
     "data": {
      "text/plain": [
       "0.47333333333333333"
      ]
     },
     "execution_count": 219,
     "metadata": {},
     "output_type": "execute_result"
    }
   ],
   "source": [
    "gb_holdout_mae = mean_absolute_error(y_holdout_test, gb_holdout_predictions)\n",
    "gb_holdout_mae"
   ]
  },
  {
   "cell_type": "code",
   "execution_count": 220,
   "id": "5628d0a4",
   "metadata": {},
   "outputs": [
    {
     "data": {
      "text/plain": [
       "0.6879922480183431"
      ]
     },
     "execution_count": 220,
     "metadata": {},
     "output_type": "execute_result"
    }
   ],
   "source": [
    "gb_holdout_rmse = mean_squared_error(y_holdout_test, gb_holdout_predictions) ** 0.5\n",
    "gb_holdout_rmse"
   ]
  },
  {
   "cell_type": "code",
   "execution_count": 221,
   "id": "98c9a708",
   "metadata": {},
   "outputs": [],
   "source": [
    "gb_y_final_pred = best_gb_model.predict(scaled_X_test)"
   ]
  },
  {
   "cell_type": "code",
   "execution_count": 222,
   "id": "ffd841f7",
   "metadata": {},
   "outputs": [
    {
     "data": {
      "text/plain": [
       "0.5033333333333333"
      ]
     },
     "execution_count": 222,
     "metadata": {},
     "output_type": "execute_result"
    }
   ],
   "source": [
    "accuracy_score(y_test,gb_y_final_pred)"
   ]
  },
  {
   "cell_type": "code",
   "execution_count": 223,
   "id": "afbc7451",
   "metadata": {},
   "outputs": [
    {
     "name": "stdout",
     "output_type": "stream",
     "text": [
      "              precision    recall  f1-score   support\n",
      "\n",
      "           0       0.51      0.55      0.53       151\n",
      "           1       0.50      0.46      0.48       149\n",
      "\n",
      "    accuracy                           0.50       300\n",
      "   macro avg       0.50      0.50      0.50       300\n",
      "weighted avg       0.50      0.50      0.50       300\n",
      "\n"
     ]
    }
   ],
   "source": [
    "print(classification_report(y_test,gb_y_final_pred))"
   ]
  },
  {
   "cell_type": "code",
   "execution_count": 224,
   "id": "f428ea17-152a-4edb-9037-0db13cb9abe4",
   "metadata": {},
   "outputs": [],
   "source": [
    "gb_report = classification_report(y_test,gb_y_final_pred,output_dict=True)"
   ]
  },
  {
   "cell_type": "code",
   "execution_count": 225,
   "id": "ee1933b2-cf44-4ee6-ace9-fcbb452b8f62",
   "metadata": {},
   "outputs": [],
   "source": [
    "#How to choose the best model? \n",
    "#Precision for false positives\n",
    "#recall for false negatives \n",
    "#highest accuracy? \n",
    "#best f1 score?"
   ]
  },
  {
   "cell_type": "code",
   "execution_count": 226,
   "id": "0e2476a1-0c9d-4af5-b9b6-7237321335cc",
   "metadata": {},
   "outputs": [],
   "source": [
    "def get_best_model(models_metrics_list):\n",
    "\n",
    "    best_metrics = {\n",
    "        'highest_accuracy': {'value': 0, 'model_index': None, 'model': None},\n",
    "        'highest_macro_f1': {'value': 0, 'model_index': None, 'model': None},\n",
    "        'highest_weighted_f1': {'value': 0, 'model_index': None, 'model': None},\n",
    "        'highest_macro_precision': {'value': 0, 'model_index': None, 'model': None},\n",
    "        'highest_macro_recall': {'value': 0, 'model_index': None, 'model': None}\n",
    "    }\n",
    "\n",
    "    for index, model in enumerate(models_metrics_list):\n",
    "        accuracy = model.get('accuracy', 0)\n",
    "        macro_avg = model.get('macro avg', {})\n",
    "        weighted_avg = model.get('weighted avg', {})\n",
    "\n",
    "        if accuracy > best_metrics['highest_accuracy']['value']:\n",
    "            best_metrics['highest_accuracy'] = {'value': accuracy, 'model_index': index, 'model': model}\n",
    "        if macro_avg.get('f1-score', 0) > best_metrics['highest_macro_f1']['value']:\n",
    "            best_metrics['highest_macro_f1'] = {'value': macro_avg.get('f1-score', 0), 'model_index': index, 'model': model}\n",
    "        if weighted_avg.get('f1-score', 0) > best_metrics['highest_weighted_f1']['value']:\n",
    "            best_metrics['highest_weighted_f1'] = {'value': weighted_avg.get('f1-score', 0), 'model_index': index, 'model': model}\n",
    "        if macro_avg.get('precision', 0) > best_metrics['highest_macro_precision']['value']:\n",
    "            best_metrics['highest_macro_precision'] = {'value': macro_avg.get('precision', 0), 'model_index': index, 'model': model}\n",
    "        if macro_avg.get('recall', 0) > best_metrics['highest_macro_recall']['value']:\n",
    "            best_metrics['highest_macro_recall'] = {'value': macro_avg.get('recall', 0), 'model_index': index, 'model': model}\n",
    "\n",
    "    return best_metrics\n"
   ]
  },
  {
   "cell_type": "code",
   "execution_count": 227,
   "id": "25d97922-8b89-4d87-a8d4-270b7bbb4d06",
   "metadata": {},
   "outputs": [],
   "source": [
    "lst_reports = [svc_report,lr_report, rfc_report, nb_report, gb_report]"
   ]
  },
  {
   "cell_type": "code",
   "execution_count": 228,
   "id": "d3c40da2-f0c6-4747-b56d-8c8f13f5ed99",
   "metadata": {},
   "outputs": [],
   "source": [
    "best_metrics = get_best_model(lst_reports)"
   ]
  },
  {
   "cell_type": "code",
   "execution_count": 229,
   "id": "a2c52071-100e-4dff-9187-ce8ec9dfb36d",
   "metadata": {},
   "outputs": [
    {
     "name": "stdout",
     "output_type": "stream",
     "text": [
      "highest_accuracy: Value = 0.5333333333333333, Model Index = 0\n",
      "highest_macro_f1: Value = 0.5323148189390228, Model Index = 0\n",
      "highest_weighted_f1: Value = 0.5324603209953529, Model Index = 0\n",
      "highest_macro_precision: Value = 0.5332945233084054, Model Index = 0\n",
      "highest_macro_recall: Value = 0.5330459131516956, Model Index = 0\n"
     ]
    }
   ],
   "source": [
    "for metric, result in best_metrics.items(): \n",
    "    print(f\"{metric}: Value = {result['value']}, Model Index = {result['model_index']}\")"
   ]
  },
  {
   "cell_type": "code",
   "execution_count": 230,
   "id": "0c8d8c3f-b8de-436e-9230-eefebf4d971b",
   "metadata": {},
   "outputs": [
    {
     "data": {
      "text/plain": [
       "{'0': {'precision': 0.5263157894736842,\n",
       "  'recall': 0.5298013245033113,\n",
       "  'f1-score': 0.5280528052805281,\n",
       "  'support': 151},\n",
       " '1': {'precision': 0.5202702702702703,\n",
       "  'recall': 0.5167785234899329,\n",
       "  'f1-score': 0.5185185185185185,\n",
       "  'support': 149},\n",
       " 'accuracy': 0.5233333333333333,\n",
       " 'macro avg': {'precision': 0.5232930298719772,\n",
       "  'recall': 0.5232899239966221,\n",
       "  'f1-score': 0.5232856618995233,\n",
       "  'support': 300},\n",
       " 'weighted avg': {'precision': 0.5233131816026553,\n",
       "  'recall': 0.5233333333333333,\n",
       "  'f1-score': 0.5233174428553966,\n",
       "  'support': 300}}"
      ]
     },
     "execution_count": 230,
     "metadata": {},
     "output_type": "execute_result"
    }
   ],
   "source": [
    "lst_reports[2]"
   ]
  },
  {
   "cell_type": "code",
   "execution_count": 231,
   "id": "e8626368-831d-4760-9f57-fe5658071d53",
   "metadata": {},
   "outputs": [],
   "source": [
    "#Due to this, the best average model is RFC, which is random forest classifier!"
   ]
  },
  {
   "cell_type": "code",
   "execution_count": null,
   "id": "7759a1cd-d667-4797-bb15-7c6341b0cad6",
   "metadata": {},
   "outputs": [],
   "source": []
  }
 ],
 "metadata": {
  "kernelspec": {
   "display_name": "Python 3 (ipykernel)",
   "language": "python",
   "name": "python3"
  },
  "language_info": {
   "codemirror_mode": {
    "name": "ipython",
    "version": 3
   },
   "file_extension": ".py",
   "mimetype": "text/x-python",
   "name": "python",
   "nbconvert_exporter": "python",
   "pygments_lexer": "ipython3",
   "version": "3.9.13"
  }
 },
 "nbformat": 4,
 "nbformat_minor": 5
}
