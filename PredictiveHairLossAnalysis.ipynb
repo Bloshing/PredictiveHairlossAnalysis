{
 "cells": [
  {
   "cell_type": "code",
   "execution_count": 1,
   "id": "2e360c2d-884b-441f-8a90-dfd0e02cd9c2",
   "metadata": {},
   "outputs": [],
   "source": [
    "import pandas as pd\n",
    "import numpy as np \n",
    "import seaborn as sns \n",
    "import matplotlib.pyplot as plt\n",
    "import os"
   ]
  },
  {
   "cell_type": "code",
   "execution_count": 2,
   "id": "698a983b",
   "metadata": {
    "scrolled": true
   },
   "outputs": [
    {
     "name": "stdout",
     "output_type": "stream",
     "text": [
      "/Users/emanoelagbayani/Documents/GitHub/PredictiveHairlossAnalysis\n"
     ]
    }
   ],
   "source": [
    "print(os.getcwd())"
   ]
  },
  {
   "cell_type": "code",
   "execution_count": 3,
   "id": "0d39dd67",
   "metadata": {
    "scrolled": true
   },
   "outputs": [
    {
     "data": {
      "text/html": [
       "<div>\n",
       "<style scoped>\n",
       "    .dataframe tbody tr th:only-of-type {\n",
       "        vertical-align: middle;\n",
       "    }\n",
       "\n",
       "    .dataframe tbody tr th {\n",
       "        vertical-align: top;\n",
       "    }\n",
       "\n",
       "    .dataframe thead th {\n",
       "        text-align: right;\n",
       "    }\n",
       "</style>\n",
       "<table border=\"1\" class=\"dataframe\">\n",
       "  <thead>\n",
       "    <tr style=\"text-align: right;\">\n",
       "      <th></th>\n",
       "      <th>Id</th>\n",
       "      <th>Genetics</th>\n",
       "      <th>Hormonal Changes</th>\n",
       "      <th>Medical Conditions</th>\n",
       "      <th>Medications &amp; Treatments</th>\n",
       "      <th>Nutritional Deficiencies</th>\n",
       "      <th>Stress</th>\n",
       "      <th>Age</th>\n",
       "      <th>Poor Hair Care Habits</th>\n",
       "      <th>Environmental Factors</th>\n",
       "      <th>Smoking</th>\n",
       "      <th>Weight Loss</th>\n",
       "      <th>Hair Loss</th>\n",
       "    </tr>\n",
       "  </thead>\n",
       "  <tbody>\n",
       "    <tr>\n",
       "      <th>0</th>\n",
       "      <td>133992</td>\n",
       "      <td>Yes</td>\n",
       "      <td>No</td>\n",
       "      <td>No Data</td>\n",
       "      <td>No Data</td>\n",
       "      <td>Magnesium deficiency</td>\n",
       "      <td>Moderate</td>\n",
       "      <td>19</td>\n",
       "      <td>Yes</td>\n",
       "      <td>Yes</td>\n",
       "      <td>No</td>\n",
       "      <td>No</td>\n",
       "      <td>0</td>\n",
       "    </tr>\n",
       "    <tr>\n",
       "      <th>1</th>\n",
       "      <td>148393</td>\n",
       "      <td>No</td>\n",
       "      <td>No</td>\n",
       "      <td>Eczema</td>\n",
       "      <td>Antibiotics</td>\n",
       "      <td>Magnesium deficiency</td>\n",
       "      <td>High</td>\n",
       "      <td>43</td>\n",
       "      <td>Yes</td>\n",
       "      <td>Yes</td>\n",
       "      <td>No</td>\n",
       "      <td>No</td>\n",
       "      <td>0</td>\n",
       "    </tr>\n",
       "    <tr>\n",
       "      <th>2</th>\n",
       "      <td>155074</td>\n",
       "      <td>No</td>\n",
       "      <td>No</td>\n",
       "      <td>Dermatosis</td>\n",
       "      <td>Antifungal Cream</td>\n",
       "      <td>Protein deficiency</td>\n",
       "      <td>Moderate</td>\n",
       "      <td>26</td>\n",
       "      <td>Yes</td>\n",
       "      <td>Yes</td>\n",
       "      <td>No</td>\n",
       "      <td>Yes</td>\n",
       "      <td>0</td>\n",
       "    </tr>\n",
       "    <tr>\n",
       "      <th>3</th>\n",
       "      <td>118261</td>\n",
       "      <td>Yes</td>\n",
       "      <td>Yes</td>\n",
       "      <td>Ringworm</td>\n",
       "      <td>Antibiotics</td>\n",
       "      <td>Biotin Deficiency</td>\n",
       "      <td>Moderate</td>\n",
       "      <td>46</td>\n",
       "      <td>Yes</td>\n",
       "      <td>Yes</td>\n",
       "      <td>No</td>\n",
       "      <td>No</td>\n",
       "      <td>0</td>\n",
       "    </tr>\n",
       "    <tr>\n",
       "      <th>4</th>\n",
       "      <td>111915</td>\n",
       "      <td>No</td>\n",
       "      <td>No</td>\n",
       "      <td>Psoriasis</td>\n",
       "      <td>Accutane</td>\n",
       "      <td>Iron deficiency</td>\n",
       "      <td>Moderate</td>\n",
       "      <td>30</td>\n",
       "      <td>No</td>\n",
       "      <td>Yes</td>\n",
       "      <td>Yes</td>\n",
       "      <td>No</td>\n",
       "      <td>1</td>\n",
       "    </tr>\n",
       "  </tbody>\n",
       "</table>\n",
       "</div>"
      ],
      "text/plain": [
       "       Id Genetics Hormonal Changes Medical Conditions  \\\n",
       "0  133992      Yes               No            No Data   \n",
       "1  148393       No               No             Eczema   \n",
       "2  155074       No               No         Dermatosis   \n",
       "3  118261      Yes              Yes           Ringworm   \n",
       "4  111915       No               No          Psoriasis   \n",
       "\n",
       "  Medications & Treatments Nutritional Deficiencies     Stress  Age  \\\n",
       "0                  No Data      Magnesium deficiency  Moderate   19   \n",
       "1              Antibiotics      Magnesium deficiency      High   43   \n",
       "2         Antifungal Cream        Protein deficiency  Moderate   26   \n",
       "3              Antibiotics        Biotin Deficiency   Moderate   46   \n",
       "4                 Accutane           Iron deficiency  Moderate   30   \n",
       "\n",
       "  Poor Hair Care Habits  Environmental Factors Smoking Weight Loss   Hair Loss  \n",
       "0                    Yes                   Yes      No           No          0  \n",
       "1                    Yes                   Yes      No           No          0  \n",
       "2                    Yes                   Yes      No          Yes          0  \n",
       "3                    Yes                   Yes      No           No          0  \n",
       "4                     No                   Yes     Yes           No          1  "
      ]
     },
     "execution_count": 3,
     "metadata": {},
     "output_type": "execute_result"
    }
   ],
   "source": [
    "df = pd.read_csv(\"Predict Hair Fall.csv\")\n",
    "df.head()"
   ]
  },
  {
   "cell_type": "code",
   "execution_count": 4,
   "id": "68f48e2b-d6d3-4f3f-adf9-83cd48503bb5",
   "metadata": {},
   "outputs": [
    {
     "data": {
      "text/plain": [
       "array(['No Data', 'Eczema', 'Dermatosis', 'Ringworm', 'Psoriasis',\n",
       "       'Alopecia Areata ', 'Scalp Infection', 'Seborrheic Dermatitis',\n",
       "       'Dermatitis', 'Thyroid Problems', 'Androgenetic Alopecia'],\n",
       "      dtype=object)"
      ]
     },
     "execution_count": 4,
     "metadata": {},
     "output_type": "execute_result"
    }
   ],
   "source": [
    "df['Medical Conditions'].unique()"
   ]
  },
  {
   "cell_type": "code",
   "execution_count": 5,
   "id": "472dc4ea",
   "metadata": {},
   "outputs": [
    {
     "name": "stdout",
     "output_type": "stream",
     "text": [
      "<class 'pandas.core.frame.DataFrame'>\n",
      "RangeIndex: 999 entries, 0 to 998\n",
      "Data columns (total 13 columns):\n",
      " #   Column                     Non-Null Count  Dtype \n",
      "---  ------                     --------------  ----- \n",
      " 0   Id                         999 non-null    int64 \n",
      " 1   Genetics                   999 non-null    object\n",
      " 2   Hormonal Changes           999 non-null    object\n",
      " 3   Medical Conditions         999 non-null    object\n",
      " 4   Medications & Treatments   999 non-null    object\n",
      " 5   Nutritional Deficiencies   999 non-null    object\n",
      " 6   Stress                     999 non-null    object\n",
      " 7   Age                        999 non-null    int64 \n",
      " 8   Poor Hair Care Habits      999 non-null    object\n",
      " 9   Environmental Factors      999 non-null    object\n",
      " 10  Smoking                    999 non-null    object\n",
      " 11  Weight Loss                999 non-null    object\n",
      " 12  Hair Loss                  999 non-null    int64 \n",
      "dtypes: int64(3), object(10)\n",
      "memory usage: 101.6+ KB\n"
     ]
    }
   ],
   "source": [
    "df.info()"
   ]
  },
  {
   "cell_type": "code",
   "execution_count": 6,
   "id": "1dd583c2",
   "metadata": {},
   "outputs": [
    {
     "data": {
      "text/html": [
       "<div>\n",
       "<style scoped>\n",
       "    .dataframe tbody tr th:only-of-type {\n",
       "        vertical-align: middle;\n",
       "    }\n",
       "\n",
       "    .dataframe tbody tr th {\n",
       "        vertical-align: top;\n",
       "    }\n",
       "\n",
       "    .dataframe thead th {\n",
       "        text-align: right;\n",
       "    }\n",
       "</style>\n",
       "<table border=\"1\" class=\"dataframe\">\n",
       "  <thead>\n",
       "    <tr style=\"text-align: right;\">\n",
       "      <th></th>\n",
       "      <th>Id</th>\n",
       "      <th>Age</th>\n",
       "      <th>Hair Loss</th>\n",
       "    </tr>\n",
       "  </thead>\n",
       "  <tbody>\n",
       "    <tr>\n",
       "      <th>count</th>\n",
       "      <td>999.000000</td>\n",
       "      <td>999.000000</td>\n",
       "      <td>999.000000</td>\n",
       "    </tr>\n",
       "    <tr>\n",
       "      <th>mean</th>\n",
       "      <td>153354.673674</td>\n",
       "      <td>34.188188</td>\n",
       "      <td>0.497497</td>\n",
       "    </tr>\n",
       "    <tr>\n",
       "      <th>std</th>\n",
       "      <td>25516.041985</td>\n",
       "      <td>9.377980</td>\n",
       "      <td>0.500244</td>\n",
       "    </tr>\n",
       "    <tr>\n",
       "      <th>min</th>\n",
       "      <td>110003.000000</td>\n",
       "      <td>18.000000</td>\n",
       "      <td>0.000000</td>\n",
       "    </tr>\n",
       "    <tr>\n",
       "      <th>25%</th>\n",
       "      <td>131867.500000</td>\n",
       "      <td>26.000000</td>\n",
       "      <td>0.000000</td>\n",
       "    </tr>\n",
       "    <tr>\n",
       "      <th>50%</th>\n",
       "      <td>152951.000000</td>\n",
       "      <td>34.000000</td>\n",
       "      <td>0.000000</td>\n",
       "    </tr>\n",
       "    <tr>\n",
       "      <th>75%</th>\n",
       "      <td>174969.000000</td>\n",
       "      <td>42.000000</td>\n",
       "      <td>1.000000</td>\n",
       "    </tr>\n",
       "    <tr>\n",
       "      <th>max</th>\n",
       "      <td>199949.000000</td>\n",
       "      <td>50.000000</td>\n",
       "      <td>1.000000</td>\n",
       "    </tr>\n",
       "  </tbody>\n",
       "</table>\n",
       "</div>"
      ],
      "text/plain": [
       "                  Id         Age   Hair Loss\n",
       "count     999.000000  999.000000  999.000000\n",
       "mean   153354.673674   34.188188    0.497497\n",
       "std     25516.041985    9.377980    0.500244\n",
       "min    110003.000000   18.000000    0.000000\n",
       "25%    131867.500000   26.000000    0.000000\n",
       "50%    152951.000000   34.000000    0.000000\n",
       "75%    174969.000000   42.000000    1.000000\n",
       "max    199949.000000   50.000000    1.000000"
      ]
     },
     "execution_count": 6,
     "metadata": {},
     "output_type": "execute_result"
    }
   ],
   "source": [
    "df.describe()"
   ]
  },
  {
   "cell_type": "code",
   "execution_count": 7,
   "id": "5052ded5",
   "metadata": {},
   "outputs": [
    {
     "data": {
      "text/plain": [
       "Id                           0\n",
       "Genetics                     0\n",
       "Hormonal Changes             0\n",
       "Medical Conditions           0\n",
       "Medications & Treatments     0\n",
       "Nutritional Deficiencies     0\n",
       "Stress                       0\n",
       "Age                          0\n",
       "Poor Hair Care Habits        0\n",
       "Environmental Factors        0\n",
       "Smoking                      0\n",
       "Weight Loss                  0\n",
       "Hair Loss                    0\n",
       "dtype: int64"
      ]
     },
     "execution_count": 7,
     "metadata": {},
     "output_type": "execute_result"
    }
   ],
   "source": [
    "df.isnull().sum()"
   ]
  },
  {
   "cell_type": "code",
   "execution_count": 8,
   "id": "7dd02ac0-4dd2-406a-9543-fe747cca15cd",
   "metadata": {},
   "outputs": [],
   "source": [
    "#Basic EDA"
   ]
  },
  {
   "cell_type": "code",
   "execution_count": 9,
   "id": "5e0296c4-6dd3-4dc7-94b4-b996da334649",
   "metadata": {},
   "outputs": [
    {
     "data": {
      "text/plain": [
       "<AxesSubplot:xlabel='Age', ylabel='Count'>"
      ]
     },
     "execution_count": 9,
     "metadata": {},
     "output_type": "execute_result"
    },
    {
     "data": {
      "image/png": "[encoded data removed]",
      "text/plain": [
       "<Figure size 640x480 with 1 Axes>"
      ]
     },
     "metadata": {},
     "output_type": "display_data"
    }
   ],
   "source": [
    "sns.histplot(data=df, x=df['Age'],discrete=True)\n",
    "#shows how the ages and a count of each age"
   ]
  },
  {
   "cell_type": "code",
   "execution_count": 10,
   "id": "b82b151b-0f65-4182-92d0-c3bdb8e596d8",
   "metadata": {},
   "outputs": [
    {
     "data": {
      "text/plain": [
       "<AxesSubplot:xlabel='Count', ylabel='Medical Conditions'>"
      ]
     },
     "execution_count": 10,
     "metadata": {},
     "output_type": "execute_result"
    },
    {
     "data": {
      "image/png": "[encoded data removed]",
      "text/plain": [
       "<Figure size 640x480 with 1 Axes>"
      ]
     },
     "metadata": {},
     "output_type": "display_data"
    }
   ],
   "source": [
    "sns.histplot(data=df, y='Medical Conditions')\n",
    "#shows us the count of each medication condition"
   ]
  },
  {
   "cell_type": "code",
   "execution_count": 11,
   "id": "d59623cb-a00d-434a-98be-5705b6322881",
   "metadata": {},
   "outputs": [
    {
     "data": {
      "text/plain": [
       "<AxesSubplot:xlabel='Count', ylabel='Stress'>"
      ]
     },
     "execution_count": 11,
     "metadata": {},
     "output_type": "execute_result"
    },
    {
     "data": {
      "image/png": "[encoded data removed]",
      "text/plain": [
       "<Figure size 640x480 with 1 Axes>"
      ]
     },
     "metadata": {},
     "output_type": "display_data"
    }
   ],
   "source": [
    "sns.histplot(data=df, y='Stress')\n",
    "#shows us the moderate levels of stress"
   ]
  },
  {
   "cell_type": "code",
   "execution_count": 12,
   "id": "9d8ec1c9-4974-4c31-a80c-309aad3afe91",
   "metadata": {},
   "outputs": [
    {
     "data": {
      "text/plain": [
       "Index(['Id', 'Genetics', 'Hormonal Changes', 'Medical Conditions',\n",
       "       'Medications & Treatments', 'Nutritional Deficiencies ', 'Stress',\n",
       "       'Age', 'Poor Hair Care Habits ', 'Environmental Factors', 'Smoking',\n",
       "       'Weight Loss ', 'Hair Loss'],\n",
       "      dtype='object')"
      ]
     },
     "execution_count": 12,
     "metadata": {},
     "output_type": "execute_result"
    }
   ],
   "source": [
    "df.columns"
   ]
  },
  {
   "cell_type": "code",
   "execution_count": 13,
   "id": "c9ac2020-c5c1-470b-b6d0-d620a60194fa",
   "metadata": {},
   "outputs": [
    {
     "data": {
      "image/png": "[encoded data removed]",
      "text/plain": [
       "<Figure size 960x720 with 1 Axes>"
      ]
     },
     "metadata": {},
     "output_type": "display_data"
    }
   ],
   "source": [
    "medical_conditions_count = df.groupby('Age')['Medical Conditions'].count().reset_index(name='Medical Conditions')\n",
    "\n",
    "plt.figure(dpi=150)\n",
    "sns.barplot(data = medical_conditions_count,\n",
    "            x='Age',y='Medical Conditions')\n",
    "plt.xticks(rotation=90);"
   ]
  },
  {
   "cell_type": "code",
   "execution_count": 14,
   "id": "39c90a29-8d3f-4c07-9ff4-3f5921aa77de",
   "metadata": {},
   "outputs": [
    {
     "data": {
      "text/plain": [
       "No Data                  15\n",
       "Alopecia Areata           3\n",
       "Dermatitis                3\n",
       "Ringworm                  3\n",
       "Psoriasis                 2\n",
       "Thyroid Problems          2\n",
       "Seborrheic Dermatitis     2\n",
       "Scalp Infection           2\n",
       "Eczema                    1\n",
       "Name: Medical Conditions, dtype: int64"
      ]
     },
     "execution_count": 14,
     "metadata": {},
     "output_type": "execute_result"
    }
   ],
   "source": [
    "df[df['Age']==18]['Medical Conditions'].value_counts()"
   ]
  },
  {
   "cell_type": "code",
   "execution_count": 15,
   "id": "f04ab43f-a982-4db7-a832-4d059e8522bb",
   "metadata": {},
   "outputs": [
    {
     "data": {
      "text/plain": [
       "<matplotlib.legend.Legend at 0x7f77da07b3d0>"
      ]
     },
     "execution_count": 15,
     "metadata": {},
     "output_type": "execute_result"
    },
    {
     "data": {
      "image/png": "[encoded data removed]",
      "text/plain": [
       "<Figure size 640x480 with 1 Axes>"
      ]
     },
     "metadata": {},
     "output_type": "display_data"
    }
   ],
   "source": [
    "sns.barplot(data=df,x='Age',y='Stress',hue='Hair Loss',\n",
    "           palette='viridis')\n",
    "plt.legend(loc=(1.05,.75))"
   ]
  },
  {
   "cell_type": "code",
   "execution_count": 16,
   "id": "54666b3f-c608-4285-8937-435a6d94f677",
   "metadata": {},
   "outputs": [
    {
     "data": {
      "image/png": "[encoded data removed]",
      "text/plain": [
       "<Figure size 640x480 with 1 Axes>"
      ]
     },
     "metadata": {},
     "output_type": "display_data"
    }
   ],
   "source": [
    "hormonal_changes_count = df.groupby('Age')['Hormonal Changes'].count().reset_index(name='Hormonal Changes')\n",
    "sns.barplot(data=hormonal_changes_count, x='Age', y='Hormonal Changes')\n",
    "plt.xticks(rotation=90);\n",
    "#there is a surprising amount of hormonal changes for "
   ]
  },
  {
   "cell_type": "code",
   "execution_count": 17,
   "id": "af76eba0",
   "metadata": {},
   "outputs": [
    {
     "data": {
      "text/plain": [
       "array(['No Data', 'Eczema', 'Dermatosis', 'Ringworm', 'Psoriasis',\n",
       "       'Alopecia Areata ', 'Scalp Infection', 'Seborrheic Dermatitis',\n",
       "       'Dermatitis', 'Thyroid Problems', 'Androgenetic Alopecia'],\n",
       "      dtype=object)"
      ]
     },
     "execution_count": 17,
     "metadata": {},
     "output_type": "execute_result"
    }
   ],
   "source": [
    "df['Medical Conditions'].unique()"
   ]
  },
  {
   "cell_type": "code",
   "execution_count": 18,
   "id": "65a8ddb9",
   "metadata": {},
   "outputs": [
    {
     "data": {
      "text/plain": [
       "Id                           False\n",
       "Genetics                     False\n",
       "Hormonal Changes             False\n",
       "Medical Conditions           False\n",
       "Medications & Treatments     False\n",
       "Nutritional Deficiencies     False\n",
       "Stress                       False\n",
       "Age                          False\n",
       "Poor Hair Care Habits        False\n",
       "Environmental Factors        False\n",
       "Smoking                      False\n",
       "Weight Loss                  False\n",
       "Hair Loss                    False\n",
       "dtype: bool"
      ]
     },
     "execution_count": 18,
     "metadata": {},
     "output_type": "execute_result"
    }
   ],
   "source": [
    "df.isna().sum() > 0"
   ]
  },
  {
   "cell_type": "code",
   "execution_count": 19,
   "id": "08e495f8-d740-4469-a949-8d87de67ec19",
   "metadata": {},
   "outputs": [
    {
     "data": {
      "text/plain": [
       "array(['No', 'Yes'], dtype=object)"
      ]
     },
     "execution_count": 19,
     "metadata": {},
     "output_type": "execute_result"
    }
   ],
   "source": [
    "#so we have no null values in the whole data frame, but we do have both categoricial and numeric data, we will need to get dummy variables\n",
    "df.columns\n",
    "df['Smoking'].unique()"
   ]
  },
  {
   "cell_type": "code",
   "execution_count": 20,
   "id": "8afff2da-24f4-4991-89e4-bcc8d9bbacf0",
   "metadata": {},
   "outputs": [
    {
     "data": {
      "text/plain": [
       "array([18, 19, 20, 21, 22, 23, 24, 25, 26, 27, 28, 29, 30, 31, 32, 33, 34,\n",
       "       35, 36, 37, 38, 39, 40, 41, 42, 43, 44, 45, 46, 47, 48, 49, 50])"
      ]
     },
     "execution_count": 20,
     "metadata": {},
     "output_type": "execute_result"
    }
   ],
   "source": [
    "df['Age'].sort_values().unique()"
   ]
  },
  {
   "cell_type": "code",
   "execution_count": 21,
   "id": "c46cdef0-75f1-4fa9-9beb-785a0163002b",
   "metadata": {},
   "outputs": [
    {
     "data": {
      "text/plain": [
       "['Id',\n",
       " 'Genetics',\n",
       " 'Hormonal Changes',\n",
       " 'Medical Conditions',\n",
       " 'Medications & Treatments',\n",
       " 'Nutritional Deficiencies ',\n",
       " 'Stress',\n",
       " 'Age',\n",
       " 'Poor Hair Care Habits ',\n",
       " 'Environmental Factors',\n",
       " 'Smoking',\n",
       " 'Weight Loss ',\n",
       " 'Hair Loss']"
      ]
     },
     "execution_count": 21,
     "metadata": {},
     "output_type": "execute_result"
    }
   ],
   "source": [
    "list(df.columns)"
   ]
  },
  {
   "cell_type": "code",
   "execution_count": 22,
   "id": "2595cb0e-14f9-4647-8190-b15181d6f652",
   "metadata": {},
   "outputs": [],
   "source": [
    "#separating the df columns into categorical and numeric\n",
    "my_object_df = df.select_dtypes(include='object')\n",
    "my_numeric_df = df.select_dtypes(exclude='object')"
   ]
  },
  {
   "cell_type": "code",
   "execution_count": 23,
   "id": "610101cf",
   "metadata": {},
   "outputs": [
    {
     "data": {
      "text/html": [
       "<div>\n",
       "<style scoped>\n",
       "    .dataframe tbody tr th:only-of-type {\n",
       "        vertical-align: middle;\n",
       "    }\n",
       "\n",
       "    .dataframe tbody tr th {\n",
       "        vertical-align: top;\n",
       "    }\n",
       "\n",
       "    .dataframe thead th {\n",
       "        text-align: right;\n",
       "    }\n",
       "</style>\n",
       "<table border=\"1\" class=\"dataframe\">\n",
       "  <thead>\n",
       "    <tr style=\"text-align: right;\">\n",
       "      <th></th>\n",
       "      <th>Genetics</th>\n",
       "      <th>Hormonal Changes</th>\n",
       "      <th>Medical Conditions</th>\n",
       "      <th>Medications &amp; Treatments</th>\n",
       "      <th>Nutritional Deficiencies</th>\n",
       "      <th>Stress</th>\n",
       "      <th>Poor Hair Care Habits</th>\n",
       "      <th>Environmental Factors</th>\n",
       "      <th>Smoking</th>\n",
       "      <th>Weight Loss</th>\n",
       "    </tr>\n",
       "  </thead>\n",
       "  <tbody>\n",
       "    <tr>\n",
       "      <th>0</th>\n",
       "      <td>Yes</td>\n",
       "      <td>No</td>\n",
       "      <td>No Data</td>\n",
       "      <td>No Data</td>\n",
       "      <td>Magnesium deficiency</td>\n",
       "      <td>Moderate</td>\n",
       "      <td>Yes</td>\n",
       "      <td>Yes</td>\n",
       "      <td>No</td>\n",
       "      <td>No</td>\n",
       "    </tr>\n",
       "    <tr>\n",
       "      <th>1</th>\n",
       "      <td>No</td>\n",
       "      <td>No</td>\n",
       "      <td>Eczema</td>\n",
       "      <td>Antibiotics</td>\n",
       "      <td>Magnesium deficiency</td>\n",
       "      <td>High</td>\n",
       "      <td>Yes</td>\n",
       "      <td>Yes</td>\n",
       "      <td>No</td>\n",
       "      <td>No</td>\n",
       "    </tr>\n",
       "    <tr>\n",
       "      <th>2</th>\n",
       "      <td>No</td>\n",
       "      <td>No</td>\n",
       "      <td>Dermatosis</td>\n",
       "      <td>Antifungal Cream</td>\n",
       "      <td>Protein deficiency</td>\n",
       "      <td>Moderate</td>\n",
       "      <td>Yes</td>\n",
       "      <td>Yes</td>\n",
       "      <td>No</td>\n",
       "      <td>Yes</td>\n",
       "    </tr>\n",
       "    <tr>\n",
       "      <th>3</th>\n",
       "      <td>Yes</td>\n",
       "      <td>Yes</td>\n",
       "      <td>Ringworm</td>\n",
       "      <td>Antibiotics</td>\n",
       "      <td>Biotin Deficiency</td>\n",
       "      <td>Moderate</td>\n",
       "      <td>Yes</td>\n",
       "      <td>Yes</td>\n",
       "      <td>No</td>\n",
       "      <td>No</td>\n",
       "    </tr>\n",
       "    <tr>\n",
       "      <th>4</th>\n",
       "      <td>No</td>\n",
       "      <td>No</td>\n",
       "      <td>Psoriasis</td>\n",
       "      <td>Accutane</td>\n",
       "      <td>Iron deficiency</td>\n",
       "      <td>Moderate</td>\n",
       "      <td>No</td>\n",
       "      <td>Yes</td>\n",
       "      <td>Yes</td>\n",
       "      <td>No</td>\n",
       "    </tr>\n",
       "    <tr>\n",
       "      <th>...</th>\n",
       "      <td>...</td>\n",
       "      <td>...</td>\n",
       "      <td>...</td>\n",
       "      <td>...</td>\n",
       "      <td>...</td>\n",
       "      <td>...</td>\n",
       "      <td>...</td>\n",
       "      <td>...</td>\n",
       "      <td>...</td>\n",
       "      <td>...</td>\n",
       "    </tr>\n",
       "    <tr>\n",
       "      <th>994</th>\n",
       "      <td>Yes</td>\n",
       "      <td>No</td>\n",
       "      <td>Seborrheic Dermatitis</td>\n",
       "      <td>Rogaine</td>\n",
       "      <td>Vitamin A Deficiency</td>\n",
       "      <td>Low</td>\n",
       "      <td>Yes</td>\n",
       "      <td>Yes</td>\n",
       "      <td>Yes</td>\n",
       "      <td>Yes</td>\n",
       "    </tr>\n",
       "    <tr>\n",
       "      <th>995</th>\n",
       "      <td>Yes</td>\n",
       "      <td>Yes</td>\n",
       "      <td>No Data</td>\n",
       "      <td>Accutane</td>\n",
       "      <td>Protein deficiency</td>\n",
       "      <td>Low</td>\n",
       "      <td>No</td>\n",
       "      <td>No</td>\n",
       "      <td>No</td>\n",
       "      <td>Yes</td>\n",
       "    </tr>\n",
       "    <tr>\n",
       "      <th>996</th>\n",
       "      <td>No</td>\n",
       "      <td>Yes</td>\n",
       "      <td>Androgenetic Alopecia</td>\n",
       "      <td>Antidepressants</td>\n",
       "      <td>Protein deficiency</td>\n",
       "      <td>Moderate</td>\n",
       "      <td>Yes</td>\n",
       "      <td>No</td>\n",
       "      <td>Yes</td>\n",
       "      <td>Yes</td>\n",
       "    </tr>\n",
       "    <tr>\n",
       "      <th>997</th>\n",
       "      <td>No</td>\n",
       "      <td>Yes</td>\n",
       "      <td>Dermatitis</td>\n",
       "      <td>Immunomodulators</td>\n",
       "      <td>Biotin Deficiency</td>\n",
       "      <td>Moderate</td>\n",
       "      <td>Yes</td>\n",
       "      <td>Yes</td>\n",
       "      <td>Yes</td>\n",
       "      <td>Yes</td>\n",
       "    </tr>\n",
       "    <tr>\n",
       "      <th>998</th>\n",
       "      <td>Yes</td>\n",
       "      <td>Yes</td>\n",
       "      <td>Psoriasis</td>\n",
       "      <td>Blood Pressure Medication</td>\n",
       "      <td>Vitamin D Deficiency</td>\n",
       "      <td>Low</td>\n",
       "      <td>No</td>\n",
       "      <td>Yes</td>\n",
       "      <td>No</td>\n",
       "      <td>No</td>\n",
       "    </tr>\n",
       "  </tbody>\n",
       "</table>\n",
       "<p>999 rows × 10 columns</p>\n",
       "</div>"
      ],
      "text/plain": [
       "    Genetics Hormonal Changes     Medical Conditions  \\\n",
       "0        Yes               No                No Data   \n",
       "1         No               No                 Eczema   \n",
       "2         No               No             Dermatosis   \n",
       "3        Yes              Yes               Ringworm   \n",
       "4         No               No              Psoriasis   \n",
       "..       ...              ...                    ...   \n",
       "994      Yes               No  Seborrheic Dermatitis   \n",
       "995      Yes              Yes                No Data   \n",
       "996       No              Yes  Androgenetic Alopecia   \n",
       "997       No              Yes             Dermatitis   \n",
       "998      Yes              Yes              Psoriasis   \n",
       "\n",
       "      Medications & Treatments Nutritional Deficiencies     Stress  \\\n",
       "0                      No Data      Magnesium deficiency  Moderate   \n",
       "1                  Antibiotics      Magnesium deficiency      High   \n",
       "2             Antifungal Cream        Protein deficiency  Moderate   \n",
       "3                  Antibiotics        Biotin Deficiency   Moderate   \n",
       "4                     Accutane           Iron deficiency  Moderate   \n",
       "..                         ...                       ...       ...   \n",
       "994                    Rogaine      Vitamin A Deficiency       Low   \n",
       "995                   Accutane        Protein deficiency       Low   \n",
       "996           Antidepressants         Protein deficiency  Moderate   \n",
       "997           Immunomodulators        Biotin Deficiency   Moderate   \n",
       "998  Blood Pressure Medication      Vitamin D Deficiency       Low   \n",
       "\n",
       "    Poor Hair Care Habits  Environmental Factors Smoking Weight Loss   \n",
       "0                      Yes                   Yes      No           No  \n",
       "1                      Yes                   Yes      No           No  \n",
       "2                      Yes                   Yes      No          Yes  \n",
       "3                      Yes                   Yes      No           No  \n",
       "4                       No                   Yes     Yes           No  \n",
       "..                     ...                   ...     ...          ...  \n",
       "994                    Yes                   Yes     Yes          Yes  \n",
       "995                     No                    No      No          Yes  \n",
       "996                    Yes                    No     Yes          Yes  \n",
       "997                    Yes                   Yes     Yes          Yes  \n",
       "998                     No                   Yes      No           No  \n",
       "\n",
       "[999 rows x 10 columns]"
      ]
     },
     "execution_count": 23,
     "metadata": {},
     "output_type": "execute_result"
    }
   ],
   "source": [
    "my_object_df"
   ]
  },
  {
   "cell_type": "code",
   "execution_count": 24,
   "id": "28b41288-14b8-47d7-beb9-b7176db3295b",
   "metadata": {},
   "outputs": [
    {
     "data": {
      "text/html": [
       "<div>\n",
       "<style scoped>\n",
       "    .dataframe tbody tr th:only-of-type {\n",
       "        vertical-align: middle;\n",
       "    }\n",
       "\n",
       "    .dataframe tbody tr th {\n",
       "        vertical-align: top;\n",
       "    }\n",
       "\n",
       "    .dataframe thead th {\n",
       "        text-align: right;\n",
       "    }\n",
       "</style>\n",
       "<table border=\"1\" class=\"dataframe\">\n",
       "  <thead>\n",
       "    <tr style=\"text-align: right;\">\n",
       "      <th></th>\n",
       "      <th>Id</th>\n",
       "      <th>Age</th>\n",
       "      <th>Hair Loss</th>\n",
       "    </tr>\n",
       "  </thead>\n",
       "  <tbody>\n",
       "    <tr>\n",
       "      <th>0</th>\n",
       "      <td>133992</td>\n",
       "      <td>19</td>\n",
       "      <td>0</td>\n",
       "    </tr>\n",
       "    <tr>\n",
       "      <th>1</th>\n",
       "      <td>148393</td>\n",
       "      <td>43</td>\n",
       "      <td>0</td>\n",
       "    </tr>\n",
       "    <tr>\n",
       "      <th>2</th>\n",
       "      <td>155074</td>\n",
       "      <td>26</td>\n",
       "      <td>0</td>\n",
       "    </tr>\n",
       "    <tr>\n",
       "      <th>3</th>\n",
       "      <td>118261</td>\n",
       "      <td>46</td>\n",
       "      <td>0</td>\n",
       "    </tr>\n",
       "    <tr>\n",
       "      <th>4</th>\n",
       "      <td>111915</td>\n",
       "      <td>30</td>\n",
       "      <td>1</td>\n",
       "    </tr>\n",
       "    <tr>\n",
       "      <th>...</th>\n",
       "      <td>...</td>\n",
       "      <td>...</td>\n",
       "      <td>...</td>\n",
       "    </tr>\n",
       "    <tr>\n",
       "      <th>994</th>\n",
       "      <td>184367</td>\n",
       "      <td>33</td>\n",
       "      <td>1</td>\n",
       "    </tr>\n",
       "    <tr>\n",
       "      <th>995</th>\n",
       "      <td>164777</td>\n",
       "      <td>47</td>\n",
       "      <td>0</td>\n",
       "    </tr>\n",
       "    <tr>\n",
       "      <th>996</th>\n",
       "      <td>143273</td>\n",
       "      <td>20</td>\n",
       "      <td>1</td>\n",
       "    </tr>\n",
       "    <tr>\n",
       "      <th>997</th>\n",
       "      <td>169123</td>\n",
       "      <td>32</td>\n",
       "      <td>1</td>\n",
       "    </tr>\n",
       "    <tr>\n",
       "      <th>998</th>\n",
       "      <td>127183</td>\n",
       "      <td>34</td>\n",
       "      <td>1</td>\n",
       "    </tr>\n",
       "  </tbody>\n",
       "</table>\n",
       "<p>999 rows × 3 columns</p>\n",
       "</div>"
      ],
      "text/plain": [
       "         Id  Age  Hair Loss\n",
       "0    133992   19          0\n",
       "1    148393   43          0\n",
       "2    155074   26          0\n",
       "3    118261   46          0\n",
       "4    111915   30          1\n",
       "..      ...  ...        ...\n",
       "994  184367   33          1\n",
       "995  164777   47          0\n",
       "996  143273   20          1\n",
       "997  169123   32          1\n",
       "998  127183   34          1\n",
       "\n",
       "[999 rows x 3 columns]"
      ]
     },
     "execution_count": 24,
     "metadata": {},
     "output_type": "execute_result"
    }
   ],
   "source": [
    "my_numeric_df"
   ]
  },
  {
   "cell_type": "code",
   "execution_count": 25,
   "id": "f15b236a-3d18-441b-af1a-a32e11396f0b",
   "metadata": {},
   "outputs": [
    {
     "data": {
      "text/html": [
       "<div>\n",
       "<style scoped>\n",
       "    .dataframe tbody tr th:only-of-type {\n",
       "        vertical-align: middle;\n",
       "    }\n",
       "\n",
       "    .dataframe tbody tr th {\n",
       "        vertical-align: top;\n",
       "    }\n",
       "\n",
       "    .dataframe thead th {\n",
       "        text-align: right;\n",
       "    }\n",
       "</style>\n",
       "<table border=\"1\" class=\"dataframe\">\n",
       "  <thead>\n",
       "    <tr style=\"text-align: right;\">\n",
       "      <th></th>\n",
       "      <th>Genetics_Yes</th>\n",
       "      <th>Hormonal Changes_Yes</th>\n",
       "      <th>Medical Conditions_Androgenetic Alopecia</th>\n",
       "      <th>Medical Conditions_Dermatitis</th>\n",
       "      <th>Medical Conditions_Dermatosis</th>\n",
       "      <th>Medical Conditions_Eczema</th>\n",
       "      <th>Medical Conditions_No Data</th>\n",
       "      <th>Medical Conditions_Psoriasis</th>\n",
       "      <th>Medical Conditions_Ringworm</th>\n",
       "      <th>Medical Conditions_Scalp Infection</th>\n",
       "      <th>...</th>\n",
       "      <th>Nutritional Deficiencies _Vitamin A Deficiency</th>\n",
       "      <th>Nutritional Deficiencies _Vitamin D Deficiency</th>\n",
       "      <th>Nutritional Deficiencies _Vitamin E deficiency</th>\n",
       "      <th>Nutritional Deficiencies _Zinc Deficiency</th>\n",
       "      <th>Stress_Low</th>\n",
       "      <th>Stress_Moderate</th>\n",
       "      <th>Poor Hair Care Habits _Yes</th>\n",
       "      <th>Environmental Factors_Yes</th>\n",
       "      <th>Smoking_Yes</th>\n",
       "      <th>Weight Loss _Yes</th>\n",
       "    </tr>\n",
       "  </thead>\n",
       "  <tbody>\n",
       "    <tr>\n",
       "      <th>0</th>\n",
       "      <td>1</td>\n",
       "      <td>0</td>\n",
       "      <td>0</td>\n",
       "      <td>0</td>\n",
       "      <td>0</td>\n",
       "      <td>0</td>\n",
       "      <td>1</td>\n",
       "      <td>0</td>\n",
       "      <td>0</td>\n",
       "      <td>0</td>\n",
       "      <td>...</td>\n",
       "      <td>0</td>\n",
       "      <td>0</td>\n",
       "      <td>0</td>\n",
       "      <td>0</td>\n",
       "      <td>0</td>\n",
       "      <td>1</td>\n",
       "      <td>1</td>\n",
       "      <td>1</td>\n",
       "      <td>0</td>\n",
       "      <td>0</td>\n",
       "    </tr>\n",
       "    <tr>\n",
       "      <th>1</th>\n",
       "      <td>0</td>\n",
       "      <td>0</td>\n",
       "      <td>0</td>\n",
       "      <td>0</td>\n",
       "      <td>0</td>\n",
       "      <td>1</td>\n",
       "      <td>0</td>\n",
       "      <td>0</td>\n",
       "      <td>0</td>\n",
       "      <td>0</td>\n",
       "      <td>...</td>\n",
       "      <td>0</td>\n",
       "      <td>0</td>\n",
       "      <td>0</td>\n",
       "      <td>0</td>\n",
       "      <td>0</td>\n",
       "      <td>0</td>\n",
       "      <td>1</td>\n",
       "      <td>1</td>\n",
       "      <td>0</td>\n",
       "      <td>0</td>\n",
       "    </tr>\n",
       "    <tr>\n",
       "      <th>2</th>\n",
       "      <td>0</td>\n",
       "      <td>0</td>\n",
       "      <td>0</td>\n",
       "      <td>0</td>\n",
       "      <td>1</td>\n",
       "      <td>0</td>\n",
       "      <td>0</td>\n",
       "      <td>0</td>\n",
       "      <td>0</td>\n",
       "      <td>0</td>\n",
       "      <td>...</td>\n",
       "      <td>0</td>\n",
       "      <td>0</td>\n",
       "      <td>0</td>\n",
       "      <td>0</td>\n",
       "      <td>0</td>\n",
       "      <td>1</td>\n",
       "      <td>1</td>\n",
       "      <td>1</td>\n",
       "      <td>0</td>\n",
       "      <td>1</td>\n",
       "    </tr>\n",
       "    <tr>\n",
       "      <th>3</th>\n",
       "      <td>1</td>\n",
       "      <td>1</td>\n",
       "      <td>0</td>\n",
       "      <td>0</td>\n",
       "      <td>0</td>\n",
       "      <td>0</td>\n",
       "      <td>0</td>\n",
       "      <td>0</td>\n",
       "      <td>1</td>\n",
       "      <td>0</td>\n",
       "      <td>...</td>\n",
       "      <td>0</td>\n",
       "      <td>0</td>\n",
       "      <td>0</td>\n",
       "      <td>0</td>\n",
       "      <td>0</td>\n",
       "      <td>1</td>\n",
       "      <td>1</td>\n",
       "      <td>1</td>\n",
       "      <td>0</td>\n",
       "      <td>0</td>\n",
       "    </tr>\n",
       "    <tr>\n",
       "      <th>4</th>\n",
       "      <td>0</td>\n",
       "      <td>0</td>\n",
       "      <td>0</td>\n",
       "      <td>0</td>\n",
       "      <td>0</td>\n",
       "      <td>0</td>\n",
       "      <td>0</td>\n",
       "      <td>1</td>\n",
       "      <td>0</td>\n",
       "      <td>0</td>\n",
       "      <td>...</td>\n",
       "      <td>0</td>\n",
       "      <td>0</td>\n",
       "      <td>0</td>\n",
       "      <td>0</td>\n",
       "      <td>0</td>\n",
       "      <td>1</td>\n",
       "      <td>0</td>\n",
       "      <td>1</td>\n",
       "      <td>1</td>\n",
       "      <td>0</td>\n",
       "    </tr>\n",
       "  </tbody>\n",
       "</table>\n",
       "<p>5 rows × 38 columns</p>\n",
       "</div>"
      ],
      "text/plain": [
       "   Genetics_Yes  Hormonal Changes_Yes  \\\n",
       "0             1                     0   \n",
       "1             0                     0   \n",
       "2             0                     0   \n",
       "3             1                     1   \n",
       "4             0                     0   \n",
       "\n",
       "   Medical Conditions_Androgenetic Alopecia  Medical Conditions_Dermatitis  \\\n",
       "0                                         0                              0   \n",
       "1                                         0                              0   \n",
       "2                                         0                              0   \n",
       "3                                         0                              0   \n",
       "4                                         0                              0   \n",
       "\n",
       "   Medical Conditions_Dermatosis  Medical Conditions_Eczema  \\\n",
       "0                              0                          0   \n",
       "1                              0                          1   \n",
       "2                              1                          0   \n",
       "3                              0                          0   \n",
       "4                              0                          0   \n",
       "\n",
       "   Medical Conditions_No Data  Medical Conditions_Psoriasis  \\\n",
       "0                           1                             0   \n",
       "1                           0                             0   \n",
       "2                           0                             0   \n",
       "3                           0                             0   \n",
       "4                           0                             1   \n",
       "\n",
       "   Medical Conditions_Ringworm  Medical Conditions_Scalp Infection  ...  \\\n",
       "0                            0                                   0  ...   \n",
       "1                            0                                   0  ...   \n",
       "2                            0                                   0  ...   \n",
       "3                            1                                   0  ...   \n",
       "4                            0                                   0  ...   \n",
       "\n",
       "   Nutritional Deficiencies _Vitamin A Deficiency  \\\n",
       "0                                               0   \n",
       "1                                               0   \n",
       "2                                               0   \n",
       "3                                               0   \n",
       "4                                               0   \n",
       "\n",
       "   Nutritional Deficiencies _Vitamin D Deficiency  \\\n",
       "0                                               0   \n",
       "1                                               0   \n",
       "2                                               0   \n",
       "3                                               0   \n",
       "4                                               0   \n",
       "\n",
       "   Nutritional Deficiencies _Vitamin E deficiency  \\\n",
       "0                                               0   \n",
       "1                                               0   \n",
       "2                                               0   \n",
       "3                                               0   \n",
       "4                                               0   \n",
       "\n",
       "   Nutritional Deficiencies _Zinc Deficiency  Stress_Low  Stress_Moderate  \\\n",
       "0                                          0           0                1   \n",
       "1                                          0           0                0   \n",
       "2                                          0           0                1   \n",
       "3                                          0           0                1   \n",
       "4                                          0           0                1   \n",
       "\n",
       "   Poor Hair Care Habits _Yes  Environmental Factors_Yes  Smoking_Yes  \\\n",
       "0                           1                          1            0   \n",
       "1                           1                          1            0   \n",
       "2                           1                          1            0   \n",
       "3                           1                          1            0   \n",
       "4                           0                          1            1   \n",
       "\n",
       "   Weight Loss _Yes  \n",
       "0                 0  \n",
       "1                 0  \n",
       "2                 1  \n",
       "3                 0  \n",
       "4                 0  \n",
       "\n",
       "[5 rows x 38 columns]"
      ]
     },
     "execution_count": 25,
     "metadata": {},
     "output_type": "execute_result"
    }
   ],
   "source": [
    "#getting dummy variables from the categorical column\n",
    "df_objects_dummies = pd.get_dummies(my_object_df, drop_first=True)\n",
    "df_objects_dummies.head()"
   ]
  },
  {
   "cell_type": "code",
   "execution_count": 26,
   "id": "75934a0a",
   "metadata": {},
   "outputs": [],
   "source": [
    "#b/c we are predicting a category with label'd data"
   ]
  },
  {
   "cell_type": "code",
   "execution_count": 27,
   "id": "17dfc084-a346-4470-8ad9-8ed6e59fb2e2",
   "metadata": {},
   "outputs": [
    {
     "data": {
      "text/html": [
       "<div>\n",
       "<style scoped>\n",
       "    .dataframe tbody tr th:only-of-type {\n",
       "        vertical-align: middle;\n",
       "    }\n",
       "\n",
       "    .dataframe tbody tr th {\n",
       "        vertical-align: top;\n",
       "    }\n",
       "\n",
       "    .dataframe thead th {\n",
       "        text-align: right;\n",
       "    }\n",
       "</style>\n",
       "<table border=\"1\" class=\"dataframe\">\n",
       "  <thead>\n",
       "    <tr style=\"text-align: right;\">\n",
       "      <th></th>\n",
       "      <th>Id</th>\n",
       "      <th>Age</th>\n",
       "      <th>Hair Loss</th>\n",
       "      <th>Genetics_Yes</th>\n",
       "      <th>Hormonal Changes_Yes</th>\n",
       "      <th>Medical Conditions_Androgenetic Alopecia</th>\n",
       "      <th>Medical Conditions_Dermatitis</th>\n",
       "      <th>Medical Conditions_Dermatosis</th>\n",
       "      <th>Medical Conditions_Eczema</th>\n",
       "      <th>Medical Conditions_No Data</th>\n",
       "      <th>...</th>\n",
       "      <th>Nutritional Deficiencies _Vitamin A Deficiency</th>\n",
       "      <th>Nutritional Deficiencies _Vitamin D Deficiency</th>\n",
       "      <th>Nutritional Deficiencies _Vitamin E deficiency</th>\n",
       "      <th>Nutritional Deficiencies _Zinc Deficiency</th>\n",
       "      <th>Stress_Low</th>\n",
       "      <th>Stress_Moderate</th>\n",
       "      <th>Poor Hair Care Habits _Yes</th>\n",
       "      <th>Environmental Factors_Yes</th>\n",
       "      <th>Smoking_Yes</th>\n",
       "      <th>Weight Loss _Yes</th>\n",
       "    </tr>\n",
       "  </thead>\n",
       "  <tbody>\n",
       "    <tr>\n",
       "      <th>0</th>\n",
       "      <td>133992</td>\n",
       "      <td>19</td>\n",
       "      <td>0</td>\n",
       "      <td>1</td>\n",
       "      <td>0</td>\n",
       "      <td>0</td>\n",
       "      <td>0</td>\n",
       "      <td>0</td>\n",
       "      <td>0</td>\n",
       "      <td>1</td>\n",
       "      <td>...</td>\n",
       "      <td>0</td>\n",
       "      <td>0</td>\n",
       "      <td>0</td>\n",
       "      <td>0</td>\n",
       "      <td>0</td>\n",
       "      <td>1</td>\n",
       "      <td>1</td>\n",
       "      <td>1</td>\n",
       "      <td>0</td>\n",
       "      <td>0</td>\n",
       "    </tr>\n",
       "    <tr>\n",
       "      <th>1</th>\n",
       "      <td>148393</td>\n",
       "      <td>43</td>\n",
       "      <td>0</td>\n",
       "      <td>0</td>\n",
       "      <td>0</td>\n",
       "      <td>0</td>\n",
       "      <td>0</td>\n",
       "      <td>0</td>\n",
       "      <td>1</td>\n",
       "      <td>0</td>\n",
       "      <td>...</td>\n",
       "      <td>0</td>\n",
       "      <td>0</td>\n",
       "      <td>0</td>\n",
       "      <td>0</td>\n",
       "      <td>0</td>\n",
       "      <td>0</td>\n",
       "      <td>1</td>\n",
       "      <td>1</td>\n",
       "      <td>0</td>\n",
       "      <td>0</td>\n",
       "    </tr>\n",
       "    <tr>\n",
       "      <th>2</th>\n",
       "      <td>155074</td>\n",
       "      <td>26</td>\n",
       "      <td>0</td>\n",
       "      <td>0</td>\n",
       "      <td>0</td>\n",
       "      <td>0</td>\n",
       "      <td>0</td>\n",
       "      <td>1</td>\n",
       "      <td>0</td>\n",
       "      <td>0</td>\n",
       "      <td>...</td>\n",
       "      <td>0</td>\n",
       "      <td>0</td>\n",
       "      <td>0</td>\n",
       "      <td>0</td>\n",
       "      <td>0</td>\n",
       "      <td>1</td>\n",
       "      <td>1</td>\n",
       "      <td>1</td>\n",
       "      <td>0</td>\n",
       "      <td>1</td>\n",
       "    </tr>\n",
       "    <tr>\n",
       "      <th>3</th>\n",
       "      <td>118261</td>\n",
       "      <td>46</td>\n",
       "      <td>0</td>\n",
       "      <td>1</td>\n",
       "      <td>1</td>\n",
       "      <td>0</td>\n",
       "      <td>0</td>\n",
       "      <td>0</td>\n",
       "      <td>0</td>\n",
       "      <td>0</td>\n",
       "      <td>...</td>\n",
       "      <td>0</td>\n",
       "      <td>0</td>\n",
       "      <td>0</td>\n",
       "      <td>0</td>\n",
       "      <td>0</td>\n",
       "      <td>1</td>\n",
       "      <td>1</td>\n",
       "      <td>1</td>\n",
       "      <td>0</td>\n",
       "      <td>0</td>\n",
       "    </tr>\n",
       "    <tr>\n",
       "      <th>4</th>\n",
       "      <td>111915</td>\n",
       "      <td>30</td>\n",
       "      <td>1</td>\n",
       "      <td>0</td>\n",
       "      <td>0</td>\n",
       "      <td>0</td>\n",
       "      <td>0</td>\n",
       "      <td>0</td>\n",
       "      <td>0</td>\n",
       "      <td>0</td>\n",
       "      <td>...</td>\n",
       "      <td>0</td>\n",
       "      <td>0</td>\n",
       "      <td>0</td>\n",
       "      <td>0</td>\n",
       "      <td>0</td>\n",
       "      <td>1</td>\n",
       "      <td>0</td>\n",
       "      <td>1</td>\n",
       "      <td>1</td>\n",
       "      <td>0</td>\n",
       "    </tr>\n",
       "    <tr>\n",
       "      <th>...</th>\n",
       "      <td>...</td>\n",
       "      <td>...</td>\n",
       "      <td>...</td>\n",
       "      <td>...</td>\n",
       "      <td>...</td>\n",
       "      <td>...</td>\n",
       "      <td>...</td>\n",
       "      <td>...</td>\n",
       "      <td>...</td>\n",
       "      <td>...</td>\n",
       "      <td>...</td>\n",
       "      <td>...</td>\n",
       "      <td>...</td>\n",
       "      <td>...</td>\n",
       "      <td>...</td>\n",
       "      <td>...</td>\n",
       "      <td>...</td>\n",
       "      <td>...</td>\n",
       "      <td>...</td>\n",
       "      <td>...</td>\n",
       "      <td>...</td>\n",
       "    </tr>\n",
       "    <tr>\n",
       "      <th>994</th>\n",
       "      <td>184367</td>\n",
       "      <td>33</td>\n",
       "      <td>1</td>\n",
       "      <td>1</td>\n",
       "      <td>0</td>\n",
       "      <td>0</td>\n",
       "      <td>0</td>\n",
       "      <td>0</td>\n",
       "      <td>0</td>\n",
       "      <td>0</td>\n",
       "      <td>...</td>\n",
       "      <td>1</td>\n",
       "      <td>0</td>\n",
       "      <td>0</td>\n",
       "      <td>0</td>\n",
       "      <td>1</td>\n",
       "      <td>0</td>\n",
       "      <td>1</td>\n",
       "      <td>1</td>\n",
       "      <td>1</td>\n",
       "      <td>1</td>\n",
       "    </tr>\n",
       "    <tr>\n",
       "      <th>995</th>\n",
       "      <td>164777</td>\n",
       "      <td>47</td>\n",
       "      <td>0</td>\n",
       "      <td>1</td>\n",
       "      <td>1</td>\n",
       "      <td>0</td>\n",
       "      <td>0</td>\n",
       "      <td>0</td>\n",
       "      <td>0</td>\n",
       "      <td>1</td>\n",
       "      <td>...</td>\n",
       "      <td>0</td>\n",
       "      <td>0</td>\n",
       "      <td>0</td>\n",
       "      <td>0</td>\n",
       "      <td>1</td>\n",
       "      <td>0</td>\n",
       "      <td>0</td>\n",
       "      <td>0</td>\n",
       "      <td>0</td>\n",
       "      <td>1</td>\n",
       "    </tr>\n",
       "    <tr>\n",
       "      <th>996</th>\n",
       "      <td>143273</td>\n",
       "      <td>20</td>\n",
       "      <td>1</td>\n",
       "      <td>0</td>\n",
       "      <td>1</td>\n",
       "      <td>1</td>\n",
       "      <td>0</td>\n",
       "      <td>0</td>\n",
       "      <td>0</td>\n",
       "      <td>0</td>\n",
       "      <td>...</td>\n",
       "      <td>0</td>\n",
       "      <td>0</td>\n",
       "      <td>0</td>\n",
       "      <td>0</td>\n",
       "      <td>0</td>\n",
       "      <td>1</td>\n",
       "      <td>1</td>\n",
       "      <td>0</td>\n",
       "      <td>1</td>\n",
       "      <td>1</td>\n",
       "    </tr>\n",
       "    <tr>\n",
       "      <th>997</th>\n",
       "      <td>169123</td>\n",
       "      <td>32</td>\n",
       "      <td>1</td>\n",
       "      <td>0</td>\n",
       "      <td>1</td>\n",
       "      <td>0</td>\n",
       "      <td>1</td>\n",
       "      <td>0</td>\n",
       "      <td>0</td>\n",
       "      <td>0</td>\n",
       "      <td>...</td>\n",
       "      <td>0</td>\n",
       "      <td>0</td>\n",
       "      <td>0</td>\n",
       "      <td>0</td>\n",
       "      <td>0</td>\n",
       "      <td>1</td>\n",
       "      <td>1</td>\n",
       "      <td>1</td>\n",
       "      <td>1</td>\n",
       "      <td>1</td>\n",
       "    </tr>\n",
       "    <tr>\n",
       "      <th>998</th>\n",
       "      <td>127183</td>\n",
       "      <td>34</td>\n",
       "      <td>1</td>\n",
       "      <td>1</td>\n",
       "      <td>1</td>\n",
       "      <td>0</td>\n",
       "      <td>0</td>\n",
       "      <td>0</td>\n",
       "      <td>0</td>\n",
       "      <td>0</td>\n",
       "      <td>...</td>\n",
       "      <td>0</td>\n",
       "      <td>1</td>\n",
       "      <td>0</td>\n",
       "      <td>0</td>\n",
       "      <td>1</td>\n",
       "      <td>0</td>\n",
       "      <td>0</td>\n",
       "      <td>1</td>\n",
       "      <td>0</td>\n",
       "      <td>0</td>\n",
       "    </tr>\n",
       "  </tbody>\n",
       "</table>\n",
       "<p>999 rows × 41 columns</p>\n",
       "</div>"
      ],
      "text/plain": [
       "         Id  Age  Hair Loss  Genetics_Yes  Hormonal Changes_Yes  \\\n",
       "0    133992   19          0             1                     0   \n",
       "1    148393   43          0             0                     0   \n",
       "2    155074   26          0             0                     0   \n",
       "3    118261   46          0             1                     1   \n",
       "4    111915   30          1             0                     0   \n",
       "..      ...  ...        ...           ...                   ...   \n",
       "994  184367   33          1             1                     0   \n",
       "995  164777   47          0             1                     1   \n",
       "996  143273   20          1             0                     1   \n",
       "997  169123   32          1             0                     1   \n",
       "998  127183   34          1             1                     1   \n",
       "\n",
       "     Medical Conditions_Androgenetic Alopecia  Medical Conditions_Dermatitis  \\\n",
       "0                                           0                              0   \n",
       "1                                           0                              0   \n",
       "2                                           0                              0   \n",
       "3                                           0                              0   \n",
       "4                                           0                              0   \n",
       "..                                        ...                            ...   \n",
       "994                                         0                              0   \n",
       "995                                         0                              0   \n",
       "996                                         1                              0   \n",
       "997                                         0                              1   \n",
       "998                                         0                              0   \n",
       "\n",
       "     Medical Conditions_Dermatosis  Medical Conditions_Eczema  \\\n",
       "0                                0                          0   \n",
       "1                                0                          1   \n",
       "2                                1                          0   \n",
       "3                                0                          0   \n",
       "4                                0                          0   \n",
       "..                             ...                        ...   \n",
       "994                              0                          0   \n",
       "995                              0                          0   \n",
       "996                              0                          0   \n",
       "997                              0                          0   \n",
       "998                              0                          0   \n",
       "\n",
       "     Medical Conditions_No Data  ...  \\\n",
       "0                             1  ...   \n",
       "1                             0  ...   \n",
       "2                             0  ...   \n",
       "3                             0  ...   \n",
       "4                             0  ...   \n",
       "..                          ...  ...   \n",
       "994                           0  ...   \n",
       "995                           1  ...   \n",
       "996                           0  ...   \n",
       "997                           0  ...   \n",
       "998                           0  ...   \n",
       "\n",
       "     Nutritional Deficiencies _Vitamin A Deficiency  \\\n",
       "0                                                 0   \n",
       "1                                                 0   \n",
       "2                                                 0   \n",
       "3                                                 0   \n",
       "4                                                 0   \n",
       "..                                              ...   \n",
       "994                                               1   \n",
       "995                                               0   \n",
       "996                                               0   \n",
       "997                                               0   \n",
       "998                                               0   \n",
       "\n",
       "     Nutritional Deficiencies _Vitamin D Deficiency  \\\n",
       "0                                                 0   \n",
       "1                                                 0   \n",
       "2                                                 0   \n",
       "3                                                 0   \n",
       "4                                                 0   \n",
       "..                                              ...   \n",
       "994                                               0   \n",
       "995                                               0   \n",
       "996                                               0   \n",
       "997                                               0   \n",
       "998                                               1   \n",
       "\n",
       "     Nutritional Deficiencies _Vitamin E deficiency  \\\n",
       "0                                                 0   \n",
       "1                                                 0   \n",
       "2                                                 0   \n",
       "3                                                 0   \n",
       "4                                                 0   \n",
       "..                                              ...   \n",
       "994                                               0   \n",
       "995                                               0   \n",
       "996                                               0   \n",
       "997                                               0   \n",
       "998                                               0   \n",
       "\n",
       "     Nutritional Deficiencies _Zinc Deficiency  Stress_Low  Stress_Moderate  \\\n",
       "0                                            0           0                1   \n",
       "1                                            0           0                0   \n",
       "2                                            0           0                1   \n",
       "3                                            0           0                1   \n",
       "4                                            0           0                1   \n",
       "..                                         ...         ...              ...   \n",
       "994                                          0           1                0   \n",
       "995                                          0           1                0   \n",
       "996                                          0           0                1   \n",
       "997                                          0           0                1   \n",
       "998                                          0           1                0   \n",
       "\n",
       "     Poor Hair Care Habits _Yes  Environmental Factors_Yes  Smoking_Yes  \\\n",
       "0                             1                          1            0   \n",
       "1                             1                          1            0   \n",
       "2                             1                          1            0   \n",
       "3                             1                          1            0   \n",
       "4                             0                          1            1   \n",
       "..                          ...                        ...          ...   \n",
       "994                           1                          1            1   \n",
       "995                           0                          0            0   \n",
       "996                           1                          0            1   \n",
       "997                           1                          1            1   \n",
       "998                           0                          1            0   \n",
       "\n",
       "     Weight Loss _Yes  \n",
       "0                   0  \n",
       "1                   0  \n",
       "2                   1  \n",
       "3                   0  \n",
       "4                   0  \n",
       "..                ...  \n",
       "994                 1  \n",
       "995                 1  \n",
       "996                 1  \n",
       "997                 1  \n",
       "998                 0  \n",
       "\n",
       "[999 rows x 41 columns]"
      ]
     },
     "execution_count": 27,
     "metadata": {},
     "output_type": "execute_result"
    }
   ],
   "source": [
    "final_df = pd.concat([my_numeric_df,df_objects_dummies], axis=1)\n",
    "final_df"
   ]
  },
  {
   "cell_type": "code",
   "execution_count": 28,
   "id": "8ddab1b5",
   "metadata": {},
   "outputs": [
    {
     "data": {
      "text/html": [
       "<div>\n",
       "<style scoped>\n",
       "    .dataframe tbody tr th:only-of-type {\n",
       "        vertical-align: middle;\n",
       "    }\n",
       "\n",
       "    .dataframe tbody tr th {\n",
       "        vertical-align: top;\n",
       "    }\n",
       "\n",
       "    .dataframe thead th {\n",
       "        text-align: right;\n",
       "    }\n",
       "</style>\n",
       "<table border=\"1\" class=\"dataframe\">\n",
       "  <thead>\n",
       "    <tr style=\"text-align: right;\">\n",
       "      <th></th>\n",
       "      <th>Age</th>\n",
       "      <th>Hair Loss</th>\n",
       "      <th>Genetics_Yes</th>\n",
       "      <th>Hormonal Changes_Yes</th>\n",
       "      <th>Medical Conditions_Androgenetic Alopecia</th>\n",
       "      <th>Medical Conditions_Dermatitis</th>\n",
       "      <th>Medical Conditions_Dermatosis</th>\n",
       "      <th>Medical Conditions_Eczema</th>\n",
       "      <th>Medical Conditions_No Data</th>\n",
       "      <th>Medical Conditions_Psoriasis</th>\n",
       "      <th>...</th>\n",
       "      <th>Nutritional Deficiencies _Vitamin A Deficiency</th>\n",
       "      <th>Nutritional Deficiencies _Vitamin D Deficiency</th>\n",
       "      <th>Nutritional Deficiencies _Vitamin E deficiency</th>\n",
       "      <th>Nutritional Deficiencies _Zinc Deficiency</th>\n",
       "      <th>Stress_Low</th>\n",
       "      <th>Stress_Moderate</th>\n",
       "      <th>Poor Hair Care Habits _Yes</th>\n",
       "      <th>Environmental Factors_Yes</th>\n",
       "      <th>Smoking_Yes</th>\n",
       "      <th>Weight Loss _Yes</th>\n",
       "    </tr>\n",
       "  </thead>\n",
       "  <tbody>\n",
       "    <tr>\n",
       "      <th>0</th>\n",
       "      <td>19</td>\n",
       "      <td>0</td>\n",
       "      <td>1</td>\n",
       "      <td>0</td>\n",
       "      <td>0</td>\n",
       "      <td>0</td>\n",
       "      <td>0</td>\n",
       "      <td>0</td>\n",
       "      <td>1</td>\n",
       "      <td>0</td>\n",
       "      <td>...</td>\n",
       "      <td>0</td>\n",
       "      <td>0</td>\n",
       "      <td>0</td>\n",
       "      <td>0</td>\n",
       "      <td>0</td>\n",
       "      <td>1</td>\n",
       "      <td>1</td>\n",
       "      <td>1</td>\n",
       "      <td>0</td>\n",
       "      <td>0</td>\n",
       "    </tr>\n",
       "    <tr>\n",
       "      <th>1</th>\n",
       "      <td>43</td>\n",
       "      <td>0</td>\n",
       "      <td>0</td>\n",
       "      <td>0</td>\n",
       "      <td>0</td>\n",
       "      <td>0</td>\n",
       "      <td>0</td>\n",
       "      <td>1</td>\n",
       "      <td>0</td>\n",
       "      <td>0</td>\n",
       "      <td>...</td>\n",
       "      <td>0</td>\n",
       "      <td>0</td>\n",
       "      <td>0</td>\n",
       "      <td>0</td>\n",
       "      <td>0</td>\n",
       "      <td>0</td>\n",
       "      <td>1</td>\n",
       "      <td>1</td>\n",
       "      <td>0</td>\n",
       "      <td>0</td>\n",
       "    </tr>\n",
       "    <tr>\n",
       "      <th>2</th>\n",
       "      <td>26</td>\n",
       "      <td>0</td>\n",
       "      <td>0</td>\n",
       "      <td>0</td>\n",
       "      <td>0</td>\n",
       "      <td>0</td>\n",
       "      <td>1</td>\n",
       "      <td>0</td>\n",
       "      <td>0</td>\n",
       "      <td>0</td>\n",
       "      <td>...</td>\n",
       "      <td>0</td>\n",
       "      <td>0</td>\n",
       "      <td>0</td>\n",
       "      <td>0</td>\n",
       "      <td>0</td>\n",
       "      <td>1</td>\n",
       "      <td>1</td>\n",
       "      <td>1</td>\n",
       "      <td>0</td>\n",
       "      <td>1</td>\n",
       "    </tr>\n",
       "    <tr>\n",
       "      <th>3</th>\n",
       "      <td>46</td>\n",
       "      <td>0</td>\n",
       "      <td>1</td>\n",
       "      <td>1</td>\n",
       "      <td>0</td>\n",
       "      <td>0</td>\n",
       "      <td>0</td>\n",
       "      <td>0</td>\n",
       "      <td>0</td>\n",
       "      <td>0</td>\n",
       "      <td>...</td>\n",
       "      <td>0</td>\n",
       "      <td>0</td>\n",
       "      <td>0</td>\n",
       "      <td>0</td>\n",
       "      <td>0</td>\n",
       "      <td>1</td>\n",
       "      <td>1</td>\n",
       "      <td>1</td>\n",
       "      <td>0</td>\n",
       "      <td>0</td>\n",
       "    </tr>\n",
       "    <tr>\n",
       "      <th>4</th>\n",
       "      <td>30</td>\n",
       "      <td>1</td>\n",
       "      <td>0</td>\n",
       "      <td>0</td>\n",
       "      <td>0</td>\n",
       "      <td>0</td>\n",
       "      <td>0</td>\n",
       "      <td>0</td>\n",
       "      <td>0</td>\n",
       "      <td>1</td>\n",
       "      <td>...</td>\n",
       "      <td>0</td>\n",
       "      <td>0</td>\n",
       "      <td>0</td>\n",
       "      <td>0</td>\n",
       "      <td>0</td>\n",
       "      <td>1</td>\n",
       "      <td>0</td>\n",
       "      <td>1</td>\n",
       "      <td>1</td>\n",
       "      <td>0</td>\n",
       "    </tr>\n",
       "    <tr>\n",
       "      <th>...</th>\n",
       "      <td>...</td>\n",
       "      <td>...</td>\n",
       "      <td>...</td>\n",
       "      <td>...</td>\n",
       "      <td>...</td>\n",
       "      <td>...</td>\n",
       "      <td>...</td>\n",
       "      <td>...</td>\n",
       "      <td>...</td>\n",
       "      <td>...</td>\n",
       "      <td>...</td>\n",
       "      <td>...</td>\n",
       "      <td>...</td>\n",
       "      <td>...</td>\n",
       "      <td>...</td>\n",
       "      <td>...</td>\n",
       "      <td>...</td>\n",
       "      <td>...</td>\n",
       "      <td>...</td>\n",
       "      <td>...</td>\n",
       "      <td>...</td>\n",
       "    </tr>\n",
       "    <tr>\n",
       "      <th>994</th>\n",
       "      <td>33</td>\n",
       "      <td>1</td>\n",
       "      <td>1</td>\n",
       "      <td>0</td>\n",
       "      <td>0</td>\n",
       "      <td>0</td>\n",
       "      <td>0</td>\n",
       "      <td>0</td>\n",
       "      <td>0</td>\n",
       "      <td>0</td>\n",
       "      <td>...</td>\n",
       "      <td>1</td>\n",
       "      <td>0</td>\n",
       "      <td>0</td>\n",
       "      <td>0</td>\n",
       "      <td>1</td>\n",
       "      <td>0</td>\n",
       "      <td>1</td>\n",
       "      <td>1</td>\n",
       "      <td>1</td>\n",
       "      <td>1</td>\n",
       "    </tr>\n",
       "    <tr>\n",
       "      <th>995</th>\n",
       "      <td>47</td>\n",
       "      <td>0</td>\n",
       "      <td>1</td>\n",
       "      <td>1</td>\n",
       "      <td>0</td>\n",
       "      <td>0</td>\n",
       "      <td>0</td>\n",
       "      <td>0</td>\n",
       "      <td>1</td>\n",
       "      <td>0</td>\n",
       "      <td>...</td>\n",
       "      <td>0</td>\n",
       "      <td>0</td>\n",
       "      <td>0</td>\n",
       "      <td>0</td>\n",
       "      <td>1</td>\n",
       "      <td>0</td>\n",
       "      <td>0</td>\n",
       "      <td>0</td>\n",
       "      <td>0</td>\n",
       "      <td>1</td>\n",
       "    </tr>\n",
       "    <tr>\n",
       "      <th>996</th>\n",
       "      <td>20</td>\n",
       "      <td>1</td>\n",
       "      <td>0</td>\n",
       "      <td>1</td>\n",
       "      <td>1</td>\n",
       "      <td>0</td>\n",
       "      <td>0</td>\n",
       "      <td>0</td>\n",
       "      <td>0</td>\n",
       "      <td>0</td>\n",
       "      <td>...</td>\n",
       "      <td>0</td>\n",
       "      <td>0</td>\n",
       "      <td>0</td>\n",
       "      <td>0</td>\n",
       "      <td>0</td>\n",
       "      <td>1</td>\n",
       "      <td>1</td>\n",
       "      <td>0</td>\n",
       "      <td>1</td>\n",
       "      <td>1</td>\n",
       "    </tr>\n",
       "    <tr>\n",
       "      <th>997</th>\n",
       "      <td>32</td>\n",
       "      <td>1</td>\n",
       "      <td>0</td>\n",
       "      <td>1</td>\n",
       "      <td>0</td>\n",
       "      <td>1</td>\n",
       "      <td>0</td>\n",
       "      <td>0</td>\n",
       "      <td>0</td>\n",
       "      <td>0</td>\n",
       "      <td>...</td>\n",
       "      <td>0</td>\n",
       "      <td>0</td>\n",
       "      <td>0</td>\n",
       "      <td>0</td>\n",
       "      <td>0</td>\n",
       "      <td>1</td>\n",
       "      <td>1</td>\n",
       "      <td>1</td>\n",
       "      <td>1</td>\n",
       "      <td>1</td>\n",
       "    </tr>\n",
       "    <tr>\n",
       "      <th>998</th>\n",
       "      <td>34</td>\n",
       "      <td>1</td>\n",
       "      <td>1</td>\n",
       "      <td>1</td>\n",
       "      <td>0</td>\n",
       "      <td>0</td>\n",
       "      <td>0</td>\n",
       "      <td>0</td>\n",
       "      <td>0</td>\n",
       "      <td>1</td>\n",
       "      <td>...</td>\n",
       "      <td>0</td>\n",
       "      <td>1</td>\n",
       "      <td>0</td>\n",
       "      <td>0</td>\n",
       "      <td>1</td>\n",
       "      <td>0</td>\n",
       "      <td>0</td>\n",
       "      <td>1</td>\n",
       "      <td>0</td>\n",
       "      <td>0</td>\n",
       "    </tr>\n",
       "  </tbody>\n",
       "</table>\n",
       "<p>999 rows × 40 columns</p>\n",
       "</div>"
      ],
      "text/plain": [
       "     Age  Hair Loss  Genetics_Yes  Hormonal Changes_Yes  \\\n",
       "0     19          0             1                     0   \n",
       "1     43          0             0                     0   \n",
       "2     26          0             0                     0   \n",
       "3     46          0             1                     1   \n",
       "4     30          1             0                     0   \n",
       "..   ...        ...           ...                   ...   \n",
       "994   33          1             1                     0   \n",
       "995   47          0             1                     1   \n",
       "996   20          1             0                     1   \n",
       "997   32          1             0                     1   \n",
       "998   34          1             1                     1   \n",
       "\n",
       "     Medical Conditions_Androgenetic Alopecia  Medical Conditions_Dermatitis  \\\n",
       "0                                           0                              0   \n",
       "1                                           0                              0   \n",
       "2                                           0                              0   \n",
       "3                                           0                              0   \n",
       "4                                           0                              0   \n",
       "..                                        ...                            ...   \n",
       "994                                         0                              0   \n",
       "995                                         0                              0   \n",
       "996                                         1                              0   \n",
       "997                                         0                              1   \n",
       "998                                         0                              0   \n",
       "\n",
       "     Medical Conditions_Dermatosis  Medical Conditions_Eczema  \\\n",
       "0                                0                          0   \n",
       "1                                0                          1   \n",
       "2                                1                          0   \n",
       "3                                0                          0   \n",
       "4                                0                          0   \n",
       "..                             ...                        ...   \n",
       "994                              0                          0   \n",
       "995                              0                          0   \n",
       "996                              0                          0   \n",
       "997                              0                          0   \n",
       "998                              0                          0   \n",
       "\n",
       "     Medical Conditions_No Data  Medical Conditions_Psoriasis  ...  \\\n",
       "0                             1                             0  ...   \n",
       "1                             0                             0  ...   \n",
       "2                             0                             0  ...   \n",
       "3                             0                             0  ...   \n",
       "4                             0                             1  ...   \n",
       "..                          ...                           ...  ...   \n",
       "994                           0                             0  ...   \n",
       "995                           1                             0  ...   \n",
       "996                           0                             0  ...   \n",
       "997                           0                             0  ...   \n",
       "998                           0                             1  ...   \n",
       "\n",
       "     Nutritional Deficiencies _Vitamin A Deficiency  \\\n",
       "0                                                 0   \n",
       "1                                                 0   \n",
       "2                                                 0   \n",
       "3                                                 0   \n",
       "4                                                 0   \n",
       "..                                              ...   \n",
       "994                                               1   \n",
       "995                                               0   \n",
       "996                                               0   \n",
       "997                                               0   \n",
       "998                                               0   \n",
       "\n",
       "     Nutritional Deficiencies _Vitamin D Deficiency  \\\n",
       "0                                                 0   \n",
       "1                                                 0   \n",
       "2                                                 0   \n",
       "3                                                 0   \n",
       "4                                                 0   \n",
       "..                                              ...   \n",
       "994                                               0   \n",
       "995                                               0   \n",
       "996                                               0   \n",
       "997                                               0   \n",
       "998                                               1   \n",
       "\n",
       "     Nutritional Deficiencies _Vitamin E deficiency  \\\n",
       "0                                                 0   \n",
       "1                                                 0   \n",
       "2                                                 0   \n",
       "3                                                 0   \n",
       "4                                                 0   \n",
       "..                                              ...   \n",
       "994                                               0   \n",
       "995                                               0   \n",
       "996                                               0   \n",
       "997                                               0   \n",
       "998                                               0   \n",
       "\n",
       "     Nutritional Deficiencies _Zinc Deficiency  Stress_Low  Stress_Moderate  \\\n",
       "0                                            0           0                1   \n",
       "1                                            0           0                0   \n",
       "2                                            0           0                1   \n",
       "3                                            0           0                1   \n",
       "4                                            0           0                1   \n",
       "..                                         ...         ...              ...   \n",
       "994                                          0           1                0   \n",
       "995                                          0           1                0   \n",
       "996                                          0           0                1   \n",
       "997                                          0           0                1   \n",
       "998                                          0           1                0   \n",
       "\n",
       "     Poor Hair Care Habits _Yes  Environmental Factors_Yes  Smoking_Yes  \\\n",
       "0                             1                          1            0   \n",
       "1                             1                          1            0   \n",
       "2                             1                          1            0   \n",
       "3                             1                          1            0   \n",
       "4                             0                          1            1   \n",
       "..                          ...                        ...          ...   \n",
       "994                           1                          1            1   \n",
       "995                           0                          0            0   \n",
       "996                           1                          0            1   \n",
       "997                           1                          1            1   \n",
       "998                           0                          1            0   \n",
       "\n",
       "     Weight Loss _Yes  \n",
       "0                   0  \n",
       "1                   0  \n",
       "2                   1  \n",
       "3                   0  \n",
       "4                   0  \n",
       "..                ...  \n",
       "994                 1  \n",
       "995                 1  \n",
       "996                 1  \n",
       "997                 1  \n",
       "998                 0  \n",
       "\n",
       "[999 rows x 40 columns]"
      ]
     },
     "execution_count": 28,
     "metadata": {},
     "output_type": "execute_result"
    }
   ],
   "source": [
    "#but first lets train test split and validate our machine \n",
    "final_df = final_df.drop('Id', axis=1)\n",
    "final_df"
   ]
  },
  {
   "cell_type": "code",
   "execution_count": 29,
   "id": "5dab0f74-13c4-427a-b3d7-16596cd991d5",
   "metadata": {},
   "outputs": [],
   "source": [
    "X = final_df.drop('Hair Loss',axis =1)\n",
    "y = final_df['Hair Loss']"
   ]
  },
  {
   "cell_type": "code",
   "execution_count": 30,
   "id": "58a861f1-91af-452b-b178-f100738f81b6",
   "metadata": {},
   "outputs": [
    {
     "data": {
      "text/html": [
       "<div>\n",
       "<style scoped>\n",
       "    .dataframe tbody tr th:only-of-type {\n",
       "        vertical-align: middle;\n",
       "    }\n",
       "\n",
       "    .dataframe tbody tr th {\n",
       "        vertical-align: top;\n",
       "    }\n",
       "\n",
       "    .dataframe thead th {\n",
       "        text-align: right;\n",
       "    }\n",
       "</style>\n",
       "<table border=\"1\" class=\"dataframe\">\n",
       "  <thead>\n",
       "    <tr style=\"text-align: right;\">\n",
       "      <th></th>\n",
       "      <th>Age</th>\n",
       "      <th>Genetics_Yes</th>\n",
       "      <th>Hormonal Changes_Yes</th>\n",
       "      <th>Medical Conditions_Androgenetic Alopecia</th>\n",
       "      <th>Medical Conditions_Dermatitis</th>\n",
       "      <th>Medical Conditions_Dermatosis</th>\n",
       "      <th>Medical Conditions_Eczema</th>\n",
       "      <th>Medical Conditions_No Data</th>\n",
       "      <th>Medical Conditions_Psoriasis</th>\n",
       "      <th>Medical Conditions_Ringworm</th>\n",
       "      <th>...</th>\n",
       "      <th>Nutritional Deficiencies _Vitamin A Deficiency</th>\n",
       "      <th>Nutritional Deficiencies _Vitamin D Deficiency</th>\n",
       "      <th>Nutritional Deficiencies _Vitamin E deficiency</th>\n",
       "      <th>Nutritional Deficiencies _Zinc Deficiency</th>\n",
       "      <th>Stress_Low</th>\n",
       "      <th>Stress_Moderate</th>\n",
       "      <th>Poor Hair Care Habits _Yes</th>\n",
       "      <th>Environmental Factors_Yes</th>\n",
       "      <th>Smoking_Yes</th>\n",
       "      <th>Weight Loss _Yes</th>\n",
       "    </tr>\n",
       "  </thead>\n",
       "  <tbody>\n",
       "    <tr>\n",
       "      <th>0</th>\n",
       "      <td>19</td>\n",
       "      <td>1</td>\n",
       "      <td>0</td>\n",
       "      <td>0</td>\n",
       "      <td>0</td>\n",
       "      <td>0</td>\n",
       "      <td>0</td>\n",
       "      <td>1</td>\n",
       "      <td>0</td>\n",
       "      <td>0</td>\n",
       "      <td>...</td>\n",
       "      <td>0</td>\n",
       "      <td>0</td>\n",
       "      <td>0</td>\n",
       "      <td>0</td>\n",
       "      <td>0</td>\n",
       "      <td>1</td>\n",
       "      <td>1</td>\n",
       "      <td>1</td>\n",
       "      <td>0</td>\n",
       "      <td>0</td>\n",
       "    </tr>\n",
       "    <tr>\n",
       "      <th>1</th>\n",
       "      <td>43</td>\n",
       "      <td>0</td>\n",
       "      <td>0</td>\n",
       "      <td>0</td>\n",
       "      <td>0</td>\n",
       "      <td>0</td>\n",
       "      <td>1</td>\n",
       "      <td>0</td>\n",
       "      <td>0</td>\n",
       "      <td>0</td>\n",
       "      <td>...</td>\n",
       "      <td>0</td>\n",
       "      <td>0</td>\n",
       "      <td>0</td>\n",
       "      <td>0</td>\n",
       "      <td>0</td>\n",
       "      <td>0</td>\n",
       "      <td>1</td>\n",
       "      <td>1</td>\n",
       "      <td>0</td>\n",
       "      <td>0</td>\n",
       "    </tr>\n",
       "    <tr>\n",
       "      <th>2</th>\n",
       "      <td>26</td>\n",
       "      <td>0</td>\n",
       "      <td>0</td>\n",
       "      <td>0</td>\n",
       "      <td>0</td>\n",
       "      <td>1</td>\n",
       "      <td>0</td>\n",
       "      <td>0</td>\n",
       "      <td>0</td>\n",
       "      <td>0</td>\n",
       "      <td>...</td>\n",
       "      <td>0</td>\n",
       "      <td>0</td>\n",
       "      <td>0</td>\n",
       "      <td>0</td>\n",
       "      <td>0</td>\n",
       "      <td>1</td>\n",
       "      <td>1</td>\n",
       "      <td>1</td>\n",
       "      <td>0</td>\n",
       "      <td>1</td>\n",
       "    </tr>\n",
       "    <tr>\n",
       "      <th>3</th>\n",
       "      <td>46</td>\n",
       "      <td>1</td>\n",
       "      <td>1</td>\n",
       "      <td>0</td>\n",
       "      <td>0</td>\n",
       "      <td>0</td>\n",
       "      <td>0</td>\n",
       "      <td>0</td>\n",
       "      <td>0</td>\n",
       "      <td>1</td>\n",
       "      <td>...</td>\n",
       "      <td>0</td>\n",
       "      <td>0</td>\n",
       "      <td>0</td>\n",
       "      <td>0</td>\n",
       "      <td>0</td>\n",
       "      <td>1</td>\n",
       "      <td>1</td>\n",
       "      <td>1</td>\n",
       "      <td>0</td>\n",
       "      <td>0</td>\n",
       "    </tr>\n",
       "    <tr>\n",
       "      <th>4</th>\n",
       "      <td>30</td>\n",
       "      <td>0</td>\n",
       "      <td>0</td>\n",
       "      <td>0</td>\n",
       "      <td>0</td>\n",
       "      <td>0</td>\n",
       "      <td>0</td>\n",
       "      <td>0</td>\n",
       "      <td>1</td>\n",
       "      <td>0</td>\n",
       "      <td>...</td>\n",
       "      <td>0</td>\n",
       "      <td>0</td>\n",
       "      <td>0</td>\n",
       "      <td>0</td>\n",
       "      <td>0</td>\n",
       "      <td>1</td>\n",
       "      <td>0</td>\n",
       "      <td>1</td>\n",
       "      <td>1</td>\n",
       "      <td>0</td>\n",
       "    </tr>\n",
       "  </tbody>\n",
       "</table>\n",
       "<p>5 rows × 39 columns</p>\n",
       "</div>"
      ],
      "text/plain": [
       "   Age  Genetics_Yes  Hormonal Changes_Yes  \\\n",
       "0   19             1                     0   \n",
       "1   43             0                     0   \n",
       "2   26             0                     0   \n",
       "3   46             1                     1   \n",
       "4   30             0                     0   \n",
       "\n",
       "   Medical Conditions_Androgenetic Alopecia  Medical Conditions_Dermatitis  \\\n",
       "0                                         0                              0   \n",
       "1                                         0                              0   \n",
       "2                                         0                              0   \n",
       "3                                         0                              0   \n",
       "4                                         0                              0   \n",
       "\n",
       "   Medical Conditions_Dermatosis  Medical Conditions_Eczema  \\\n",
       "0                              0                          0   \n",
       "1                              0                          1   \n",
       "2                              1                          0   \n",
       "3                              0                          0   \n",
       "4                              0                          0   \n",
       "\n",
       "   Medical Conditions_No Data  Medical Conditions_Psoriasis  \\\n",
       "0                           1                             0   \n",
       "1                           0                             0   \n",
       "2                           0                             0   \n",
       "3                           0                             0   \n",
       "4                           0                             1   \n",
       "\n",
       "   Medical Conditions_Ringworm  ...  \\\n",
       "0                            0  ...   \n",
       "1                            0  ...   \n",
       "2                            0  ...   \n",
       "3                            1  ...   \n",
       "4                            0  ...   \n",
       "\n",
       "   Nutritional Deficiencies _Vitamin A Deficiency  \\\n",
       "0                                               0   \n",
       "1                                               0   \n",
       "2                                               0   \n",
       "3                                               0   \n",
       "4                                               0   \n",
       "\n",
       "   Nutritional Deficiencies _Vitamin D Deficiency  \\\n",
       "0                                               0   \n",
       "1                                               0   \n",
       "2                                               0   \n",
       "3                                               0   \n",
       "4                                               0   \n",
       "\n",
       "   Nutritional Deficiencies _Vitamin E deficiency  \\\n",
       "0                                               0   \n",
       "1                                               0   \n",
       "2                                               0   \n",
       "3                                               0   \n",
       "4                                               0   \n",
       "\n",
       "   Nutritional Deficiencies _Zinc Deficiency  Stress_Low  Stress_Moderate  \\\n",
       "0                                          0           0                1   \n",
       "1                                          0           0                0   \n",
       "2                                          0           0                1   \n",
       "3                                          0           0                1   \n",
       "4                                          0           0                1   \n",
       "\n",
       "   Poor Hair Care Habits _Yes  Environmental Factors_Yes  Smoking_Yes  \\\n",
       "0                           1                          1            0   \n",
       "1                           1                          1            0   \n",
       "2                           1                          1            0   \n",
       "3                           1                          1            0   \n",
       "4                           0                          1            1   \n",
       "\n",
       "   Weight Loss _Yes  \n",
       "0                 0  \n",
       "1                 0  \n",
       "2                 1  \n",
       "3                 0  \n",
       "4                 0  \n",
       "\n",
       "[5 rows x 39 columns]"
      ]
     },
     "execution_count": 30,
     "metadata": {},
     "output_type": "execute_result"
    }
   ],
   "source": [
    "X.head()"
   ]
  },
  {
   "cell_type": "code",
   "execution_count": 31,
   "id": "8dcec3af-3f4f-4e54-9d06-f5640572c26f",
   "metadata": {},
   "outputs": [],
   "source": [
    "from sklearn.model_selection import train_test_split"
   ]
  },
  {
   "cell_type": "code",
   "execution_count": 32,
   "id": "dd0bb08c-5c94-4ce5-81dc-0bf893abb695",
   "metadata": {},
   "outputs": [],
   "source": [
    "#train_test_split\n",
    "#grab the tuple unpacking and because we are testing and validating our data will be in a 70 15 15, with seed/state of 101\n",
    "X_train, X_test, y_train, y_test = train_test_split(X, y, test_size=0.3, random_state=101)"
   ]
  },
  {
   "cell_type": "code",
   "execution_count": 33,
   "id": "e75f9335-4a76-4d76-aedc-ed3b509fed14",
   "metadata": {},
   "outputs": [],
   "source": [
    "X_validation, X_holdout_test, y_validation, y_holdout_test = train_test_split(X_test, y_test, test_size=0.5, random_state=101)"
   ]
  },
  {
   "cell_type": "code",
   "execution_count": 34,
   "id": "ead74b56-9b7b-42a0-90a1-7401cdcc5629",
   "metadata": {},
   "outputs": [
    {
     "data": {
      "text/plain": [
       "999"
      ]
     },
     "execution_count": 34,
     "metadata": {},
     "output_type": "execute_result"
    }
   ],
   "source": [
    "#to make sure everything is right, we can check the size of everything\n",
    "len(df)"
   ]
  },
  {
   "cell_type": "code",
   "execution_count": 35,
   "id": "35d3c3cf-bfe1-4c36-96da-af0a403b641a",
   "metadata": {},
   "outputs": [
    {
     "data": {
      "text/plain": [
       "699"
      ]
     },
     "execution_count": 35,
     "metadata": {},
     "output_type": "execute_result"
    }
   ],
   "source": [
    "len(X_train)"
   ]
  },
  {
   "cell_type": "code",
   "execution_count": 36,
   "id": "ee5f030c-9d23-49a1-b499-e7835e56200a",
   "metadata": {},
   "outputs": [
    {
     "data": {
      "text/plain": [
       "150"
      ]
     },
     "execution_count": 36,
     "metadata": {},
     "output_type": "execute_result"
    }
   ],
   "source": [
    "len(X_validation)"
   ]
  },
  {
   "cell_type": "code",
   "execution_count": 37,
   "id": "315ccb59-05d1-4444-8e30-48ef97eefd8d",
   "metadata": {},
   "outputs": [
    {
     "data": {
      "text/plain": [
       "150"
      ]
     },
     "execution_count": 37,
     "metadata": {},
     "output_type": "execute_result"
    }
   ],
   "source": [
    "len(X_holdout_test)"
   ]
  },
  {
   "cell_type": "code",
   "execution_count": 38,
   "id": "0f2c0e98-f253-45f5-ab0c-071dbc01efb1",
   "metadata": {},
   "outputs": [],
   "source": [
    "#we can see everything adds up to 999 (length of original df) and if not we did something wrong"
   ]
  },
  {
   "cell_type": "code",
   "execution_count": 39,
   "id": "d02f0c9e-bd04-43b2-accf-ced9bf4fc5d7",
   "metadata": {},
   "outputs": [],
   "source": [
    "#just to make sure, we will scale our data as well\n",
    "from sklearn.preprocessing import StandardScaler"
   ]
  },
  {
   "cell_type": "code",
   "execution_count": 40,
   "id": "23baa2c3-23e5-4c84-87e5-730c5e34d9aa",
   "metadata": {},
   "outputs": [],
   "source": [
    "scaler = StandardScaler()\n",
    "scaled_X_train = scaler.fit_transform(X_train)\n",
    "scaled_X_test = scaler.transform(X_test)\n",
    "scaled_X_holdout_test = scaler.transform(X_holdout_test)\n",
    "scaled_X_validation = scaler.fit_transform(X_validation)"
   ]
  },
  {
   "cell_type": "code",
   "execution_count": 41,
   "id": "b6bd6941-58ac-4cbb-a5dd-aced1bf10012",
   "metadata": {},
   "outputs": [],
   "source": [
    "from sklearn.svm import SVC"
   ]
  },
  {
   "cell_type": "code",
   "execution_count": 42,
   "id": "0224c835-a7a3-4a25-a08d-b4df4991323a",
   "metadata": {},
   "outputs": [],
   "source": [
    "from sklearn.model_selection import GridSearchCV"
   ]
  },
  {
   "cell_type": "code",
   "execution_count": 43,
   "id": "15a91171-c8b6-421e-bea4-a3cd34fda853",
   "metadata": {},
   "outputs": [],
   "source": [
    "svc_model = SVC(random_state=101)"
   ]
  },
  {
   "cell_type": "code",
   "execution_count": 44,
   "id": "6667b723-1644-495c-9fa6-6af01fe02bb4",
   "metadata": {},
   "outputs": [],
   "source": [
    "kernel = ['linear', 'poly', 'rbf','sigmoid']"
   ]
  },
  {
   "cell_type": "code",
   "execution_count": 45,
   "id": "414f5bba-0152-4881-b2aa-ec560ec8bf62",
   "metadata": {},
   "outputs": [],
   "source": [
    "gamma = [0.001, 0.01, 0.1, 1, 10]"
   ]
  },
  {
   "cell_type": "code",
   "execution_count": 46,
   "id": "e691cac9-a376-4ff3-ad66-22ee1df342c6",
   "metadata": {},
   "outputs": [],
   "source": [
    "C = [0.01, 0.1, 1, 10, 100]"
   ]
  },
  {
   "cell_type": "code",
   "execution_count": 47,
   "id": "908fbf15-ce05-45d3-b3e3-e105158b1595",
   "metadata": {},
   "outputs": [],
   "source": [
    "param_grid = {'kernel': kernel,\n",
    "              'C': C,\n",
    "             'gamma': gamma}"
   ]
  },
  {
   "cell_type": "code",
   "execution_count": 48,
   "id": "82aa3774-d5d6-4cdd-901b-a40a8e6afcdd",
   "metadata": {},
   "outputs": [],
   "source": [
    "svc_grid_model = GridSearchCV(svc_model,param_grid=param_grid)"
   ]
  },
  {
   "cell_type": "code",
   "execution_count": 49,
   "id": "88087b3a-ef28-4d92-9989-674928325687",
   "metadata": {},
   "outputs": [
    {
     "data": {
      "text/plain": [
       "GridSearchCV(estimator=SVC(random_state=101),\n",
       "             param_grid={'C': [0.01, 0.1, 1, 10, 100],\n",
       "                         'gamma': [0.001, 0.01, 0.1, 1, 10],\n",
       "                         'kernel': ['linear', 'poly', 'rbf', 'sigmoid']})"
      ]
     },
     "execution_count": 49,
     "metadata": {},
     "output_type": "execute_result"
    }
   ],
   "source": [
    "svc_grid_model.fit(scaled_X_train, y_train)"
   ]
  },
  {
   "cell_type": "code",
   "execution_count": 50,
   "id": "02d20fe7",
   "metadata": {},
   "outputs": [
    {
     "data": {
      "text/plain": [
       "{'C': 0.1, 'gamma': 10, 'kernel': 'sigmoid'}"
      ]
     },
     "execution_count": 50,
     "metadata": {},
     "output_type": "execute_result"
    }
   ],
   "source": [
    "best_svc_model = svc_grid_model.best_params_\n",
    "best_svc_model"
   ]
  },
  {
   "cell_type": "code",
   "execution_count": 51,
   "id": "3921a229-c947-4b06-99a1-7093a4a00a66",
   "metadata": {},
   "outputs": [],
   "source": [
    "best_svc_model = SVC(random_state=101,C=0.1,gamma=10, kernel='sigmoid')"
   ]
  },
  {
   "cell_type": "code",
   "execution_count": 52,
   "id": "23123e59-625a-44c0-baf2-ff2142a31f42",
   "metadata": {},
   "outputs": [
    {
     "data": {
      "text/plain": [
       "SVC(C=0.1, gamma=10, kernel='sigmoid', random_state=101)"
      ]
     },
     "execution_count": 52,
     "metadata": {},
     "output_type": "execute_result"
    }
   ],
   "source": [
    "best_svc_model.fit(scaled_X_train,y_train)"
   ]
  },
  {
   "cell_type": "code",
   "execution_count": 53,
   "id": "389853ef-a944-4b6d-babe-6172a94441e6",
   "metadata": {},
   "outputs": [],
   "source": [
    "from sklearn.metrics import mean_absolute_error, mean_squared_error"
   ]
  },
  {
   "cell_type": "code",
   "execution_count": 54,
   "id": "f13fe486-5c72-4a5f-9cf7-2aff02e1a960",
   "metadata": {},
   "outputs": [],
   "source": [
    "#we will begin with validation\n",
    "svc_validation_predictions = best_svc_model.predict(scaled_X_validation)\n",
    "#validation_predictions"
   ]
  },
  {
   "cell_type": "code",
   "execution_count": 55,
   "id": "7e313750-91a3-4fbc-bfa9-3f2adc062988",
   "metadata": {},
   "outputs": [
    {
     "data": {
      "text/plain": [
       "0.5"
      ]
     },
     "execution_count": 55,
     "metadata": {},
     "output_type": "execute_result"
    }
   ],
   "source": [
    "svc_validate_mae = mean_absolute_error(y_validation, svc_validation_predictions) #compare to mean value\n",
    "svc_validate_mae"
   ]
  },
  {
   "cell_type": "code",
   "execution_count": 56,
   "id": "1a94cd53-13ab-4fc0-8a3d-5728636f3ec3",
   "metadata": {},
   "outputs": [
    {
     "data": {
      "text/plain": [
       "0.7071067811865476"
      ]
     },
     "execution_count": 56,
     "metadata": {},
     "output_type": "execute_result"
    }
   ],
   "source": [
    "svc_validate_rmse = mean_squared_error(y_validation, svc_validation_predictions) ** 0.5 #RMSE #compare to STD\n",
    "svc_validate_rmse"
   ]
  },
  {
   "cell_type": "code",
   "execution_count": 57,
   "id": "5883fa75-298e-413b-b646-3ba0866e3d93",
   "metadata": {},
   "outputs": [],
   "source": [
    "#as a baseline we have MAE: 0.4 and RMSE =0.63\n",
    "#now we will being using testing\n",
    "svc_holdout_predictions = best_svc_model.predict(scaled_X_holdout_test)"
   ]
  },
  {
   "cell_type": "code",
   "execution_count": 58,
   "id": "b674f128",
   "metadata": {},
   "outputs": [],
   "source": [
    "from sklearn.metrics import accuracy_score, confusion_matrix, classification_report, plot_confusion_matrix"
   ]
  },
  {
   "cell_type": "code",
   "execution_count": 59,
   "id": "2768118e",
   "metadata": {},
   "outputs": [
    {
     "data": {
      "text/plain": [
       "0.49333333333333335"
      ]
     },
     "execution_count": 59,
     "metadata": {},
     "output_type": "execute_result"
    }
   ],
   "source": [
    "accuracy_score(y_holdout_test, svc_holdout_predictions)\n",
    "#initial accuracy score for holdout"
   ]
  },
  {
   "cell_type": "code",
   "execution_count": 60,
   "id": "72f33f8f-ae97-47c8-8df8-f877e8e70782",
   "metadata": {},
   "outputs": [
    {
     "data": {
      "text/plain": [
       "0.5066666666666667"
      ]
     },
     "execution_count": 60,
     "metadata": {},
     "output_type": "execute_result"
    }
   ],
   "source": [
    "svc_holdout_mae = mean_absolute_error(y_holdout_test, svc_holdout_predictions) \n",
    "svc_holdout_mae"
   ]
  },
  {
   "cell_type": "code",
   "execution_count": 61,
   "id": "770d6bb3-5498-4047-9c18-bc228a665a96",
   "metadata": {},
   "outputs": [
    {
     "data": {
      "text/plain": [
       "0.7118052168020874"
      ]
     },
     "execution_count": 61,
     "metadata": {},
     "output_type": "execute_result"
    }
   ],
   "source": [
    "svc_holdout_rmse = mean_squared_error(y_holdout_test, svc_holdout_predictions) ** 0.5 \n",
    "svc_holdout_rmse"
   ]
  },
  {
   "cell_type": "code",
   "execution_count": 62,
   "id": "7f17eca4-0a0e-4b48-9fb7-574ea4f36ded",
   "metadata": {},
   "outputs": [],
   "source": [
    "svc_y_final_pred = best_svc_model.predict(scaled_X_test)\n",
    "#svc_y_final_pred"
   ]
  },
  {
   "cell_type": "code",
   "execution_count": 63,
   "id": "4c894014-6ebd-47c1-a6e2-32749e299755",
   "metadata": {},
   "outputs": [
    {
     "data": {
      "text/plain": [
       "0.49333333333333335"
      ]
     },
     "execution_count": 63,
     "metadata": {},
     "output_type": "execute_result"
    }
   ],
   "source": [
    "accuracy_score(y_test,svc_y_final_pred)"
   ]
  },
  {
   "cell_type": "code",
   "execution_count": 64,
   "id": "5f28399b",
   "metadata": {},
   "outputs": [
    {
     "name": "stdout",
     "output_type": "stream",
     "text": [
      "              precision    recall  f1-score   support\n",
      "\n",
      "           0       0.50      0.54      0.52       151\n",
      "           1       0.49      0.44      0.46       149\n",
      "\n",
      "    accuracy                           0.49       300\n",
      "   macro avg       0.49      0.49      0.49       300\n",
      "weighted avg       0.49      0.49      0.49       300\n",
      "\n"
     ]
    }
   ],
   "source": [
    "print(classification_report(y_test,svc_y_final_pred))"
   ]
  },
  {
   "cell_type": "code",
   "execution_count": 65,
   "id": "48fe818a-5a49-464b-8ef6-a49059ce1573",
   "metadata": {},
   "outputs": [
    {
     "data": {
      "text/plain": [
       "{'0': {'precision': 0.49696969696969695,\n",
       "  'recall': 0.543046357615894,\n",
       "  'f1-score': 0.5189873417721519,\n",
       "  'support': 151},\n",
       " '1': {'precision': 0.4888888888888889,\n",
       "  'recall': 0.4429530201342282,\n",
       "  'f1-score': 0.4647887323943662,\n",
       "  'support': 149},\n",
       " 'accuracy': 0.49333333333333335,\n",
       " 'macro avg': {'precision': 0.4929292929292929,\n",
       "  'recall': 0.4929996888750611,\n",
       "  'f1-score': 0.491888037083259,\n",
       "  'support': 300},\n",
       " 'weighted avg': {'precision': 0.492956228956229,\n",
       "  'recall': 0.49333333333333335,\n",
       "  'f1-score': 0.49206869911451834,\n",
       "  'support': 300}}"
      ]
     },
     "execution_count": 65,
     "metadata": {},
     "output_type": "execute_result"
    }
   ],
   "source": [
    "svc_report = classification_report(y_test,svc_y_final_pred,output_dict=True)\n",
    "svc_report"
   ]
  },
  {
   "cell_type": "code",
   "execution_count": null,
   "id": "f19ad52d",
   "metadata": {},
   "outputs": [],
   "source": []
  },
  {
   "cell_type": "code",
   "execution_count": null,
   "id": "1eb23512-290a-4b2b-8480-9bb44a768b8f",
   "metadata": {},
   "outputs": [],
   "source": []
  },
  {
   "cell_type": "code",
   "execution_count": 66,
   "id": "84467518-dfbf-4c12-b805-2e05eefe818f",
   "metadata": {},
   "outputs": [],
   "source": [
    "#that's with svc, lets see how it compares to logistic regression "
   ]
  },
  {
   "cell_type": "code",
   "execution_count": 67,
   "id": "efc28bb1-aa99-4b56-a6d8-b9726e00a3e4",
   "metadata": {},
   "outputs": [],
   "source": [
    "from sklearn.linear_model import LogisticRegression"
   ]
  },
  {
   "cell_type": "code",
   "execution_count": 68,
   "id": "7fbb714c-81c7-4df2-a85c-1b6c67295b23",
   "metadata": {},
   "outputs": [],
   "source": [
    "log_model = LogisticRegression()"
   ]
  },
  {
   "cell_type": "code",
   "execution_count": 69,
   "id": "bb1ce767-01f2-477c-93ba-798eb37aef67",
   "metadata": {},
   "outputs": [],
   "source": [
    "penalty = ['l1','l2','elasticnet']"
   ]
  },
  {
   "cell_type": "code",
   "execution_count": 70,
   "id": "153b4853-78a0-482f-a707-edb1c94c6cd1",
   "metadata": {},
   "outputs": [],
   "source": [
    "C = [0.001, 0.005, 0.01, 0.05, 0.1, 0.5, 1, 10, 100]"
   ]
  },
  {
   "cell_type": "code",
   "execution_count": 71,
   "id": "ed7f97d7-3f42-4cef-b41f-a1c6f4bddf78",
   "metadata": {},
   "outputs": [],
   "source": [
    "max_iter = [100,500,1000, 1500, 2500, 3000]"
   ]
  },
  {
   "cell_type": "code",
   "execution_count": 72,
   "id": "ddd042c3-102d-48c4-ab49-a814751762d0",
   "metadata": {},
   "outputs": [],
   "source": [
    "param_grid = {'penalty': penalty,\n",
    "              'C' : C,\n",
    "              'max_iter': max_iter}"
   ]
  },
  {
   "cell_type": "code",
   "execution_count": 73,
   "id": "be667d76-2f29-42f6-a0da-0ef3c691128a",
   "metadata": {},
   "outputs": [],
   "source": [
    "lr_grid_model = GridSearchCV(log_model,param_grid=param_grid)"
   ]
  },
  {
   "cell_type": "code",
   "execution_count": 74,
   "id": "ca02af65-4651-4a36-b75e-ddd8ecd28199",
   "metadata": {},
   "outputs": [
    {
     "name": "stderr",
     "output_type": "stream",
     "text": [
      "/opt/anaconda3/lib/python3.9/site-packages/sklearn/model_selection/_validation.py:372: FitFailedWarning: \n",
      "540 fits failed out of a total of 810.\n",
      "The score on these train-test partitions for these parameters will be set to nan.\n",
      "If these failures are not expected, you can try to debug them by setting error_score='raise'.\n",
      "\n",
      "Below are more details about the failures:\n",
      "--------------------------------------------------------------------------------\n",
      "270 fits failed with the following error:\n",
      "Traceback (most recent call last):\n",
      "  File \"/opt/anaconda3/lib/python3.9/site-packages/sklearn/model_selection/_validation.py\", line 680, in _fit_and_score\n",
      "    estimator.fit(X_train, y_train, **fit_params)\n",
      "  File \"/opt/anaconda3/lib/python3.9/site-packages/sklearn/linear_model/_logistic.py\", line 1461, in fit\n",
      "    solver = _check_solver(self.solver, self.penalty, self.dual)\n",
      "  File \"/opt/anaconda3/lib/python3.9/site-packages/sklearn/linear_model/_logistic.py\", line 447, in _check_solver\n",
      "    raise ValueError(\n",
      "ValueError: Solver lbfgs supports only 'l2' or 'none' penalties, got l1 penalty.\n",
      "\n",
      "--------------------------------------------------------------------------------\n",
      "270 fits failed with the following error:\n",
      "Traceback (most recent call last):\n",
      "  File \"/opt/anaconda3/lib/python3.9/site-packages/sklearn/model_selection/_validation.py\", line 680, in _fit_and_score\n",
      "    estimator.fit(X_train, y_train, **fit_params)\n",
      "  File \"/opt/anaconda3/lib/python3.9/site-packages/sklearn/linear_model/_logistic.py\", line 1461, in fit\n",
      "    solver = _check_solver(self.solver, self.penalty, self.dual)\n",
      "  File \"/opt/anaconda3/lib/python3.9/site-packages/sklearn/linear_model/_logistic.py\", line 447, in _check_solver\n",
      "    raise ValueError(\n",
      "ValueError: Solver lbfgs supports only 'l2' or 'none' penalties, got elasticnet penalty.\n",
      "\n",
      "  warnings.warn(some_fits_failed_message, FitFailedWarning)\n",
      "/opt/anaconda3/lib/python3.9/site-packages/sklearn/model_selection/_search.py:969: UserWarning: One or more of the test scores are non-finite: [       nan 0.46928058        nan        nan 0.46928058        nan\n",
      "        nan 0.46928058        nan        nan 0.46928058        nan\n",
      "        nan 0.46928058        nan        nan 0.46928058        nan\n",
      "        nan 0.46069887        nan        nan 0.46069887        nan\n",
      "        nan 0.46069887        nan        nan 0.46069887        nan\n",
      "        nan 0.46069887        nan        nan 0.46069887        nan\n",
      "        nan 0.46354573        nan        nan 0.46354573        nan\n",
      "        nan 0.46354573        nan        nan 0.46354573        nan\n",
      "        nan 0.46354573        nan        nan 0.46354573        nan\n",
      "        nan 0.45782117        nan        nan 0.45782117        nan\n",
      "        nan 0.45782117        nan        nan 0.45782117        nan\n",
      "        nan 0.45782117        nan        nan 0.45782117        nan\n",
      "        nan 0.45640288        nan        nan 0.45640288        nan\n",
      "        nan 0.45640288        nan        nan 0.45640288        nan\n",
      "        nan 0.45640288        nan        nan 0.45640288        nan\n",
      "        nan 0.4563926         nan        nan 0.4563926         nan\n",
      "        nan 0.4563926         nan        nan 0.4563926         nan\n",
      "        nan 0.4563926         nan        nan 0.4563926         nan\n",
      "        nan 0.45783145        nan        nan 0.45783145        nan\n",
      "        nan 0.45783145        nan        nan 0.45783145        nan\n",
      "        nan 0.45783145        nan        nan 0.45783145        nan\n",
      "        nan 0.45497431        nan        nan 0.45497431        nan\n",
      "        nan 0.45497431        nan        nan 0.45497431        nan\n",
      "        nan 0.45497431        nan        nan 0.45497431        nan\n",
      "        nan 0.45497431        nan        nan 0.45497431        nan\n",
      "        nan 0.45497431        nan        nan 0.45497431        nan\n",
      "        nan 0.45497431        nan        nan 0.45497431        nan]\n",
      "  warnings.warn(\n"
     ]
    },
    {
     "data": {
      "text/plain": [
       "GridSearchCV(estimator=LogisticRegression(),\n",
       "             param_grid={'C': [0.001, 0.005, 0.01, 0.05, 0.1, 0.5, 1, 10, 100],\n",
       "                         'max_iter': [100, 500, 1000, 1500, 2500, 3000],\n",
       "                         'penalty': ['l1', 'l2', 'elasticnet']})"
      ]
     },
     "execution_count": 74,
     "metadata": {},
     "output_type": "execute_result"
    }
   ],
   "source": [
    "lr_grid_model.fit(scaled_X_train,y_train)"
   ]
  },
  {
   "cell_type": "code",
   "execution_count": 75,
   "id": "d93a7de9-c0cb-4533-ba16-690662b553ef",
   "metadata": {},
   "outputs": [
    {
     "data": {
      "text/plain": [
       "{'C': 0.001, 'max_iter': 100, 'penalty': 'l2'}"
      ]
     },
     "execution_count": 75,
     "metadata": {},
     "output_type": "execute_result"
    }
   ],
   "source": [
    "lr_grid_model.best_params_"
   ]
  },
  {
   "cell_type": "code",
   "execution_count": 76,
   "id": "1fb58447-acca-462f-a809-af62d371357b",
   "metadata": {},
   "outputs": [
    {
     "data": {
      "text/plain": [
       "LogisticRegression(C=0.001)"
      ]
     },
     "execution_count": 76,
     "metadata": {},
     "output_type": "execute_result"
    }
   ],
   "source": [
    "best_lr_model = LogisticRegression(C=0.001, max_iter=100, penalty='l2')\n",
    "best_lr_model"
   ]
  },
  {
   "cell_type": "code",
   "execution_count": 77,
   "id": "3e2351cf-54b7-44e2-979c-fc9fe1a9507f",
   "metadata": {},
   "outputs": [
    {
     "data": {
      "text/plain": [
       "LogisticRegression(C=0.001)"
      ]
     },
     "execution_count": 77,
     "metadata": {},
     "output_type": "execute_result"
    }
   ],
   "source": [
    "best_lr_model.fit(scaled_X_train,y_train)"
   ]
  },
  {
   "cell_type": "code",
   "execution_count": 78,
   "id": "27022747-36e6-446d-89f5-5f2e0ee2d0cb",
   "metadata": {},
   "outputs": [],
   "source": [
    "lr_validation_predictions = best_lr_model.predict(scaled_X_validation)"
   ]
  },
  {
   "cell_type": "code",
   "execution_count": 79,
   "id": "ff9c222d-28a2-46e1-aed9-fb62c2811cbf",
   "metadata": {},
   "outputs": [
    {
     "data": {
      "text/plain": [
       "0.4866666666666667"
      ]
     },
     "execution_count": 79,
     "metadata": {},
     "output_type": "execute_result"
    }
   ],
   "source": [
    "lr_validate_mae = mean_absolute_error(y_validation, lr_validation_predictions) #compare to mean value\n",
    "lr_validate_mae"
   ]
  },
  {
   "cell_type": "code",
   "execution_count": 80,
   "id": "07e15dda-c643-4d76-a2d4-3b3409925fe7",
   "metadata": {},
   "outputs": [
    {
     "data": {
      "text/plain": [
       "0.697614984548545"
      ]
     },
     "execution_count": 80,
     "metadata": {},
     "output_type": "execute_result"
    }
   ],
   "source": [
    "lr_validate_rmse = mean_squared_error(y_validation, lr_validation_predictions) ** 0.5 \n",
    "lr_validate_rmse"
   ]
  },
  {
   "cell_type": "code",
   "execution_count": 81,
   "id": "c0b8ea7a",
   "metadata": {},
   "outputs": [],
   "source": [
    "#since we have a baseline of mae=0.5 and rmse=0.7, let's compare it to the holdout test\n",
    "lr_holdout_predictions = best_lr_model.predict(scaled_X_holdout_test)"
   ]
  },
  {
   "cell_type": "code",
   "execution_count": 82,
   "id": "afc2da6a",
   "metadata": {},
   "outputs": [
    {
     "data": {
      "text/plain": [
       "0.47333333333333333"
      ]
     },
     "execution_count": 82,
     "metadata": {},
     "output_type": "execute_result"
    }
   ],
   "source": [
    "accuracy_score(y_holdout_test,lr_holdout_predictions)"
   ]
  },
  {
   "cell_type": "code",
   "execution_count": 83,
   "id": "43212d7f",
   "metadata": {},
   "outputs": [
    {
     "data": {
      "text/plain": [
       "0.5266666666666666"
      ]
     },
     "execution_count": 83,
     "metadata": {},
     "output_type": "execute_result"
    }
   ],
   "source": [
    "lr_holdout_mae = mean_absolute_error(y_holdout_test, lr_holdout_predictions)\n",
    "lr_holdout_mae"
   ]
  },
  {
   "cell_type": "code",
   "execution_count": 84,
   "id": "7c8c6796",
   "metadata": {},
   "outputs": [
    {
     "data": {
      "text/plain": [
       "0.725718035235908"
      ]
     },
     "execution_count": 84,
     "metadata": {},
     "output_type": "execute_result"
    }
   ],
   "source": [
    "lr_holdout_rmse = mean_squared_error(y_holdout_test, lr_holdout_predictions) **0.5\n",
    "lr_holdout_rmse"
   ]
  },
  {
   "cell_type": "code",
   "execution_count": 85,
   "id": "9f97c1a5",
   "metadata": {},
   "outputs": [],
   "source": [
    "lr_y_final_pred = best_svc_model.predict(scaled_X_test)"
   ]
  },
  {
   "cell_type": "code",
   "execution_count": 86,
   "id": "5b879fe2",
   "metadata": {
    "scrolled": true
   },
   "outputs": [
    {
     "data": {
      "text/plain": [
       "0.49333333333333335"
      ]
     },
     "execution_count": 86,
     "metadata": {},
     "output_type": "execute_result"
    }
   ],
   "source": [
    "accuracy_score(y_test, lr_y_final_pred)"
   ]
  },
  {
   "cell_type": "code",
   "execution_count": 87,
   "id": "999a2675",
   "metadata": {},
   "outputs": [
    {
     "name": "stdout",
     "output_type": "stream",
     "text": [
      "              precision    recall  f1-score   support\n",
      "\n",
      "           0       0.50      0.54      0.52       151\n",
      "           1       0.49      0.44      0.46       149\n",
      "\n",
      "    accuracy                           0.49       300\n",
      "   macro avg       0.49      0.49      0.49       300\n",
      "weighted avg       0.49      0.49      0.49       300\n",
      "\n"
     ]
    }
   ],
   "source": [
    "print(classification_report(y_test,lr_y_final_pred))"
   ]
  },
  {
   "cell_type": "code",
   "execution_count": 88,
   "id": "b251b03f-ac49-43ae-97bb-cd9e409da778",
   "metadata": {},
   "outputs": [],
   "source": [
    "lr_report = classification_report(y_test,lr_y_final_pred,output_dict=True)"
   ]
  },
  {
   "cell_type": "code",
   "execution_count": null,
   "id": "4184b965-8ca9-4246-b0ab-d7e8790cc44b",
   "metadata": {},
   "outputs": [],
   "source": []
  },
  {
   "cell_type": "code",
   "execution_count": 89,
   "id": "44708e17-9059-4ed3-8e8b-370cca449333",
   "metadata": {},
   "outputs": [],
   "source": [
    "#now lets try a random forest\n",
    "from sklearn.ensemble import RandomForestClassifier"
   ]
  },
  {
   "cell_type": "code",
   "execution_count": 90,
   "id": "36febaf2-d1f7-4190-867b-ed2686386a16",
   "metadata": {},
   "outputs": [],
   "source": [
    "rfc_model = RandomForestClassifier()"
   ]
  },
  {
   "cell_type": "code",
   "execution_count": 91,
   "id": "11590e95-90c9-4a7c-aa85-07e0f601a5ca",
   "metadata": {},
   "outputs": [],
   "source": [
    "n_estimators = [100, 200, 500, 1000, 1500, 2000, 2500]"
   ]
  },
  {
   "cell_type": "code",
   "execution_count": 92,
   "id": "4aec46fd-d674-44b1-8e0e-a29e6dcc24ed",
   "metadata": {},
   "outputs": [],
   "source": [
    "max_features = ['sqrt', 'log2', None, 2, 5, 10]"
   ]
  },
  {
   "cell_type": "code",
   "execution_count": 93,
   "id": "13f02589-24ac-4028-b571-e3ed7f3118a4",
   "metadata": {},
   "outputs": [],
   "source": [
    "bootstrap = [True, False]"
   ]
  },
  {
   "cell_type": "code",
   "execution_count": 94,
   "id": "0e65e024-c69e-4225-aca1-58aaaac05cf6",
   "metadata": {},
   "outputs": [],
   "source": [
    "oob_score = [True, False]"
   ]
  },
  {
   "cell_type": "code",
   "execution_count": 95,
   "id": "39b0467a-24da-437e-b2a0-0b1b3fcd54bd",
   "metadata": {},
   "outputs": [],
   "source": [
    "param_grid = {'n_estimators': n_estimators,\n",
    "              'max_features': max_features,\n",
    "              'bootstrap': bootstrap,\n",
    "              'oob_score': oob_score}"
   ]
  },
  {
   "cell_type": "code",
   "execution_count": 96,
   "id": "c22c0170-4295-4c5c-8cbb-56779a062251",
   "metadata": {},
   "outputs": [],
   "source": [
    "rfc_grid_model = GridSearchCV(rfc_model, param_grid)"
   ]
  },
  {
   "cell_type": "code",
   "execution_count": null,
   "id": "47aa2263-41eb-4993-ac8f-014899239fac",
   "metadata": {},
   "outputs": [],
   "source": [
    "rfc_grid_model.fit(scaled_X_train,y_train)"
   ]
  },
  {
   "cell_type": "code",
   "execution_count": null,
   "id": "1aad5d08-18ca-4c22-a0bc-5f87ed848d77",
   "metadata": {},
   "outputs": [],
   "source": [
    "best_rfc_model = rfc_grid_model.best_params_\n",
    "best_rfc_model"
   ]
  },
  {
   "cell_type": "code",
   "execution_count": null,
   "id": "76b22d87-2877-454b-832b-cc4f01ae4b7a",
   "metadata": {},
   "outputs": [],
   "source": [
    "best_rfc_model = RandomForestClassifier(bootstrap=False ,max_features=None,\n",
    "                                        n_estimators=1000, oob_score=False)"
   ]
  },
  {
   "cell_type": "code",
   "execution_count": null,
   "id": "ee98855e-f550-459e-bd6b-bd5415231798",
   "metadata": {},
   "outputs": [],
   "source": [
    "best_rfc_model.fit(scaled_X_train,y_train)"
   ]
  },
  {
   "cell_type": "code",
   "execution_count": null,
   "id": "0889c3e6-6198-494c-9d91-24713c7f989a",
   "metadata": {},
   "outputs": [],
   "source": [
    "rfc_validation_predictions = best_rfc_model.predict(scaled_X_validation)"
   ]
  },
  {
   "cell_type": "code",
   "execution_count": null,
   "id": "39963efa-aace-475c-a644-004b9b50fcd6",
   "metadata": {},
   "outputs": [],
   "source": [
    "#gathering baseline stats to compare to holdout test stats\n",
    "rfc_validate_mae = mean_absolute_error(y_validation, rfc_validation_predictions)\n",
    "rfc_validate_mae"
   ]
  },
  {
   "cell_type": "code",
   "execution_count": null,
   "id": "e5c10185",
   "metadata": {},
   "outputs": [],
   "source": [
    "rfc_validate_rmse = mean_squared_error(y_validation, rfc_validation_predictions) **0.5\n",
    "rfc_validate_rmse"
   ]
  },
  {
   "cell_type": "code",
   "execution_count": null,
   "id": "f89c602c",
   "metadata": {},
   "outputs": [],
   "source": [
    "rfc_holdout_predictions = best_rfc_model.predict(scaled_X_holdout_test)"
   ]
  },
  {
   "cell_type": "code",
   "execution_count": null,
   "id": "6ca54f16",
   "metadata": {
    "scrolled": true
   },
   "outputs": [],
   "source": [
    "accuracy_score(y_holdout_test, rfc_holdout_predictions)"
   ]
  },
  {
   "cell_type": "code",
   "execution_count": null,
   "id": "7d9910ae",
   "metadata": {},
   "outputs": [],
   "source": [
    "rfc_holdout_mae = mean_absolute_error(y_holdout_test, rfc_validation_predictions)\n",
    "rfc_holdout_mae"
   ]
  },
  {
   "cell_type": "code",
   "execution_count": null,
   "id": "c5c3e98e",
   "metadata": {},
   "outputs": [],
   "source": [
    "rfc_holdout_rmse = mean_squared_error(y_holdout_test, rfc_validation_predictions) **0.5\n",
    "rfc_holdout_rmse"
   ]
  },
  {
   "cell_type": "code",
   "execution_count": null,
   "id": "7b08b23a",
   "metadata": {},
   "outputs": [],
   "source": [
    "rfc_y_final_pred = best_rfc_model.predict(scaled_X_test)"
   ]
  },
  {
   "cell_type": "code",
   "execution_count": null,
   "id": "f99efd6c",
   "metadata": {},
   "outputs": [],
   "source": [
    "accuracy_score(y_test,rfc_y_final_pred)"
   ]
  },
  {
   "cell_type": "code",
   "execution_count": null,
   "id": "c3873bd6",
   "metadata": {},
   "outputs": [],
   "source": [
    "print(classification_report(y_test,rfc_y_final_pred))"
   ]
  },
  {
   "cell_type": "code",
   "execution_count": null,
   "id": "86379e23-f57d-4886-8f1a-e9657f8cae73",
   "metadata": {},
   "outputs": [],
   "source": [
    "rfc_report = classification_report(y_test,rfc_y_final_pred,output_dict=True)"
   ]
  },
  {
   "cell_type": "code",
   "execution_count": null,
   "id": "968703f7",
   "metadata": {},
   "outputs": [],
   "source": []
  },
  {
   "cell_type": "code",
   "execution_count": null,
   "id": "685ce258-c024-4b3b-af35-052825e29ad3",
   "metadata": {},
   "outputs": [],
   "source": [
    "from sklearn.naive_bayes import CategoricalNB, BernoulliNB"
   ]
  },
  {
   "cell_type": "code",
   "execution_count": null,
   "id": "7f7ad69a-9efe-47af-8512-1159b9719666",
   "metadata": {},
   "outputs": [],
   "source": [
    "nb_model = BernoulliNB()"
   ]
  },
  {
   "cell_type": "code",
   "execution_count": null,
   "id": "60411995-5420-41f0-abb9-8f8e8eaf8adf",
   "metadata": {},
   "outputs": [],
   "source": [
    "alpha = [0.001,0.01, 0.1,0.2,0.5,0.7,1,2,5,10]"
   ]
  },
  {
   "cell_type": "code",
   "execution_count": null,
   "id": "3ce06b76-f00b-44db-94c7-5a2c8424636c",
   "metadata": {},
   "outputs": [],
   "source": [
    "fit_prior = [True, False]"
   ]
  },
  {
   "cell_type": "code",
   "execution_count": null,
   "id": "ff295b43",
   "metadata": {},
   "outputs": [],
   "source": [
    "binarize = [None, 0.0, 0.5, 1.0]"
   ]
  },
  {
   "cell_type": "code",
   "execution_count": null,
   "id": "74a2e173-4f5a-459e-abc2-ebab8512fa92",
   "metadata": {},
   "outputs": [],
   "source": [
    "param_grid = {'alpha': alpha,\n",
    "             'fit_prior': fit_prior,\n",
    "             'binarize': binarize}"
   ]
  },
  {
   "cell_type": "code",
   "execution_count": null,
   "id": "61823556-15d7-4a31-9bec-1c1aef97ae49",
   "metadata": {},
   "outputs": [],
   "source": [
    "nb_grid_model = GridSearchCV(nb_model, param_grid)"
   ]
  },
  {
   "cell_type": "code",
   "execution_count": null,
   "id": "6d130146-ae61-47df-aca4-eb6d37b1d367",
   "metadata": {},
   "outputs": [],
   "source": [
    "nb_grid_model.fit(scaled_X_train,y_train)"
   ]
  },
  {
   "cell_type": "code",
   "execution_count": null,
   "id": "7856f186-a29c-46e2-8a61-50f12e8ec72f",
   "metadata": {},
   "outputs": [],
   "source": [
    "best_nb_model = nb_grid_model.best_params_\n",
    "best_nb_model"
   ]
  },
  {
   "cell_type": "code",
   "execution_count": null,
   "id": "d7cb7ab2-beac-440a-8d07-a4569bbdbbc3",
   "metadata": {},
   "outputs": [],
   "source": [
    "best_nb_model = BernoulliNB(alpha = 0.001, binarize=None,fit_prior = True)"
   ]
  },
  {
   "cell_type": "code",
   "execution_count": null,
   "id": "25fd3e3e-aa09-493c-abc2-c48e79852e03",
   "metadata": {},
   "outputs": [],
   "source": [
    "best_nb_model = nb_grid_model.fit(scaled_X_train,y_train)"
   ]
  },
  {
   "cell_type": "code",
   "execution_count": null,
   "id": "b0407313-640a-4154-8862-8effd80971d2",
   "metadata": {},
   "outputs": [],
   "source": [
    "nb_validation_predictions = best_nb_model.predict(X_validation)\n",
    "nb_validation_predictions"
   ]
  },
  {
   "cell_type": "code",
   "execution_count": null,
   "id": "dd4e299b-296f-4951-8158-52bb77855e71",
   "metadata": {},
   "outputs": [],
   "source": [
    "nb_validate_mae = mean_absolute_error(y_validation, nb_validation_predictions)\n",
    "nb_validate_mae"
   ]
  },
  {
   "cell_type": "code",
   "execution_count": null,
   "id": "2e942f81",
   "metadata": {
    "scrolled": true
   },
   "outputs": [],
   "source": [
    "nb_validate_rmse = mean_squared_error(y_validation, nb_validation_predictions) ** 0.5\n",
    "nb_validate_rmse"
   ]
  },
  {
   "cell_type": "code",
   "execution_count": null,
   "id": "6acabf50",
   "metadata": {},
   "outputs": [],
   "source": [
    "nb_holdout_predictions = best_nb_model.predict(scaled_X_holdout_test)"
   ]
  },
  {
   "cell_type": "code",
   "execution_count": null,
   "id": "01872fb6",
   "metadata": {},
   "outputs": [],
   "source": [
    "accuracy_score(y_holdout_test, nb_holdout_predictions)"
   ]
  },
  {
   "cell_type": "code",
   "execution_count": null,
   "id": "6b50790b",
   "metadata": {},
   "outputs": [],
   "source": [
    "svc_holdout_mae = mean_absolute_error(y_holdout_test, nb_holdout_predictions)\n",
    "svc_holdout_mae"
   ]
  },
  {
   "cell_type": "code",
   "execution_count": null,
   "id": "a374f654",
   "metadata": {},
   "outputs": [],
   "source": [
    "nb_holdout_rmse = mean_squared_error(y_holdout_test, nb_holdout_predictions) ** 0.5\n",
    "nb_holdout_rmse"
   ]
  },
  {
   "cell_type": "code",
   "execution_count": null,
   "id": "4803ecca",
   "metadata": {},
   "outputs": [],
   "source": [
    "nb_y_final_pred = best_nb_model.predict(scaled_X_test)"
   ]
  },
  {
   "cell_type": "code",
   "execution_count": null,
   "id": "8ad71d37",
   "metadata": {},
   "outputs": [],
   "source": [
    "accuracy_score(y_test, nb_y_final_pred)"
   ]
  },
  {
   "cell_type": "code",
   "execution_count": null,
   "id": "e7553b9c",
   "metadata": {},
   "outputs": [],
   "source": [
    "print(classification_report(y_test,nb_y_final_pred))"
   ]
  },
  {
   "cell_type": "code",
   "execution_count": null,
   "id": "17cce465-d4ff-4e26-92f1-f4fb1349046d",
   "metadata": {},
   "outputs": [],
   "source": [
    "nb_report = classification_report(y_test,nb_y_final_pred,output_dict=True)"
   ]
  },
  {
   "cell_type": "code",
   "execution_count": null,
   "id": "fedd7f20-5835-4d44-9a8b-c2e554a0b316",
   "metadata": {},
   "outputs": [],
   "source": []
  },
  {
   "cell_type": "code",
   "execution_count": null,
   "id": "1393a4fd",
   "metadata": {},
   "outputs": [],
   "source": [
    "#let's try gradient and adaboosting"
   ]
  },
  {
   "cell_type": "code",
   "execution_count": null,
   "id": "c16f92d2",
   "metadata": {},
   "outputs": [],
   "source": [
    "from sklearn.ensemble import GradientBoostingClassifier"
   ]
  },
  {
   "cell_type": "code",
   "execution_count": null,
   "id": "6a6beeb4",
   "metadata": {},
   "outputs": [],
   "source": [
    "param_grid = {'n_estimators' : [50,100,500,1000,1500,2000],\n",
    "             'learning_rate' : [0.01, 0.05, 0.1],\n",
    "             'max_depth' : [3,4,5,10]}"
   ]
  },
  {
   "cell_type": "code",
   "execution_count": null,
   "id": "15b5fca2",
   "metadata": {},
   "outputs": [],
   "source": [
    "gb_model = GradientBoostingClassifier()"
   ]
  },
  {
   "cell_type": "code",
   "execution_count": null,
   "id": "058d79e3",
   "metadata": {},
   "outputs": [],
   "source": [
    "gb_grid_model = GridSearchCV(gb_model, param_grid)"
   ]
  },
  {
   "cell_type": "code",
   "execution_count": null,
   "id": "ecc41561",
   "metadata": {},
   "outputs": [],
   "source": [
    "gb_grid_model.fit(scaled_X_train,y_train)"
   ]
  },
  {
   "cell_type": "code",
   "execution_count": null,
   "id": "94e98f73",
   "metadata": {},
   "outputs": [],
   "source": [
    "best_gb_model = gb_grid_model.best_params_\n",
    "best_gb_model"
   ]
  },
  {
   "cell_type": "code",
   "execution_count": null,
   "id": "69fefc9a",
   "metadata": {},
   "outputs": [],
   "source": [
    "best_gb_model = GradientBoostingClassifier(learning_rate=0.05,\n",
    "                                          max_depth=5,n_estimators=2000)"
   ]
  },
  {
   "cell_type": "code",
   "execution_count": null,
   "id": "114bd66c",
   "metadata": {},
   "outputs": [],
   "source": [
    "best_gb_model"
   ]
  },
  {
   "cell_type": "code",
   "execution_count": null,
   "id": "5ecd86b3",
   "metadata": {},
   "outputs": [],
   "source": [
    "best_gb_model.fit(scaled_X_train,y_train)"
   ]
  },
  {
   "cell_type": "code",
   "execution_count": null,
   "id": "dd8283e8",
   "metadata": {},
   "outputs": [],
   "source": [
    "gb_validation_predictions = best_gb_model.predict(X_validation)\n"
   ]
  },
  {
   "cell_type": "code",
   "execution_count": null,
   "id": "955afb48",
   "metadata": {},
   "outputs": [],
   "source": [
    "gb_validate_mae = mean_absolute_error(y_validation, gb_validation_predictions)\n",
    "gb_validate_mae"
   ]
  },
  {
   "cell_type": "code",
   "execution_count": null,
   "id": "1e0d6ab0",
   "metadata": {},
   "outputs": [],
   "source": [
    "gb_validate_rmse = mean_squared_error(y_validation, gb_validation_predictions) ** 0.5\n",
    "gb_validate_rmse"
   ]
  },
  {
   "cell_type": "code",
   "execution_count": null,
   "id": "333770b6",
   "metadata": {},
   "outputs": [],
   "source": [
    "gb_holdout_predictions = best_gb_model.predict(scaled_X_holdout_test)"
   ]
  },
  {
   "cell_type": "code",
   "execution_count": null,
   "id": "84623600",
   "metadata": {},
   "outputs": [],
   "source": [
    "accuracy_score(y_holdout_test, gb_holdout_predictions)"
   ]
  },
  {
   "cell_type": "code",
   "execution_count": null,
   "id": "c09afbe6",
   "metadata": {},
   "outputs": [],
   "source": [
    "gb_holdout_mae = mean_absolute_error(y_holdout_test, gb_holdout_predictions)\n",
    "gb_holdout_mae"
   ]
  },
  {
   "cell_type": "code",
   "execution_count": null,
   "id": "5628d0a4",
   "metadata": {},
   "outputs": [],
   "source": [
    "gb_holdout_rmse = mean_squared_error(y_holdout_test, gb_holdout_predictions) ** 0.5\n",
    "gb_holdout_rmse"
   ]
  },
  {
   "cell_type": "code",
   "execution_count": null,
   "id": "98c9a708",
   "metadata": {},
   "outputs": [],
   "source": [
    "gb_y_final_pred = best_gb_model.predict(scaled_X_test)"
   ]
  },
  {
   "cell_type": "code",
   "execution_count": null,
   "id": "ffd841f7",
   "metadata": {},
   "outputs": [],
   "source": [
    "accuracy_score(y_test,gb_y_final_pred)"
   ]
  },
  {
   "cell_type": "code",
   "execution_count": null,
   "id": "afbc7451",
   "metadata": {},
   "outputs": [],
   "source": [
    "print(classification_report(y_test,gb_y_final_pred)"
   ]
  },
  {
   "cell_type": "code",
   "execution_count": null,
   "id": "f428ea17-152a-4edb-9037-0db13cb9abe4",
   "metadata": {},
   "outputs": [],
   "source": [
    "gb_report = classification_report(y_test,gb_y_final_pred,output_dict=True)"
   ]
  },
  {
   "cell_type": "code",
   "execution_count": null,
   "id": "ee1933b2-cf44-4ee6-ace9-fcbb452b8f62",
   "metadata": {},
   "outputs": [],
   "source": [
    "#How to choose the best model? \n",
    "#Precision for false positives\n",
    "#recall for false negatives \n",
    "#highest accuracy? \n",
    "#best f1 score?"
   ]
  },
  {
   "cell_type": "code",
   "execution_count": null,
   "id": "9cf6a1da-d348-4d6f-9d57-5b725967ecee",
   "metadata": {},
   "outputs": [],
   "source": [
    "def get_best_model(models_metrics_list):\n",
    "\n",
    "    best_metrics = {\n",
    "        'highest_accuracy': {'value': 0, 'model_index': None, 'model': None},\n",
    "        'highest_macro_f1': {'value': 0, 'model_index': None, 'model': None},\n",
    "        'highest_weighted_f1': {'value': 0, 'model_index': None, 'model': None},\n",
    "        'highest_macro_precision': {'value': 0, 'model_index': None, 'model': None},\n",
    "        'highest_macro_recall': {'value': 0, 'model_index': None, 'model': None}\n",
    "    }\n",
    "\n",
    "    # Iterate through the models and update the best metrics\n",
    "    for index, model in enumerate(models_metrics_list):\n",
    "        accuracy = model.get('accuracy', 0)\n",
    "        macro_avg = model.get('macro avg', {})\n",
    "        weighted_avg = model.get('weighted avg', {})\n",
    "\n",
    "        # Update best metrics for accuracy, macro avg, and weighted avg\n",
    "        if accuracy > best_metrics['highest_accuracy']['value']:\n",
    "            best_metrics['highest_accuracy'] = {'value': accuracy, 'model_index': index, 'model': model}\n",
    "        if macro_avg.get('f1-score', 0) > best_metrics['highest_macro_f1']['value']:\n",
    "            best_metrics['highest_macro_f1'] = {'value': macro_avg.get('f1-score', 0), 'model_index': index, 'model': model}\n",
    "        if weighted_avg.get('f1-score', 0) > best_metrics['highest_weighted_f1']['value']:\n",
    "            best_metrics['highest_weighted_f1'] = {'value': weighted_avg.get('f1-score', 0), 'model_index': index, 'model': model}\n",
    "        if macro_avg.get('precision', 0) > best_metrics['highest_macro_precision']['value']:\n",
    "            best_metrics['highest_macro_precision'] = {'value': macro_avg.get('precision', 0), 'model_index': index, 'model': model}\n",
    "        if macro_avg.get('recall', 0) > best_metrics['highest_macro_recall']['value']:\n",
    "            best_metrics['highest_macro_recall'] = {'value': macro_avg.get('recall', 0), 'model_index': index, 'model': model}\n",
    "\n",
    "    return best_metrics\n",
    "    "
   ]
  },
  {
   "cell_type": "code",
   "execution_count": null,
   "id": "0e2476a1-0c9d-4af5-b9b6-7237321335cc",
   "metadata": {},
   "outputs": [],
   "source": [
    "def get_best_model_from_list(models_metrics_list):\n",
    "\n",
    "    best_metrics = {\n",
    "        'highest_accuracy': {'value': 0, 'model_index': None, 'model': None},\n",
    "        'highest_macro_f1': {'value': 0, 'model_index': None, 'model': None},\n",
    "        'highest_weighted_f1': {'value': 0, 'model_index': None, 'model': None},\n",
    "        'highest_macro_precision': {'value': 0, 'model_index': None, 'model': None},\n",
    "        'highest_macro_recall': {'value': 0, 'model_index': None, 'model': None}\n",
    "    }\n",
    "\n",
    "    for index, model in enumerate(models_metrics_list):\n",
    "        accuracy = model.get('accuracy', 0)\n",
    "        macro_avg = model.get('macro avg', {})\n",
    "        weighted_avg = model.get('weighted avg', {})\n",
    "\n",
    "        if accuracy > best_metrics['highest_accuracy']['value']:\n",
    "            best_metrics['highest_accuracy'] = {'value': accuracy, 'model_index': index, 'model': model}\n",
    "        if macro_avg.get('f1-score', 0) > best_metrics['highest_macro_f1']['value']:\n",
    "            best_metrics['highest_macro_f1'] = {'value': macro_avg.get('f1-score', 0), 'model_index': index, 'model': model}\n",
    "        if weighted_avg.get('f1-score', 0) > best_metrics['highest_weighted_f1']['value']:\n",
    "            best_metrics['highest_weighted_f1'] = {'value': weighted_avg.get('f1-score', 0), 'model_index': index, 'model': model}\n",
    "        if macro_avg.get('precision', 0) > best_metrics['highest_macro_precision']['value']:\n",
    "            best_metrics['highest_macro_precision'] = {'value': macro_avg.get('precision', 0), 'model_index': index, 'model': model}\n",
    "        if macro_avg.get('recall', 0) > best_metrics['highest_macro_recall']['value']:\n",
    "            best_metrics['highest_macro_recall'] = {'value': macro_avg.get('recall', 0), 'model_index': index, 'model': model}\n",
    "\n",
    "    return best_metrics\n"
   ]
  },
  {
   "cell_type": "code",
   "execution_count": null,
   "id": "25d97922-8b89-4d87-a8d4-270b7bbb4d06",
   "metadata": {},
   "outputs": [],
   "source": [
    "lst_reports = [svc_report,lr_report, rfc_report, nb_report, gb_report]"
   ]
  },
  {
   "cell_type": "code",
   "execution_count": null,
   "id": "d3c40da2-f0c6-4747-b56d-8c8f13f5ed99",
   "metadata": {},
   "outputs": [],
   "source": [
    "best_metrics = get_best_model(lst_reports)"
   ]
  },
  {
   "cell_type": "code",
   "execution_count": null,
   "id": "a2c52071-100e-4dff-9187-ce8ec9dfb36d",
   "metadata": {},
   "outputs": [],
   "source": [
    "for metric, result in best_metrics.items(): \n",
    "    print(f\"{metric}: Value = {result['value']}, Model Index = {result['model_index']}\")"
   ]
  },
  {
   "cell_type": "code",
   "execution_count": null,
   "id": "0c8d8c3f-b8de-436e-9230-eefebf4d971b",
   "metadata": {},
   "outputs": [],
   "source": [
    "lst_reports[2]"
   ]
  },
  {
   "cell_type": "code",
   "execution_count": null,
   "id": "e8626368-831d-4760-9f57-fe5658071d53",
   "metadata": {},
   "outputs": [],
   "source": [
    "#Due to this, the best average model is RFC, which is random forest classifier!"
   ]
  },
  {
   "cell_type": "code",
   "execution_count": null,
   "id": "7c68030d-5b7f-4a4c-8d2f-347f1eb40ac7",
   "metadata": {},
   "outputs": [],
   "source": []
  }
 ],
 "metadata": {
  "kernelspec": {
   "display_name": "Python 3 (ipykernel)",
   "language": "python",
   "name": "python3"
  },
  "language_info": {
   "codemirror_mode": {
    "name": "ipython",
    "version": 3
   },
   "file_extension": ".py",
   "mimetype": "text/x-python",
   "name": "python",
   "nbconvert_exporter": "python",
   "pygments_lexer": "ipython3",
   "version": "3.9.13"
  }
 },
 "nbformat": 4,
 "nbformat_minor": 5
}
